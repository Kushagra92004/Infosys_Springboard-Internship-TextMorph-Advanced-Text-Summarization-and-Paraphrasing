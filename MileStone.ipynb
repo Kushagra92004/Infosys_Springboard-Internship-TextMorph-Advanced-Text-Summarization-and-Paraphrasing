!pip install nltk spacy wordcloud matplotlib pandas langdetect textstat --quiet

# Import core libraries
import nltk
import spacy
import pandas as pd
import matplotlib.pyplot as plt
import requests
import re
import ssl
from collections import Counter, defaultdict
from wordcloud import WordCloud, STOPWORDS

try:
    _create_unverified_https_context = ssl._create_unverified_context
except AttributeError:
    pass
else:
    ssl._create_default_https_context = _create_unverified_https_context

# Download ALL required NLTK data (updated for NLTK 3.9+)
nltk_downloads = [
    'punkt', 'punkt_tab', 'stopwords', 'wordnet',
    'averaged_perceptron_tagger', 'averaged_perceptron_tagger_eng',
    'vader_lexicon', 'omw-1.4', 'brown', 'names'
]

print("Downloading NLTK data...")
for item in nltk_downloads:
    try:
        nltk.download(item, quiet=True)
        print(f"Downloaded: {item}")
    except Exception as e:
        print(f"Could not download {item}: {e}")

# Download and load spaCy model
try:
    nlp = spacy.load("en_core_web_sm")
    print("spaCy model loaded successfully")
except OSError:
    print("Downloading spaCy model...")
    !python -m spacy download en_core_web_sm
    nlp = spacy.load("en_core_web_sm")
    print("spaCy model downloaded and loaded")

print("\nAll libraries and data successfully loaded!")

