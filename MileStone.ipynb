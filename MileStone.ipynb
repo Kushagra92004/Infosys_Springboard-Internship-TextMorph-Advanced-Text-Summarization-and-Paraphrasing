{
  "nbformat": 4,
  "nbformat_minor": 0,
  "metadata": {
    "colab": {
      "provenance": [],
      "gpuType": "T4",
      "include_colab_link": true
    },
    "kernelspec": {
      "name": "python3",
      "display_name": "Python 3"
    },
    "language_info": {
      "name": "python"
    },
    "accelerator": "GPU"
  },
  "cells": [
    {
      "cell_type": "markdown",
      "metadata": {
        "id": "view-in-github",
        "colab_type": "text"
      },
      "source": [
        "<a href=\"https://colab.research.google.com/github/Kushagra92004/Infosys_Springboard-Internship-TextMorph-Advanced-Text-Summarization-and-Paraphrasing/blob/main/MileStone.ipynb\" target=\"_parent\"><img src=\"https://colab.research.google.com/assets/colab-badge.svg\" alt=\"Open In Colab\"/></a>"
      ]
    },
    {
      "cell_type": "markdown",
      "source": [
        "# Introduction to Google Colab"
      ],
      "metadata": {
        "id": "TWJ3P5snVyuf"
      }
    },
    {
      "cell_type": "markdown",
      "source": [
        "What is Google Colab?\n",
        "\n",
        "Google Colab is a free, cloud-based tool that lets you write and run Python code directly in your web browser. It's like a Google Doc, but for code.\n",
        "\n",
        "Why are we using it?\n",
        "\n",
        "The most important reason is that Colab provides free access to powerful hardware, specifically GPUs (Graphics Processing Units). Training and running large AI models is computationally intensive. A GPU speeds this process up dramatically, making our projects feasible.\n",
        "\n",
        "Action Item: Set up your Colab Notebook\n",
        "\n",
        "Enable the GPU: In the menu, go to Runtime -> Change runtime type. In the pop-up window, select T4 GPU from the \"Hardware accelerator\" dropdown and click Save.\n",
        "\n",
        "Verify the GPU: Run the code cell below. You should see a table with details about the GPU.\n",
        "\n"
      ],
      "metadata": {
        "id": "gpXdfRPUWIlZ"
      }
    },
    {
      "cell_type": "code",
      "execution_count": 2,
      "metadata": {
        "colab": {
          "base_uri": "https://localhost:8080/"
        },
        "id": "D-mYw4n-VtcI",
        "outputId": "6a681d4d-769a-4489-f0eb-3a2677dbb184"
      },
      "outputs": [
        {
          "output_type": "stream",
          "name": "stdout",
          "text": [
            "Sun Oct  5 19:49:34 2025       \n",
            "+-----------------------------------------------------------------------------------------+\n",
            "| NVIDIA-SMI 550.54.15              Driver Version: 550.54.15      CUDA Version: 12.4     |\n",
            "|-----------------------------------------+------------------------+----------------------+\n",
            "| GPU  Name                 Persistence-M | Bus-Id          Disp.A | Volatile Uncorr. ECC |\n",
            "| Fan  Temp   Perf          Pwr:Usage/Cap |           Memory-Usage | GPU-Util  Compute M. |\n",
            "|                                         |                        |               MIG M. |\n",
            "|=========================================+========================+======================|\n",
            "|   0  Tesla T4                       Off |   00000000:00:04.0 Off |                    0 |\n",
            "| N/A   39C    P8              9W /   70W |       0MiB /  15360MiB |      0%      Default |\n",
            "|                                         |                        |                  N/A |\n",
            "+-----------------------------------------+------------------------+----------------------+\n",
            "                                                                                         \n",
            "+-----------------------------------------------------------------------------------------+\n",
            "| Processes:                                                                              |\n",
            "|  GPU   GI   CI        PID   Type   Process name                              GPU Memory |\n",
            "|        ID   ID                                                               Usage      |\n",
            "|=========================================================================================|\n",
            "|  No running processes found                                                             |\n",
            "+-----------------------------------------------------------------------------------------+\n"
          ]
        }
      ],
      "source": [
        "# This command checks for and displays information about the connected GPU.\n",
        "# A table with GPU details means you're all set!\n",
        "!nvidia-smi"
      ]
    },
    {
      "cell_type": "markdown",
      "source": [
        "# Python 101 for AI Projects\n",
        "Python is the #1 language for AI because of its simple syntax and powerful libraries. Let's review the core concepts you'll need. Run the code cells below to see them in action!\n",
        "\n",
        "## Variables and Strings\n",
        "A variable is a container for storing data. A string is a data type used for text. We'll be working with strings constantly."
      ],
      "metadata": {
        "id": "q070d_MIWXcM"
      }
    },
    {
      "cell_type": "code",
      "source": [
        "# A variable named 'sample_text' holding a multi-line string.\n",
        "sample_text = \"\"\"\n",
        "Artificial Intelligence is transforming industries by automating tasks and improving efficiency.\n",
        "In healthcare, AI-powered tools assist in diagnosis and personalized treatment.\n",
        "Despite its advantages, AI also raises ethical and privacy concerns that require careful consideration.\n",
        "\"\"\"\n",
        "\n",
        "# The print() function displays the value of the variable.\n",
        "# The f\"\" syntax is called an f-string, which makes it easy to include variables in text.\n",
        "print(f\"Our sample text has {len(sample_text)} characters.\")"
      ],
      "metadata": {
        "colab": {
          "base_uri": "https://localhost:8080/"
        },
        "id": "G_pp12vfWZet",
        "outputId": "6e5f1f92-e9f3-4d51-e77a-8ac226692048"
      },
      "execution_count": 4,
      "outputs": [
        {
          "output_type": "stream",
          "name": "stdout",
          "text": [
            "Our sample text has 282 characters.\n"
          ]
        }
      ]
    },
    {
      "cell_type": "markdown",
      "source": [
        "## Lists\n",
        "A list is a collection of items in a specific order. We can split our sample_text into a list of sentences. This is a fundamental first step in many NLP tasks.\n",
        "\n"
      ],
      "metadata": {
        "id": "hJV4J5BmWgtC"
      }
    },
    {
      "cell_type": "code",
      "source": [
        "# The.split() method on a string can break it into a list.\n",
        "# Here, we split the text wherever there is a new line character ('\\n').\n",
        "sentences = sample_text.strip().split('\\n')\n",
        "\n",
        "# Let's see what our list looks like.\n",
        "print(\"The text split into a list of sentences:\")\n",
        "print(sentences)\n",
        "\n",
        "# You can access an item in the list by its index (starting from 0).\n",
        "first_sentence = sentences\n",
        "print(f\"\\nThe first sentence is: '{first_sentence}'\")"
      ],
      "metadata": {
        "colab": {
          "base_uri": "https://localhost:8080/"
        },
        "id": "ZDqgvSPlWqsP",
        "outputId": "532e7c3f-4bee-4775-dccd-98522d026017"
      },
      "execution_count": null,
      "outputs": [
        {
          "output_type": "stream",
          "name": "stdout",
          "text": [
            "The text split into a list of sentences:\n",
            "['Artificial Intelligence is transforming industries by automating tasks and improving efficiency.', 'In healthcare, AI-powered tools assist in diagnosis and personalized treatment.', 'Despite its advantages, AI also raises ethical and privacy concerns that require careful consideration.']\n",
            "\n",
            "The first sentence is: '['Artificial Intelligence is transforming industries by automating tasks and improving efficiency.', 'In healthcare, AI-powered tools assist in diagnosis and personalized treatment.', 'Despite its advantages, AI also raises ethical and privacy concerns that require careful consideration.']'\n"
          ]
        }
      ]
    },
    {
      "cell_type": "markdown",
      "source": [
        "## Loops and Conditionals\n",
        "A for loop lets us repeat an action for every item in a list. Conditionals (if statements) allow our code to make decisions. Let's combine them to analyze our sentences."
      ],
      "metadata": {
        "id": "YrlzgO2aYeqL"
      }
    },
    {
      "cell_type": "code",
      "source": [
        "# This loop will go through each sentence and perform a check.\n",
        "print(\"Analyzing each sentence:\")\n",
        "for sentence in sentences:\n",
        "    # We use an 'if' statement to check a condition.\n",
        "    # Let's find sentences that are longer than 70 characters.\n",
        "    if len(sentence) > 70:\n",
        "        print(f\"- This sentence is long: '{sentence}'\")\n",
        "    else:\n",
        "        print(f\"- This sentence is short: '{sentence}'\")"
      ],
      "metadata": {
        "colab": {
          "base_uri": "https://localhost:8080/"
        },
        "id": "6uCLO5UmYgzi",
        "outputId": "0a597765-88bf-498f-eff8-7ae3e056883a"
      },
      "execution_count": null,
      "outputs": [
        {
          "output_type": "stream",
          "name": "stdout",
          "text": [
            "Analyzing each sentence:\n",
            "- This sentence is long: 'Artificial Intelligence is transforming industries by automating tasks and improving efficiency.'\n",
            "- This sentence is long: 'In healthcare, AI-powered tools assist in diagnosis and personalized treatment.'\n",
            "- This sentence is long: 'Despite its advantages, AI also raises ethical and privacy concerns that require careful consideration.'\n"
          ]
        }
      ]
    },
    {
      "cell_type": "markdown",
      "source": [
        "## Functions\n",
        "Functions are reusable blocks of code that perform a specific task. Defining functions is the best way to keep your code organized. Let's create a function to preprocess our text.\n",
        "\n"
      ],
      "metadata": {
        "id": "cmZCCSTCYn-u"
      }
    },
    {
      "cell_type": "code",
      "source": [
        "# This function takes a SINGLE string, converts it to lowercase, and removes punctuation.\n",
        "def preprocess_text(text):\n",
        "    # Convert to lowercase\n",
        "    text = text.lower()\n",
        "    # Remove punctuation (periods and commas)\n",
        "    text = text.replace(\".\", \"\")\n",
        "    text = text.replace(\",\", \"\")\n",
        "    return text\n",
        "\n",
        "# Let's use our function on the first sentence from our list.\n",
        "# We use sentences to select the first item.\n",
        "original_sentence = 'GOOD Evening'\n",
        "processed_sentence = preprocess_text(original_sentence)\n",
        "\n",
        "print(f\"Original:  '{original_sentence}'\")\n",
        "print(f\"Processed: '{processed_sentence}'\")"
      ],
      "metadata": {
        "colab": {
          "base_uri": "https://localhost:8080/"
        },
        "id": "-HHdvMF2Yp4I",
        "outputId": "a22df87c-8515-4778-cd07-1a368b4cf3e2"
      },
      "execution_count": null,
      "outputs": [
        {
          "output_type": "stream",
          "name": "stdout",
          "text": [
            "Original:  'GOOD Evening'\n",
            "Processed: 'good evening'\n"
          ]
        }
      ]
    },
    {
      "cell_type": "markdown",
      "source": [
        "## File I/O (Input/Output)\n",
        "\n"
      ],
      "metadata": {
        "id": "2SmTmJpgbAb3"
      }
    },
    {
      "cell_type": "code",
      "source": [
        "# This code writes a simple Python function into a file named 'utils.py'\n",
        "file_name = \"utils.py\"\n",
        "code_to_write = \"\"\"\n",
        "def calculate_tax(price, rate=0.05):\n",
        "    # This function calculates the sales tax.\n",
        "    return price * rate\n",
        "\n",
        "\"\"\"\n",
        "\n",
        "with open(file_name, \"w\") as f:\n",
        "    f.write(code_to_write)\n",
        "\n",
        "print(f\"File '{file_name}' created successfully.\")\n",
        "\n",
        "# Now, let's read the content back from the file we just created.\n",
        "with open(file_name, \"r\") as f:\n",
        "    file_content = f.read()\n",
        "\n",
        "print(\"\\n--- Content read from the file ---\")\n",
        "print(file_content)"
      ],
      "metadata": {
        "colab": {
          "base_uri": "https://localhost:8080/"
        },
        "id": "gM6ehbFabILE",
        "outputId": "2ce415c9-3524-45d4-8f70-154b620db9b1"
      },
      "execution_count": null,
      "outputs": [
        {
          "output_type": "stream",
          "name": "stdout",
          "text": [
            "File 'utils.py' created successfully.\n",
            "\n",
            "--- Content read from the file ---\n",
            "\n",
            "def calculate_tax(price, rate=0.05):\n",
            "    # This function calculates the sales tax.\n",
            "    return price * rate\n",
            "\n",
            "\n"
          ]
        }
      ]
    },
    {
      "cell_type": "markdown",
      "source": [
        "## Importing Libraries\n",
        "Python's real power comes from its libraries. The import statement allows us to use code written by others. We will be importing libraries like transformers to access pre-built AI models and os to interact with the file system."
      ],
      "metadata": {
        "id": "tn5mYh5MbLWo"
      }
    },
    {
      "cell_type": "code",
      "source": [
        "# The 'os' library lets us work with files and directories.\n",
        "import os\n",
        "\n",
        "# Let's create a directory for our projects\n",
        "os.makedirs(\"my_projects\", exist_ok=True)\n",
        "\n",
        "# os.listdir() shows us the contents of the current directory\n",
        "print(\"Files in current directory:\")\n",
        "print(os.listdir(\".\"))"
      ],
      "metadata": {
        "colab": {
          "base_uri": "https://localhost:8080/"
        },
        "id": "qNuaywKGbRR9",
        "outputId": "91509838-a599-4871-a0b6-789a728c37a3"
      },
      "execution_count": null,
      "outputs": [
        {
          "output_type": "stream",
          "name": "stdout",
          "text": [
            "Files in current directory:\n",
            "['.config', 'my_projects', 'utils.py', 'sample_data']\n"
          ]
        }
      ]
    },
    {
      "cell_type": "code",
      "source": [
        "!pip install numpy matplotlib"
      ],
      "metadata": {
        "colab": {
          "base_uri": "https://localhost:8080/"
        },
        "id": "bfTP0ZvTrHf3",
        "outputId": "690dbb5f-e5f5-45ad-c042-f7838e09c3de"
      },
      "execution_count": 3,
      "outputs": [
        {
          "output_type": "stream",
          "name": "stdout",
          "text": [
            "Requirement already satisfied: numpy in /usr/local/lib/python3.12/dist-packages (2.0.2)\n",
            "Requirement already satisfied: matplotlib in /usr/local/lib/python3.12/dist-packages (3.10.0)\n",
            "Requirement already satisfied: contourpy>=1.0.1 in /usr/local/lib/python3.12/dist-packages (from matplotlib) (1.3.3)\n",
            "Requirement already satisfied: cycler>=0.10 in /usr/local/lib/python3.12/dist-packages (from matplotlib) (0.12.1)\n",
            "Requirement already satisfied: fonttools>=4.22.0 in /usr/local/lib/python3.12/dist-packages (from matplotlib) (4.60.1)\n",
            "Requirement already satisfied: kiwisolver>=1.3.1 in /usr/local/lib/python3.12/dist-packages (from matplotlib) (1.4.9)\n",
            "Requirement already satisfied: packaging>=20.0 in /usr/local/lib/python3.12/dist-packages (from matplotlib) (25.0)\n",
            "Requirement already satisfied: pillow>=8 in /usr/local/lib/python3.12/dist-packages (from matplotlib) (11.3.0)\n",
            "Requirement already satisfied: pyparsing>=2.3.1 in /usr/local/lib/python3.12/dist-packages (from matplotlib) (3.2.5)\n",
            "Requirement already satisfied: python-dateutil>=2.7 in /usr/local/lib/python3.12/dist-packages (from matplotlib) (2.9.0.post0)\n",
            "Requirement already satisfied: six>=1.5 in /usr/local/lib/python3.12/dist-packages (from python-dateutil>=2.7->matplotlib) (1.17.0)\n"
          ]
        }
      ]
    },
    {
      "cell_type": "code",
      "source": [],
      "metadata": {
        "id": "exHbemFKrSDP"
      },
      "execution_count": null,
      "outputs": []
    }
  ]
}