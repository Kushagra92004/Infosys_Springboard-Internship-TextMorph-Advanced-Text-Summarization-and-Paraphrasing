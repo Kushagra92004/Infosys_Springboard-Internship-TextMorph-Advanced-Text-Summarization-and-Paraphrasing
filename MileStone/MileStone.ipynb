{
  "cells": [
    {
      "cell_type": "markdown",
      "metadata": {
        "id": "DTrm9522q32A"
      },
      "source": []
    },
    {
      "cell_type": "markdown",
      "metadata": {
        "id": "oc00FxNZq7vO"
      },
      "source": [
        "###  Session Setup\n"
      ]
    },
    {
      "cell_type": "code",
      "execution_count": null,
      "metadata": {
        "colab": {
          "base_uri": "https://localhost:8080/"
        },
        "id": "O-wvox98qyKD",
        "outputId": "3a9642b2-c3de-4645-b4ea-5bf34aa968fd"
      },
      "outputs": [
        {
          "name": "stdout",
          "output_type": "stream",
          "text": [
            "✅ Libraries installed.\n",
            "✅ Libraries imported successfully.\n"
          ]
        }
      ],
      "source": [
        "#@title 0.1: Install and Import Libraries\n",
        "# Install the required libraries quietly.\n",
        "!pip install transformers sentencepiece --quiet\n",
        "print(\"✅ Libraries installed.\")\n",
        "\n",
        "# Import the necessary classes from the transformers library.\n",
        "from transformers import T5ForConditionalGeneration, T5Tokenizer\n",
        "from transformers import PegasusForConditionalGeneration, PegasusTokenizer\n",
        "# 'textwrap' is a great tool for formatting our output nicely.\n",
        "import textwrap\n",
        "print(\"✅ Libraries imported successfully.\")"
      ]
    },
    {
      "cell_type": "markdown",
      "metadata": {
        "id": "UaqeWO1IrNeY"
      },
      "source": []
    },
    {
      "cell_type": "markdown",
      "metadata": {
        "id": "cJIHwvebrP99"
      },
      "source": [
        "### Loading Our T5 Summarization Model\n"
      ]
    },
    {
      "cell_type": "code",
      "execution_count": null,
      "metadata": {
        "colab": {
          "base_uri": "https://localhost:8080/"
        },
        "id": "X4dvu3oLrbPD",
        "outputId": "4e16dda1-6e85-4e9e-fa99-d982f3c0be98"
      },
      "outputs": [
        {
          "name": "stderr",
          "output_type": "stream",
          "text": []
        },
        {
          "name": "stdout",
          "output_type": "stream",
          "text": [
            "✅ T5 Model ('t5-base') is loaded and ready!\n"
          ]
        }
      ],
      "source": [
        "#@title 1.2: Load the T5 Model and Tokenizer\n",
        "# The model name we'll be using.\n",
        "t5_model_name = 't5-base'\n",
        "\n",
        "# The Tokenizer is responsible for converting text into a format the model understands.\n",
        "t5_tokenizer = T5Tokenizer.from_pretrained(t5_model_name)\n",
        "\n",
        "# The Model is the pre-trained AI that performs the summarization.\n",
        "t5_model = T5ForConditionalGeneration.from_pretrained(t5_model_name)\n",
        "\n",
        "print(f\"✅ T5 Model ('{t5_model_name}') is loaded and ready!\")"
      ]
    },
    {
      "cell_type": "markdown",
      "metadata": {
        "id": "RY0-wYwurl3E"
      },
      "source": [
        "###  The Summarizer Function\n"
      ]
    },
    {
      "cell_type": "code",
      "execution_count": null,
      "metadata": {
        "id": "YBHP7QMDroLC"
      },
      "outputs": [],
      "source": [
        "#@title 1.3: Define the Core Summarizer Function\n",
        "def generate_summary(text, min_len=40, max_len=120, beams=4):\n",
        "    \"\"\"\n",
        "    Generates a high-quality abstractive summary for a given text using the T5 model.\n",
        "    \"\"\"\n",
        "    # T5 models require a \"summarize: \" prefix to know which task to perform.\n",
        "    input_text = \"summarize: \" + text.strip().replace(\"\\n\", \" \")\n",
        "\n",
        "    # Tokenize the text, ensuring it's not too long for the model.\n",
        "    inputs = t5_tokenizer.encode(input_text, return_tensors='pt', max_length=1024, truncation=True)\n",
        "\n",
        "    # Generate the summary using our specified parameters.\n",
        "    summary_ids = t5_model.generate(\n",
        "        inputs,\n",
        "        max_length=max_len,\n",
        "        min_length=min_len,\n",
        "        num_beams=beams,\n",
        "        no_repeat_ngram_size=3, # Prevents repeating phrases of 3 words.\n",
        "        length_penalty=2.0,\n",
        "        early_stopping=True\n",
        "    )\n",
        "\n",
        "    # Decode the result back into human-readable text.\n",
        "    summary = t5_tokenizer.decode(summary_ids[0], skip_special_tokens=True)\n",
        "    return summary"
      ]
    },
    {
      "cell_type": "markdown",
      "metadata": {
        "id": "7TIIS-hCrrJM"
      },
      "source": [
        "###  Code Examples with Diverse Texts\n"
      ]
    },
    {
      "cell_type": "code",
      "execution_count": null,
      "metadata": {
        "colab": {
          "base_uri": "https://localhost:8080/"
        },
        "id": "dlY39-otrsL_",
        "outputId": "a81e98bd-d7a7-4271-d2de-a9b58ad9d361"
      },
      "outputs": [
        {
          "name": "stdout",
          "output_type": "stream",
          "text": []
        }
      ],
      "source": [
        "#@title: Example 1 - Technical Text (Quantum Computing)\n",
        "technical_text = \"\"\"\n",
        "Quantum computing is a revolutionary type of computation that harnesses the collective properties of quantum states,\n",
        "such as superposition and entanglement, to perform calculations. While classical computers use bits that can be either\n",
        "a 0 or a 1, a quantum computer uses qubits, which can be a 0, a 1, or both at the same time. This fundamental difference\n",
        "allows quantum computers to solve complex problems that are intractable for even the most powerful classical supercomputers,\n",
        "with potential applications in cryptography, materials science, and drug discovery.\n",
        "\"\"\"\n",
        "\n",
        "summary = generate_summary(technical_text, min_len=25, max_len=50)\n",
        "\n",
        "print(\"----------- TECHNICAL TEXT -----------\")\n",
        "print(textwrap.fill(technical_text, width=100))\n",
        "print(\"\\n✨---------- T5 SUMMARY -----------✨\")\n",
        "print(textwrap.fill(summary, width=100))"
      ]
    },
    {
      "cell_type": "code",
      "execution_count": null,
      "metadata": {
        "colab": {
          "base_uri": "https://localhost:8080/"
        },
        "id": "cP1O3t4Mr0k7",
        "outputId": "30188a8e-1630-4940-9dd6-97b4daf53f00"
      },
      "outputs": [
        {
          "name": "stdout",
          "output_type": "stream",
          "text": []
        }
      ],
      "source": [
        "#@title: Example 2 - Business Text (Market Analysis)\n",
        "business_text = \"\"\"\n",
        "The global market for renewable energy is projected to experience robust growth over the next decade. Key drivers include\n",
        "increasing government incentives for clean energy, declining costs of solar and wind technologies, and growing consumer\n",
        "awareness regarding climate change. However, challenges remain, such as the intermittency of renewable sources and the\n",
        "need for significant grid infrastructure upgrades. Companies that can innovate in energy storage solutions and grid\n",
        "management are best positioned to capitalize on this market trend.\n",
        "\"\"\"\n",
        "\n",
        "summary = generate_summary(business_text, min_len=30, max_len=90)\n",
        "\n",
        "print(\"----------- BUSINESS TEXT -----------\")\n",
        "print(textwrap.fill(business_text, width=100))\n",
        "print(\"\\n✨---------- T5 SUMMARY -----------✨\")\n",
        "print(textwrap.fill(summary, width=100))"
      ]
    },
    {
      "cell_type": "code",
      "execution_count": null,
      "metadata": {
        "colab": {
          "base_uri": "https://localhost:8080/"
        },
        "id": "bA8SZFWHr1z0",
        "outputId": "8ae12224-cef4-4dd5-fc63-8e63c8b0b56b"
      },
      "outputs": [
        {
          "name": "stdout",
          "output_type": "stream",
          "text": []
        }
      ],
      "source": [
        "#@title: Example 3 - Creative Text (Literary Description)\n",
        "creative_text = \"\"\"\n",
        "The ancient library was a labyrinth of shadows and whispered knowledge. Sunlight struggled through a high,\n",
        "arched window, illuminating motes of dust that danced like tiny sprites in the golden shafts of light.\n",
        "The air smelled of aging paper, leather, and a faint, sweet hint of vanilla. Every towering bookshelf\n",
        "was a gateway to another world, each leather-bound volume a silent promise of adventure, history,\n",
        "or forgotten magic. It was a place where time itself seemed to slow down, holding its breath in reverence\n",
        "for the stories it contained.\n",
        "\"\"\"\n",
        "\n",
        "summary = generate_summary(creative_text, min_len=20, max_len=70)\n",
        "\n",
        "print(\"----------- CREATIVE TEXT -----------\")\n",
        "print(textwrap.fill(creative_text, width=100))\n",
        "print(\"\\n✨---------- T5 SUMMARY -----------✨\")\n",
        "print(textwrap.fill(summary, width=100))"
      ]
    },
    {
      "cell_type": "markdown",
      "metadata": {
        "id": "hk9L0LrpsAis"
      },
      "source": [
        "### The Interactive Summarizer Studio\n"
      ]
    },
    {
      "cell_type": "code",
      "execution_count": null,
      "metadata": {
        "colab": {
          "base_uri": "https://localhost:8080/"
        },
        "id": "tYi2rfyHsB8V",
        "outputId": "446c70bd-2921-4397-9d5e-73f33bd2a0f3"
      },
      "outputs": [
        {
          "name": "stdout",
          "output_type": "stream",
          "text": []
        }
      ],
      "source": [
        "#@title: Your Interactive Summarizer Studio! ⚡️\n",
        "#@markdown ### 👈 Paste your text below and tune the parameters!\n",
        "input_text = 'The James Webb Space Telescope (JWST) is a space telescope designed primarily to conduct infrared astronomy. As the largest optical telescope in space, its high resolution and sensitivity allow it to view objects too old, distant, or faint for the Hubble Space Telescope. This has enabled investigations in many fields of astronomy and cosmology, such as observation of the first stars, the formation of the first galaxies, and detailed atmospheric characterization of potentially habitable exoplanets. The U.S. National Aeronautics and Space Administration (NASA) led JWST\\'s development in collaboration with the European Space Agency (ESA) and the Canadian Space Agency (CSA).' #@param {type:\"string\"}\n",
        "min_length = 45 #@param {type:\"slider\", min:10, max:100, step:5}\n",
        "max_length = 140 #@param {type:\"slider\", min:50, max:200, step:10}\n",
        "num_beams = 5 #@param {type:\"slider\", min:2, max:8, step:1}\n",
        "\n",
        "# --- Run the summarizer with your settings ---\n",
        "generated_summary = generate_summary(input_text, min_len=min_length, max_len=max_length, beams=num_beams)\n",
        "\n",
        "# --- Display the results and analysis ---\n",
        "original_word_count = len(input_text.split())\n",
        "summary_word_count = len(generated_summary.split())\n",
        "reduction = 100 - (summary_word_count / original_word_count * 100)\n",
        "\n",
        "print(\"----------- YOUR INPUT TEXT -----------\")\n",
        "print(textwrap.fill(input_text, width=100))\n",
        "print(\"\\n✨---------- GENERATED SUMMARY -----------✨\")\n",
        "print(textwrap.fill(generated_summary, width=100))\n",
        "print(\"\\n📊---------- ANALYSIS -----------📊\")\n",
        "print(f\"Original Word Count: {original_word_count}\")\n",
        "print(f\"Summary Word Count: {summary_word_count}\")\n",
        "print(f\"Text Reduction: {reduction:.1f}%\")"
      ]
    },
    {
      "cell_type": "markdown",
      "metadata": {
        "id": "44GIzYCotHVw"
      },
      "source": [
        "###  The Paraphraser Function\n",
        "\n",
        "\n"
      ]
    },
    {
      "cell_type": "code",
      "execution_count": null,
      "metadata": {
        "id": "aOrP0UGAtIz5"
      },
      "outputs": [],
      "source": [
        "#@title : Paraphraser Function\n",
        "def generate_paraphrases(text, num_return=5, beams=10):\n",
        "    \"\"\"\n",
        "    Generates multiple high-quality paraphrases for a given text using the PEGASUS model.\n",
        "    \"\"\"\n",
        "    # Tokenize the input text.\n",
        "    inputs = pegasus_tokenizer.encode(text, return_tensors='pt', truncation=True)\n",
        "\n",
        "    # Generate the paraphrases using beam search.\n",
        "    paraphrase_ids = pegasus_model.generate(\n",
        "        inputs,\n",
        "        max_length=60,\n",
        "        num_beams=beams,\n",
        "        num_return_sequences=num_return,\n",
        "        early_stopping=True\n",
        "    )\n",
        "\n",
        "    # Decode the results back into text.\n",
        "    paraphrases = pegasus_tokenizer.batch_decode(paraphrase_ids, skip_special_tokens=True)\n",
        "    return paraphrases"
      ]
    },
    {
      "cell_type": "markdown",
      "metadata": {
        "id": "F3NCR6HFtZAk"
      },
      "source": [
        "###  Code Examples with Diverse Sentences\n"
      ]
    },
    {
      "cell_type": "code",
      "execution_count": null,
      "metadata": {
        "colab": {
          "base_uri": "https://localhost:8080/"
        },
        "id": "zf5GrvdktaX-",
        "outputId": "88cf6d12-813e-4c78-88e1-4b665f749612"
      },
      "outputs": [
        {
          "name": "stdout",
          "output_type": "stream",
          "text": []
        }
      ],
      "source": [
        "#@title: Example 1 - Formal / Academic Sentence\n",
        "formal_sentence = \"The empirical data indicates a statistically significant correlation between the two variables.\"\n",
        "paraphrases = generate_paraphrases(formal_sentence, num_return=4)\n",
        "\n",
        "print(f\"----------- ORIGINAL FORMAL SENTENCE -----------\\n'{formal_sentence}'\\n\")\n",
        "print(\"🤖---------- PEGASUS PARAPHRASES ----------🤖\")\n",
        "for i, p in enumerate(paraphrases):\n",
        "    print(f\"  {i+1}. {p}\")"
      ]
    },
    {
      "cell_type": "code",
      "execution_count": null,
      "metadata": {
        "colab": {
          "base_uri": "https://localhost:8080/"
        },
        "id": "VIyYbuHfti7J",
        "outputId": "601cacc9-bfa5-4d77-d185-f1d99a641b6c"
      },
      "outputs": [
        {
          "name": "stdout",
          "output_type": "stream",
          "text": []
        }
      ],
      "source": [
        "#@title: Example 2 - Casual / Idiomatic Sentence\n",
        "casual_sentence = \"To be honest, that new project is a real pain in the neck.\"\n",
        "paraphrases = generate_paraphrases(casual_sentence, num_return=4)\n",
        "\n",
        "print(f\"----------- ORIGINAL CASUAL SENTENCE -----------\\n'{casual_sentence}'\\n\")\n",
        "print(\"🤖---------- PEGASUS PARAPHRASES ----------🤖\")\n",
        "for i, p in enumerate(paraphrases):\n",
        "    print(f\"  {i+1}. {p}\")"
      ]
    },
    {
      "cell_type": "code",
      "execution_count": null,
      "metadata": {
        "colab": {
          "base_uri": "https://localhost:8080/"
        },
        "id": "3klrMh-gtqS1",
        "outputId": "1f508550-6794-409e-c5f2-ee2633cc5ca6"
      },
      "outputs": [
        {
          "name": "stdout",
          "output_type": "stream",
          "text": []
        }
      ],
      "source": [
        "#@title: Example 3 - Marketing Call-to-Action\n",
        "marketing_sentence = \"Don't miss out on our exclusive offer – shop now to save 50%!\"\n",
        "paraphrases = generate_paraphrases(marketing_sentence, num_return=4)\n",
        "\n",
        "print(f\"----------- ORIGINAL MARKETING SENTENCE -----------\\n'{marketing_sentence}'\\n\")\n",
        "print(\"🤖---------- PEGASUS PARAPHRASES ----------🤖\")\n",
        "for i, p in enumerate(paraphrases):\n",
        "    print(f\"  {i+1}. {p}\")"
      ]
    },
    {
      "cell_type": "markdown",
      "metadata": {
        "id": "Wi1ZSh1ntwng"
      },
      "source": [
        "### Section 2.5: The Interactive Paraphraser Playground\n"
      ]
    },
    {
      "cell_type": "code",
      "execution_count": null,
      "metadata": {
        "colab": {
          "base_uri": "https://localhost:8080/"
        },
        "id": "zNNmDBpQtx78",
        "outputId": "3abe3a43-14a4-4008-8427-43563108e9c1"
      },
      "outputs": [
        {
          "name": "stdout",
          "output_type": "stream",
          "text": []
        }
      ],
      "source": [
        "#@title: Your Interactive Paraphraser Playground! ⚡️\n",
        "#@markdown ### 👈 Type your sentence and choose your settings!\n",
        "input_sentence = \"Learning new skills is essential for career growth.\" #@param {type:\"string\"}\n",
        "num_paraphrases = 5 #@param {type:\"slider\", min:1, max:10, step:1}\n",
        "quality_vs_speed_beams = 9 #@param {type:\"slider\", min:2, max:15, step:1}\n",
        "\n",
        "# --- Run the paraphraser with your settings ---\n",
        "generated_paraphrases = generate_paraphrases(input_sentence, num_return=num_paraphrases, beams=quality_vs_speed_beams)\n",
        "\n",
        "# --- Display the results ---\n",
        "print(f\"----------- ORIGINAL SENTENCE -----------\\n'{input_sentence}'\\n\")\n",
        "print(f\"🤖---------- {len(generated_paraphrases)} GENERATED PARAPHRASES (Quality: {quality_vs_speed_beams}) ----------🤖\")\n",
        "for i, p in enumerate(generated_paraphrases):\n",
        "    print(f\"  {i+1}. {p}\")"
      ]
    }
  ],
  "metadata": {
    "colab": {
      "provenance": []
    },
    "kernelspec": {
      "display_name": "Python 3",
      "name": "python3"
    },
    "language_info": {
      "name": "python"
    }
  },
  "nbformat": 4,
  "nbformat_minor": 0
}
