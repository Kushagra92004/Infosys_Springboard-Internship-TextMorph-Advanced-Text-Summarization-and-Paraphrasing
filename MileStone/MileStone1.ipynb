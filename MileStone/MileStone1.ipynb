{
  "cells": [
    {
      "cell_type": "markdown",
      "metadata": {
        "id": "DTrm9522q32A"
      },
      "source": []
    },
    {
      "cell_type": "markdown",
      "metadata": {
        "id": "oc00FxNZq7vO"
      },
      "source": [
        "###  Session Setup\n"
      ]
    },
    {
      "cell_type": "code",
      "execution_count": null,
      "metadata": {
        "colab": {
          "base_uri": "https://localhost:8080/"
        },
        "id": "O-wvox98qyKD",
        "outputId": "3a9642b2-c3de-4645-b4ea-5bf34aa968fd"
      },
      "outputs": [
        {
          "name": "stdout",
          "output_type": "stream",
          "text": [
            "✅ Libraries installed.\n",
            "✅ Libraries imported successfully.\n"
          ]
        }
      ],
      "source": [
        "#@title 0.1: Install and Import Libraries\n",
        "# Install the required libraries quietly.\n",
        "!pip install transformers sentencepiece --quiet\n",
        "print(\"✅ Libraries installed.\")\n",
        "\n",
        "# Import the necessary classes from the transformers library.\n",
        "from transformers import T5ForConditionalGeneration, T5Tokenizer\n",
        "from transformers import PegasusForConditionalGeneration, PegasusTokenizer\n",
        "# 'textwrap' is a great tool for formatting our output nicely.\n",
        "import textwrap\n",
        "print(\"✅ Libraries imported successfully.\")"
      ]
    },
    {
      "cell_type": "markdown",
      "metadata": {
        "id": "UaqeWO1IrNeY"
      },
      "source": []
    },
    {
      "cell_type": "markdown",
      "metadata": {
        "id": "cJIHwvebrP99"
      },
      "source": [
        "### Loading Our T5 Summarization Model\n"
      ]
    },
    {
      "cell_type": "code",
      "execution_count": null,
      "metadata": {
        "colab": {
          "base_uri": "https://localhost:8080/"
        },
        "id": "X4dvu3oLrbPD",
        "outputId": "4e16dda1-6e85-4e9e-fa99-d982f3c0be98"
      },
      "outputs": [
        {
          "name": "stderr",
          "output_type": "stream",
          "text": []
        },
        {
          "name": "stdout",
          "output_type": "stream",
          "text": [
            "✅ T5 Model ('t5-base') is loaded and ready!\n"
          ]
        }
      ],
      "source": [
        "#@title 1.2: Load the T5 Model and Tokenizer\n",
        "# The model name we'll be using.\n",
        "t5_model_name = 't5-base'\n",
        "\n",
        "# The Tokenizer is responsible for converting text into a format the model understands.\n",
        "t5_tokenizer = T5Tokenizer.from_pretrained(t5_model_name)\n",
        "\n",
        "# The Model is the pre-trained AI that performs the summarization.\n",
        "t5_model = T5ForConditionalGeneration.from_pretrained(t5_model_name)\n",
        "\n",
        "print(f\"✅ T5 Model ('{t5_model_name}') is loaded and ready!\")"
      ]
    },
    {
      "cell_type": "markdown",
      "metadata": {
        "id": "RY0-wYwurl3E"
      },
      "source": [
        "###  The Summarizer Function\n"
      ]
    },
    {
      "cell_type": "code",
      "execution_count": null,
      "metadata": {
        "id": "YBHP7QMDroLC"
      },
      "outputs": [],
      "source": [
        "#@title 1.3: Define the Core Summarizer Function\n",
        "def generate_summary(text, min_len=40, max_len=120, beams=4):\n",
        "    \"\"\"\n",
        "    Generates a high-quality abstractive summary for a given text using the T5 model.\n",
        "    \"\"\"\n",
        "    # T5 models require a \"summarize: \" prefix to know which task to perform.\n",
        "    input_text = \"summarize: \" + text.strip().replace(\"\\n\", \" \")\n",
        "\n",
        "    # Tokenize the text, ensuring it's not too long for the model.\n",
        "    inputs = t5_tokenizer.encode(input_text, return_tensors='pt', max_length=1024, truncation=True)\n",
        "\n",
        "    # Generate the summary using our specified parameters.\n",
        "    summary_ids = t5_model.generate(\n",
        "        inputs,\n",
        "        max_length=max_len,\n",
        "        min_length=min_len,\n",
        "        num_beams=beams,\n",
        "        no_repeat_ngram_size=3, # Prevents repeating phrases of 3 words.\n",
        "        length_penalty=2.0,\n",
        "        early_stopping=True\n",
        "    )\n",
        "\n",
        "    # Decode the result back into human-readable text.\n",
        "    summary = t5_tokenizer.decode(summary_ids[0], skip_special_tokens=True)\n",
        "    return summary"
      ]
    },
    {
      "cell_type": "markdown",
      "metadata": {
        "id": "7TIIS-hCrrJM"
      },
      "source": [
        "###  Code Examples with Diverse Texts\n"
      ]
    },
    {
      "cell_type": "code",
      "execution_count": null,
      "metadata": {
        "colab": {
          "base_uri": "https://localhost:8080/"
        },
        "id": "dlY39-otrsL_",
        "outputId": "a81e98bd-d7a7-4271-d2de-a9b58ad9d361"
      },
      "outputs": [
        {
          "name": "stdout",
          "output_type": "stream",
          "text": []
        }
      ],
      "source": [
        "#@title: Example 1 - Technical Text (Quantum Computing)\n",
        "technical_text = \"\"\"\n",
        "Quantum computing is a revolutionary type of computation that harnesses the collective properties of quantum states,\n",
        "such as superposition and entanglement, to perform calculations. While classical computers use bits that can be either\n",
        "a 0 or a 1, a quantum computer uses qubits, which can be a 0, a 1, or both at the same time. This fundamental difference\n",
        "allows quantum computers to solve complex problems that are intractable for even the most powerful classical supercomputers,\n",
        "with potential applications in cryptography, materials science, and drug discovery.\n",
        "\"\"\"\n",
        "\n",
        "summary = generate_summary(technical_text, min_len=25, max_len=50)\n",
        "\n",
        "print(\"----------- TECHNICAL TEXT -----------\")\n",
        "print(textwrap.fill(technical_text, width=100))\n",
        "print(\"\\n✨---------- T5 SUMMARY -----------✨\")\n",
        "print(textwrap.fill(summary, width=100))"
      ]
    },
    {
      "cell_type": "code",
      "execution_count": null,
      "metadata": {
        "colab": {
          "base_uri": "https://localhost:8080/"
        },
        "id": "cP1O3t4Mr0k7",
        "outputId": "30188a8e-1630-4940-9dd6-97b4daf53f00"
      },
      "outputs": [
        {
          "name": "stdout",
          "output_type": "stream",
          "text": []
        }
      ],
      "source": [
        "#@title: Example 2 - Business Text (Market Analysis)\n",
        "business_text = \"\"\"\n",
        "The global market for renewable energy is projected to experience robust growth over the next decade. Key drivers include\n",
        "increasing government incentives for clean energy, declining costs of solar and wind technologies, and growing consumer\n",
        "awareness regarding climate change. However, challenges remain, such as the intermittency of renewable sources and the\n",
        "need for significant grid infrastructure upgrades. Companies that can innovate in energy storage solutions and grid\n",
        "management are best positioned to capitalize on this market trend.\n",
        "\"\"\"\n",
        "\n",
        "summary = generate_summary(business_text, min_len=30, max_len=90)\n",
        "\n",
        "print(\"----------- BUSINESS TEXT -----------\")\n",
        "print(textwrap.fill(business_text, width=100))\n",
        "print(\"\\n✨---------- T5 SUMMARY -----------✨\")\n",
        "print(textwrap.fill(summary, width=100))"
      ]
    },
    {
      "cell_type": "code",
      "execution_count": null,
      "metadata": {
        "colab": {
          "base_uri": "https://localhost:8080/"
        },
        "id": "bA8SZFWHr1z0",
        "outputId": "8ae12224-cef4-4dd5-fc63-8e63c8b0b56b"
      },
      "outputs": [
        {
          "name": "stdout",
          "output_type": "stream",
          "text": []
        }
      ],
      "source": [
        "#@title: Example 3 - Creative Text (Literary Description)\n",
        "creative_text = \"\"\"\n",
        "The ancient library was a labyrinth of shadows and whispered knowledge. Sunlight struggled through a high,\n",
        "arched window, illuminating motes of dust that danced like tiny sprites in the golden shafts of light.\n",
        "The air smelled of aging paper, leather, and a faint, sweet hint of vanilla. Every towering bookshelf\n",
        "was a gateway to another world, each leather-bound volume a silent promise of adventure, history,\n",
        "or forgotten magic. It was a place where time itself seemed to slow down, holding its breath in reverence\n",
        "for the stories it contained.\n",
        "\"\"\"\n",
        "\n",
        "summary = generate_summary(creative_text, min_len=20, max_len=70)\n",
        "\n",
        "print(\"----------- CREATIVE TEXT -----------\")\n",
        "print(textwrap.fill(creative_text, width=100))\n",
        "print(\"\\n✨---------- T5 SUMMARY -----------✨\")\n",
        "print(textwrap.fill(summary, width=100))"
      ]
    },
    {
      "cell_type": "markdown",
      "metadata": {
        "id": "hk9L0LrpsAis"
      },
      "source": [
        "### The Interactive Summarizer Studio\n"
      ]
    },
    {
      "cell_type": "code",
      "execution_count": null,
      "metadata": {
        "colab": {
          "base_uri": "https://localhost:8080/"
        },
        "id": "tYi2rfyHsB8V",
        "outputId": "446c70bd-2921-4397-9d5e-73f33bd2a0f3"
      },
      "outputs": [
        {
          "name": "stdout",
          "output_type": "stream",
          "text": []
        }
      ],
      "source": [
        "#@title: Your Interactive Summarizer Studio! ⚡️\n",
        "#@markdown ### 👈 Paste your text below and tune the parameters!\n",
        "input_text = 'The James Webb Space Telescope (JWST) is a space telescope designed primarily to conduct infrared astronomy. As the largest optical telescope in space, its high resolution and sensitivity allow it to view objects too old, distant, or faint for the Hubble Space Telescope. This has enabled investigations in many fields of astronomy and cosmology, such as observation of the first stars, the formation of the first galaxies, and detailed atmospheric characterization of potentially habitable exoplanets. The U.S. National Aeronautics and Space Administration (NASA) led JWST\\'s development in collaboration with the European Space Agency (ESA) and the Canadian Space Agency (CSA).' #@param {type:\"string\"}\n",
        "min_length = 45 #@param {type:\"slider\", min:10, max:100, step:5}\n",
        "max_length = 140 #@param {type:\"slider\", min:50, max:200, step:10}\n",
        "num_beams = 5 #@param {type:\"slider\", min:2, max:8, step:1}\n",
        "\n",
        "# --- Run the summarizer with your settings ---\n",
        "generated_summary = generate_summary(input_text, min_len=min_length, max_len=max_length, beams=num_beams)\n",
        "\n",
        "# --- Display the results and analysis ---\n",
        "original_word_count = len(input_text.split())\n",
        "summary_word_count = len(generated_summary.split())\n",
        "reduction = 100 - (summary_word_count / original_word_count * 100)\n",
        "\n",
        "print(\"----------- YOUR INPUT TEXT -----------\")\n",
        "print(textwrap.fill(input_text, width=100))\n",
        "print(\"\\n✨---------- GENERATED SUMMARY -----------✨\")\n",
        "print(textwrap.fill(generated_summary, width=100))\n",
        "print(\"\\n📊---------- ANALYSIS -----------📊\")\n",
        "print(f\"Original Word Count: {original_word_count}\")\n",
        "print(f\"Summary Word Count: {summary_word_count}\")\n",
        "print(f\"Text Reduction: {reduction:.1f}%\")"
      ]
    },
    {
      "cell_type": "markdown",
      "metadata": {
        "id": "44GIzYCotHVw"
      },
      "source": [
        "###  The Paraphraser Function\n",
        "\n",
        "\n"
      ]
    },
    {
      "cell_type": "code",
      "execution_count": null,
      "metadata": {
        "id": "aOrP0UGAtIz5"
      },
      "outputs": [],
      "source": [
        "#@title : Paraphraser Function\n",
        "def generate_paraphrases(text, num_return=5, beams=10):\n",
        "    \"\"\"\n",
        "    Generates multiple high-quality paraphrases for a given text using the PEGASUS model.\n",
        "    \"\"\"\n",
        "    # Tokenize the input text.\n",
        "    inputs = pegasus_tokenizer.encode(text, return_tensors='pt', truncation=True)\n",
        "\n",
        "    # Generate the paraphrases using beam search.\n",
        "    paraphrase_ids = pegasus_model.generate(\n",
        "        inputs,\n",
        "        max_length=60,\n",
        "        num_beams=beams,\n",
        "        num_return_sequences=num_return,\n",
        "        early_stopping=True\n",
        "    )\n",
        "\n",
        "    # Decode the results back into text.\n",
        "    paraphrases = pegasus_tokenizer.batch_decode(paraphrase_ids, skip_special_tokens=True)\n",
        "    return paraphrases"
      ]
    },
    {
      "cell_type": "markdown",
      "metadata": {
        "id": "F3NCR6HFtZAk"
      },
      "source": [
        "###  Code Examples with Diverse Sentences\n"
      ]
    },
    {
      "cell_type": "code",
      "execution_count": null,
      "metadata": {
        "colab": {
          "base_uri": "https://localhost:8080/"
        },
        "id": "zf5GrvdktaX-",
        "outputId": "88cf6d12-813e-4c78-88e1-4b665f749612"
      },
      "outputs": [
        {
          "name": "stdout",
          "output_type": "stream",
          "text": []
        }
      ],
      "source": [
        "#@title: Example 1 - Formal / Academic Sentence\n",
        "formal_sentence = \"The empirical data indicates a statistically significant correlation between the two variables.\"\n",
        "paraphrases = generate_paraphrases(formal_sentence, num_return=4)\n",
        "\n",
        "print(f\"----------- ORIGINAL FORMAL SENTENCE -----------\\n'{formal_sentence}'\\n\")\n",
        "print(\"🤖---------- PEGASUS PARAPHRASES ----------🤖\")\n",
        "for i, p in enumerate(paraphrases):\n",
        "    print(f\"  {i+1}. {p}\")"
      ]
    },
    {
      "cell_type": "code",
      "execution_count": null,
      "metadata": {
        "colab": {
          "base_uri": "https://localhost:8080/"
        },
        "id": "VIyYbuHfti7J",
        "outputId": "601cacc9-bfa5-4d77-d185-f1d99a641b6c"
      },
      "outputs": [
        {
          "name": "stdout",
          "output_type": "stream",
          "text": []
        }
      ],
      "source": [
        "#@title: Example 2 - Casual / Idiomatic Sentence\n",
        "casual_sentence = \"To be honest, that new project is a real pain in the neck.\"\n",
        "paraphrases = generate_paraphrases(casual_sentence, num_return=4)\n",
        "\n",
        "print(f\"----------- ORIGINAL CASUAL SENTENCE -----------\\n'{casual_sentence}'\\n\")\n",
        "print(\"🤖---------- PEGASUS PARAPHRASES ----------🤖\")\n",
        "for i, p in enumerate(paraphrases):\n",
        "    print(f\"  {i+1}. {p}\")"
      ]
    },
    {
      "cell_type": "code",
      "execution_count": null,
      "metadata": {
        "colab": {
          "base_uri": "https://localhost:8080/"
        },
        "id": "3klrMh-gtqS1",
        "outputId": "1f508550-6794-409e-c5f2-ee2633cc5ca6"
      },
      "outputs": [
        {
          "name": "stdout",
          "output_type": "stream",
          "text": []
        }
      ],
      "source": [
        "#@title: Example 3 - Marketing Call-to-Action\n",
        "marketing_sentence = \"Don't miss out on our exclusive offer – shop now to save 50%!\"\n",
        "paraphrases = generate_paraphrases(marketing_sentence, num_return=4)\n",
        "\n",
        "print(f\"----------- ORIGINAL MARKETING SENTENCE -----------\\n'{marketing_sentence}'\\n\")\n",
        "print(\"🤖---------- PEGASUS PARAPHRASES ----------🤖\")\n",
        "for i, p in enumerate(paraphrases):\n",
        "    print(f\"  {i+1}. {p}\")"
      ]
    },
    {
      "cell_type": "markdown",
      "metadata": {
        "id": "Wi1ZSh1ntwng"
      },
      "source": [
        "### Section 2.5: The Interactive Paraphraser Playground\n"
      ]
    },
    {
      "cell_type": "code",
      "execution_count": null,
      "metadata": {
        "colab": {
          "base_uri": "https://localhost:8080/"
        },
        "id": "zNNmDBpQtx78",
        "outputId": "3abe3a43-14a4-4008-8427-43563108e9c1"
      },
      "outputs": [
        {
          "name": "stdout",
          "output_type": "stream",
          "text": []
        }
      ],
      "source": [
        "#@title: Your Interactive Paraphraser Playground! ⚡️\n",
        "#@markdown ### 👈 Type your sentence and choose your settings!\n",
        "input_sentence = \"Learning new skills is essential for career growth.\" #@param {type:\"string\"}\n",
        "num_paraphrases = 5 #@param {type:\"slider\", min:1, max:10, step:1}\n",
        "quality_vs_speed_beams = 9 #@param {type:\"slider\", min:2, max:15, step:1}\n",
        "\n",
        "# --- Run the paraphraser with your settings ---\n",
        "generated_paraphrases = generate_paraphrases(input_sentence, num_return=num_paraphrases, beams=quality_vs_speed_beams)\n",
        "\n",
        "# --- Display the results ---\n",
        "print(f\"----------- ORIGINAL SENTENCE -----------\\n'{input_sentence}'\\n\")\n",
        "print(f\"🤖---------- {len(generated_paraphrases)} GENERATED PARAPHRASES (Quality: {quality_vs_speed_beams}) ----------🤖\")\n",
        "for i, p in enumerate(generated_paraphrases):\n",
        "    print(f\"  {i+1}. {p}\")"
      ]
    }
  ],
  "metadata": {
    "colab": {
      "provenance": []
    },
    "kernelspec": {
      "display_name": "Python 3",
      "name": "python3"
    },
    "language_info": {
      "name": "python"
    }
  },
  "nbformat": 4,
  "nbformat_minor": 0
}
{
"cells": [
    {
      "cell_type": "markdown",
      "metadata": {
        "id": "otGaT0FPiBgk"
      },
      "source": [
        "###  Install Libraries\n"
      ]
    },
    {
      "cell_type": "code",
      "execution_count": 2,
      "metadata": {
        "colab": {
          "base_uri": "https://localhost:8080/"
        },
        "id": "K7r_cf92iGjQ",
        "outputId": "1f13bef8-9d83-4b7d-b43d-476cec20cb28"
      },
      "outputs": [
        {
          "name": "stdout",
          "output_type": "stream",
          "text": [
            "✅ Libraries installed.\n"
          ]
        }
      ],
      "source": [
        "!pip install transformers sentencepiece sentence-transformers scikit-learn matplotlib pandas --quiet\n",
        "print(\"✅ Libraries installed.\")"
      ]
    },
    {
      "cell_type": "markdown",
      "metadata": {
        "id": "gq6OY1XmiJZ2"
      },
      "source": [
        "###  Import Libraries\n"
      ]
    },
    {
      "cell_type": "code",
      "execution_count": 1,
      "metadata": {
        "colab": {
          "base_uri": "https://localhost:8080/"
        },
        "id": "J5hNxBVkiSX_",
        "outputId": "fa7fe968-471b-45b2-b28e-9d1566cd3507"
      },
      "outputs": [
        {
          "name": "stdout",
          "output_type": "stream",
          "text": [
            "✅ Libraries imported.\n"
          ]
        }
      ],
      "source": [
        "import matplotlib.pyplot as plt\n",
        "from collections import Counter\n",
        "import textwrap\n",
        "import re\n",
        "import requests\n",
        "import ssl\n",
        "from transformers import T5ForConditionalGeneration, T5Tokenizer\n",
        "from transformers import BartForConditionalGeneration, BartTokenizer\n",
        "from transformers import PegasusForConditionalGeneration, PegasusTokenizer\n",
        "from sentence_transformers import SentenceTransformer\n",
        "from sklearn.metrics.pairwise import cosine_similarity\n",
        "\n",
        "# Handle SSL for file downloads\n",
        "try:\n",
        "    _create_unverified_https_context = ssl._create_unverified_context\n",
        "except AttributeError:\n",
        "    pass\n",
        "else:\n",
        "    ssl._create_default_https_context = _create_unverified_https_context\n",
        "\n",
        "print(\"✅ Libraries imported.\")"
      ]
    },
    {
      "cell_type": "markdown",
      "metadata": {
        "id": "h75sUp1kiuX9"
      },
      "source": [
        "###  Load Summarization Models\n",
        "Load T5, BART, and PEGASUS for summarization."
      ]
    },
    {
      "cell_type": "code",
      "execution_count": 3,
      "metadata": {
        "colab": {
          "base_uri": "https://localhost:8080/",
          "height": 787,
          "referenced_widgets": [
            "3d331f892ddb4903b4cf87e018731e09",
            "5fbb6b5fc7bf4e9d82371f4f7d3a541a",
            "817b26607fa6414ab94b92e28bb40afd",
            "287dfb9972304b7bb8394c9fb0151b0e",
            "6e8e23562b1544679f62df004434a0cb",
            "77a22306b8d84673b2a0c9408b080223",
            "93289d82f63d4fe7807fbc1a981dc9df",
            "28a07d5c4bcf4e88b7962ab69e4b6e14",
            "5da1026a7a7a4754ac142ba0e4b140a2",
            "c24f9daf8c944f85bf9504dfc6c02580",
            "c3d0e9002f414de191dd0c6d8a4992bd",
            "72d6ef04e88e47e092356749f3f14c86",
            "9537bbbbf93041e780984b6aa5adb596",
            "7a87b300231446b7bef81e5e978301f0",
            "818fb7f66d3341cd925f3d60de8c64b9",
            "32de4d59f25944929ffd3399a7bc80ef",
            "5c730312e760437aa4f4839b8f5c61d3",
            "50fde8a428114426ad7be3a30c63394b",
            "c3d1918e8b8145239b233d9fb2fd1995",
            "7b8adab82292430aa4e29ca061dfe659",
            "dca1f5d786e643f48d9eb30db71916d0",
            "44184bd190024a0eae8e834c2d2055b6",
            "3393f215f1ba4c2194fdcd86f7127fbe",
            "f4c6cd24cf434f0c910c3805c43d9e46",
            "6b2b33298aa8411da12e3dd870824e46",
            "e709f09983bf4c81aa113dc5d0ac2968",
            "c8174cb4e2154b56980ea03e9059af64",
            "32ec11d5f4894122b43cd5ea66ed918f",
            "1d42ddc49e7c423cb1652631306e094b",
            "51853c785b4543d7b24349552341a28e",
            "123a6238c516475aa636207f94e27850",
            "c8496bc2c4c1467dbf1476593ddefb77",
            "28f09bf0e39a4836af70608128fba135",
            "a36cbfb4f1bf48699a0224287428624f",
            "60f481fcfa0a42fba17569de26da4b15",
            "ee7ce8fbcc69495486a0f8dbb688fffa",
            "2799e29f9ce643c4bf9c4dc175574e3b",
            "2f8fb4f816f0441cbfb04a76f7d90465",
            "79b6cf0abed741849cc8fbfafbe25aa3",
            "f074ad262951418f9ceb236d04cea9e4",
            "a202b91f4c324163a229956edc82297b",
            "befe4c40ff87408ea0f9d259bf03256f",
            "c853448ac9b24cab91efbed0060356f2",
            "0dfa11aba96143fe85ed3ae9d2f90fc9",
            "48bbea8c660943faa03c3230f1edd538",
            "6df4406bcb084da0aef98c8515f17811",
            "2ea09d350d1a46e3bc08323b9eef25ae",
            "e255b54558e540428d46351b631c84f9",
            "058f4b92cbb94c449451a66e424efe0a",
            "3f18c137a0124ba4b7f1a8f3c7e44076",
            "d055cb3c41f24c3e829ee78d1f7146c4",
            "b101c0287e0540bc9bad67d070fefb23",
            "e2893f129d3a4355ba88789950976759",
            "beed9044ee4043a3aac91fea7c787631",
            "ebc7e061746f416aaa1849b403000f7d",
            "e46e37424d9e429f8e2059862e747a22",
            "936b28bc7803427b894ea64090bc300b",
            "b5999c83eff54c57bfd510a895cc64a0",
            "863e91bf35794e03a34d2ae6f130084a",
            "a21b0a5f771c43efaf2a0229ced04531",
            "f7633e7cd28b411299dc01fdf282ecfd",
            "0f873d8ffcb84a2b950a41ddb53148a5",
            "9c50595727e8411fb46f8ea476bc6ceb",
            "9472540d000342469d324284a00eebf3",
            "b633b81dfb364d989d7eb2ef1884c29e",
            "1922ec3be70144bf92f391bfe6f92935",
            "66f57dc368fd4c70b9bdd8030413800a",
            "5b1b8c8e1465458e89641047ecc39ce1",
            "cf8ca53604d94364820d43c7909d978b",
            "857edee066244bbfb2b24a51fa064ccb",
            "e9087f05cac34c73a11bd8e11ee27440",
            "93d505aba4e84740b713c60b5930ed00",
            "9b988e1a62734ef9b17cdefc54329b06",
            "ab3e3539b203441ca063489017f9e2ab",
            "72f73ae7446c4a2a8487b0d1ae1a6966",
            "d7c8b58e60ab447787733df54c53147f",
            "414fb221914c46b29ff52b27079591f6",
            "03bde7858d534a3e9bdd01648e352773",
            "58dacdc1d11042f9924b55183412fe0c",
            "be10c7bc1b34489cb3f681ecabc431dd",
            "e06da4538c574e9e9fdd6b91bcdf09cc",
            "05c0d16fbb2a4fb0876a396f824b9e00",
            "a99bece9b2a442599383b45f0fa626fd",
            "c3f3d1c7306e4117b556589b7db57e21",
            "7af8286c34314a21bcc45c35303d3d62",
            "0bdb218a472f4e749ccb702c48ab722b",
            "0a03814199614079b32cd47f37bd5c94",
            "bf2d0807cdf54fd1974d4824a23042f1",
            "110fb68be9e44519973be5e96d88a833",
            "8ec47d43c4664c34a14ae2ca2ff8f434",
            "78c869ca03f64dbe854825b6f31f5250",
            "8bffbe87526749eb8c14ad03d9d02691",
            "e342ea49575d4f5dafa0eb9e4d446062",
            "6f66f283dd1940c591f4fecdcbc7db26",
            "2fcd5990fe2c416c8cc613d64cea27d9",
            "12551d7d02d84f65bdfbde6e5e65a55d",
            "939928795e094b389fec54063d941305",
            "1c10144632fe4fd58b129b6ee61f017c",
            "df68105a54bd41b693e2819e6a571a17",
            "49bea8945cbe4929a7111d8d6e455605",
            "2f712a69760e4a1f930902f432411e9b",
            "3036d159e9354bdb95d787e083e76dfb",
            "b2376f06c3464c4fb69e60f8f05415b4",
            "301d59bf4b9c4088ba7cdc44b2d0837d",
            "1050ccdfb0544c2d9cee3378e9f2962a",
            "fa8300b6838941d0a557ebfcb0fda66a",
            "bc6e41f5d7b84a6ba768868388dcf192",
            "f1e32280cc5248ba95d56f24ac129877",
            "5977647092ea4bc8b0824a5f802966c4",
            "7419b7962c5640a3a4c65cd2e6a13e27",
            "9daf5dae11bb483e96ee3dc1286c2b91",
            "a13bcc638b3342a0b89d8cf103a05a9e",
            "59ab3b43cf4743dc954b6fd73cbc68a8",
            "2b3f3eb9607b448d93e31756d2c9915d",
            "0a6b7de2c5464fd5b60110e74b59302e",
            "3783d2972d814a4493006ecb925e9006",
            "5e20abfe40c24ead8cd1ef460cb409ef",
            "b6feeaf25e5b4b4faada8d6b0444ceb7",
            "9fbd953a8974417d94eb290091fdfef5",
            "236b151906dd4b5db6d291fe8c7000d1",
            "89ef3f35c02646bbae93e7ea99fcc7ea",
            "5888088c036f49ca8ad004bd07e73e2f",
            "ca32866334e548418022f34956b00d79",
            "76b28baa13ab48b796d2b4735a3ccb1c",
            "79b1547fc45e47f180c5e80c69a2db0b",
            "2ab6cccf5c3a40109136bd83919d5219",
            "da31d2403d7a4cdc9c15db365e7d11ae",
            "4e053fd79fc54bd2a5a12c0d9a8a4c56",
            "e599b8f204fe4ce3975ade319cbc8d44",
            "b8f8365f5c1242ab82389173810f01dd",
            "5a50540bb0b942e3a89e2a1dee8f4b5f",
            "db962ab57a564105a1dc9f3deea409f7",
            "61354f20166f4a66a2d59ad2103d4c04",
            "ccf1f32df2d0432a99d7a22673706149",
            "535a10ab743f4162b538f8ae6ab578b1",
            "3f50596c19a0496b9c7989387cfa2277",
            "3bb2e379cc5f4c46a296327838e73c99",
            "355c937acdfa4707ba75c120e991a8eb",
            "d082b7f81cb3457f9e704190301d85e6",
            "2623e7dac00d4b4696a43b078a0313e6",
            "0f170f62c7b8465ea3223ea08fce89ee",
            "3479251b0dc14f4a86f2b6ed4c4f719f",
            "6126e67217214a2d995b6bf4890f8577",
            "3f0cf78489a6415a8e2dc4b5ea2b5434",
            "f16d9b4882d5436f9562541d06d4d5ad",
            "7d6ea8c77610480da4ba10c26c996e24",
            "680e7e491da748e69276f137087b975b",
            "27e44444cc9345858a4117383f646c38",
            "425be3d8019a41fbbc4c980d37ea1722",
            "29d5135de6ba457298790da6c1338da2",
            "39b7af09fd0244f7b3b54cebf312814f",
            "00198111aba6402ba0c9905dc522d249",
            "b88266c0fcd74bfd96237c274a6cc13b",
            "0b8d9b0e11da49d99ea2f1ecbb546a13",
            "f87c8428cc7b4d9b8db8d330db6915d8",
            "c8fbd9e1e3754b7e9d683289986124f0",
            "b8745719ebc74e668979c3f900ac46c5",
            "66878d1f8b7f483ab66ac0fad500753f",
            "b8bf088706044ff09f815fdfdfbac388",
            "e0a3ecc51d6d44a8966432ac816e3311",
            "aea6d30b36b342808f2d855066ac4b5f",
            "2636cdd3c0d74be99309c188e455871b",
            "295467812c5643bf9d30907f5f80880c",
            "58947612fa4143c3978c4280ee1757ad",
            "067a842d7b55433a85a2d688a447372f",
            "2c7ca64e1f59490c8475984a04a4e10a",
            "06bb12cacc7c4fe0a37f37452f50dbb5",
            "fc3eca4ad803480c997c68ae71e07072",
            "3a823cc5cc7b4a22b776b1dd06aa0f2f",
            "4f211a4274014c0697cd39836b88f3d6",
            "69e81abbe9444685a70880d046424f8d",
            "42e6ec1c60ba4e26b87d959023827b34",
            "73dcc8bb5a1e487986ccfc7287b7e6fc",
            "0df40cd98a514dc29ce9ad7ea221782c",
            "c9d8bbc17dbf4a6db5c2dbdc5bb6a508",
            "f550917631e740d6b0d6f6487e460170",
            "d4ed3e02ea1e4148b7eda44ed2b59c68",
            "d25352f07ab849aeb5a95658d9a83fcb",
            "1ccf762701384889a903f93712640bf0",
            "3535ca02d7df471eaf9bbacc7c480956",
            "b986752499464935a65822d9b2aad8da",
            "a2d91a974ea84226b2816a0065f3c2ea",
            "d24a792309c34360a3b4c24ca85b0610",
            "e240eb2d6bc04b98bc5ea42deddb36be",
            "f537dcc29b7e46969921843c4d33fbd6",
            "4b6838ffa17443f5828c3114aabe80bc",
            "7d5e73f65f1a4945a5d33340478fd6e6",
            "ad1d576d8d3c4c4a8a438804dabab6c2",
            "304e169c0a2b49bf8f29d75df750bf11",
            "0e85e0bf783c42568d3ea97ca8640f26",
            "95d3612713e04c5c8ab739cbbb0440c1",
            "1cfc201f111c41ae8d54c4a421b1a2eb",
            "8efa890b53f34b0a907c29eb2037a27a",
            "43e52be7fc9c4f6e8c05604eca15972d",
            "edd5e87ece794b7c8e2c27c8999712b1",
            "08e8b28e0d3f4985aaeb1822a418681c",
            "6e21503cf1ff4df49415df4a51f11503",
            "24a916c69f52436388c92411670af4cc"
          ]
        },
        "id": "buI7EoqrivUG",
        "outputId": "04473c78-2281-407d-d16c-00b7f2d6b5a2"
      },
      "outputs": [
        {
          "name": "stderr",
          "output_type": "stream",
          "text": [
            "/usr/local/lib/python3.12/dist-packages/huggingface_hub/utils/_auth.py:94: UserWarning: \n",
            "The secret `HF_TOKEN` does not exist in your Colab secrets.\n",
            "To authenticate with the Hugging Face Hub, create a token in your settings tab (https://huggingface.co/settings/tokens), set it as secret in your Google Colab and restart your session.\n",
            "You will be able to reuse this secret in all of your notebooks.\n",
            "Please note that authentication is recommended but still optional to access public models or datasets.\n",
            "  warnings.warn(\n"
          ]
        },
        {
          "data": {
            "application/vnd.jupyter.widget-view+json": {
              "model_id": "3d331f892ddb4903b4cf87e018731e09",
              "version_major": 2,
              "version_minor": 0
            },
            "text/plain": [
              "spiece.model:   0%|          | 0.00/792k [00:00<?, ?B/s]"
            ]
          },
          "metadata": {},
          "output_type": "display_data"
        },
        {
          "data": {
            "application/vnd.jupyter.widget-view+json": {
              "model_id": "72d6ef04e88e47e092356749f3f14c86",
              "version_major": 2,
              "version_minor": 0
            },
            "text/plain": [
              "tokenizer.json:   0%|          | 0.00/1.39M [00:00<?, ?B/s]"
            ]
          },
          "metadata": {},
          "output_type": "display_data"
        },
        {
          "data": {
            "application/vnd.jupyter.widget-view+json": {
              "model_id": "3393f215f1ba4c2194fdcd86f7127fbe",
              "version_major": 2,
              "version_minor": 0
            },
            "text/plain": [
              "config.json:   0%|          | 0.00/1.21k [00:00<?, ?B/s]"
            ]
          },
          "metadata": {},
          "output_type": "display_data"
        },
        {
          "name": "stderr",
          "output_type": "stream",
          "text": [
            "You are using the default legacy behaviour of the <class 'transformers.models.t5.tokenization_t5.T5Tokenizer'>. This is expected, and simply means that the `legacy` (previous) behavior will be used so nothing changes for you. If you want to use the new behaviour, set `legacy=False`. This should only be set if you understand what it means, and thoroughly read the reason why this was added as explained in https://github.com/huggingface/transformers/pull/24565\n"
          ]
        },
        {
          "data": {
            "application/vnd.jupyter.widget-view+json": {
              "model_id": "a36cbfb4f1bf48699a0224287428624f",
              "version_major": 2,
              "version_minor": 0
            },
            "text/plain": [
              "model.safetensors:   0%|          | 0.00/892M [00:00<?, ?B/s]"
            ]
          },
          "metadata": {},
          "output_type": "display_data"
        },
        {
          "data": {
            "application/vnd.jupyter.widget-view+json": {
              "model_id": "48bbea8c660943faa03c3230f1edd538",
              "version_major": 2,
              "version_minor": 0
            },
            "text/plain": [
              "generation_config.json:   0%|          | 0.00/147 [00:00<?, ?B/s]"
            ]
          },
          "metadata": {},
          "output_type": "display_data"
        },
        {
          "data": {
            "application/vnd.jupyter.widget-view+json": {
              "model_id": "e46e37424d9e429f8e2059862e747a22",
              "version_major": 2,
              "version_minor": 0
            },
            "text/plain": [
              "vocab.json: 0.00B [00:00, ?B/s]"
            ]
          },
          "metadata": {},
          "output_type": "display_data"
        },
        {
          "data": {
            "application/vnd.jupyter.widget-view+json": {
              "model_id": "66f57dc368fd4c70b9bdd8030413800a",
              "version_major": 2,
              "version_minor": 0
            },
            "text/plain": [
              "merges.txt: 0.00B [00:00, ?B/s]"
            ]
          },
          "metadata": {},
          "output_type": "display_data"
        },
        {
          "data": {
            "application/vnd.jupyter.widget-view+json": {
              "model_id": "03bde7858d534a3e9bdd01648e352773",
              "version_major": 2,
              "version_minor": 0
            },
            "text/plain": [
              "tokenizer.json: 0.00B [00:00, ?B/s]"
            ]
          },
          "metadata": {},
          "output_type": "display_data"
        },
        {
          "data": {
            "application/vnd.jupyter.widget-view+json": {
              "model_id": "110fb68be9e44519973be5e96d88a833",
              "version_major": 2,
              "version_minor": 0
            },
            "text/plain": [
              "config.json: 0.00B [00:00, ?B/s]"
            ]
          },
          "metadata": {},
          "output_type": "display_data"
        },
        {
          "data": {
            "application/vnd.jupyter.widget-view+json": {
              "model_id": "49bea8945cbe4929a7111d8d6e455605",
              "version_major": 2,
              "version_minor": 0
            },
            "text/plain": [
              "model.safetensors:   0%|          | 0.00/558M [00:00<?, ?B/s]"
            ]
          },
          "metadata": {},
          "output_type": "display_data"
        },
        {
          "data": {
            "application/vnd.jupyter.widget-view+json": {
              "model_id": "9daf5dae11bb483e96ee3dc1286c2b91",
              "version_major": 2,
              "version_minor": 0
            },
            "text/plain": [
              "tokenizer_config.json:   0%|          | 0.00/87.0 [00:00<?, ?B/s]"
            ]
          },
          "metadata": {},
          "output_type": "display_data"
        },
        {
          "data": {
            "application/vnd.jupyter.widget-view+json": {
              "model_id": "5888088c036f49ca8ad004bd07e73e2f",
              "version_major": 2,
              "version_minor": 0
            },
            "text/plain": [
              "spiece.model:   0%|          | 0.00/1.91M [00:00<?, ?B/s]"
            ]
          },
          "metadata": {},
          "output_type": "display_data"
        },
        {
          "data": {
            "application/vnd.jupyter.widget-view+json": {
              "model_id": "61354f20166f4a66a2d59ad2103d4c04",
              "version_major": 2,
              "version_minor": 0
            },
            "text/plain": [
              "special_tokens_map.json:   0%|          | 0.00/65.0 [00:00<?, ?B/s]"
            ]
          },
          "metadata": {},
          "output_type": "display_data"
        },
        {
          "data": {
            "application/vnd.jupyter.widget-view+json": {
              "model_id": "3f0cf78489a6415a8e2dc4b5ea2b5434",
              "version_major": 2,
              "version_minor": 0
            },
            "text/plain": [
              "tokenizer.json: 0.00B [00:00, ?B/s]"
            ]
          },
          "metadata": {},
          "output_type": "display_data"
        },
        {
          "data": {
            "application/vnd.jupyter.widget-view+json": {
              "model_id": "f87c8428cc7b4d9b8db8d330db6915d8",
              "version_major": 2,
              "version_minor": 0
            },
            "text/plain": [
              "config.json: 0.00B [00:00, ?B/s]"
            ]
          },
          "metadata": {},
          "output_type": "display_data"
        },
        {
          "data": {
            "application/vnd.jupyter.widget-view+json": {
              "model_id": "2c7ca64e1f59490c8475984a04a4e10a",
              "version_major": 2,
              "version_minor": 0
            },
            "text/plain": [
              "pytorch_model.bin:   0%|          | 0.00/2.28G [00:00<?, ?B/s]"
            ]
          },
          "metadata": {},
          "output_type": "display_data"
        },
        {
          "data": {
            "application/vnd.jupyter.widget-view+json": {
              "model_id": "d4ed3e02ea1e4148b7eda44ed2b59c68",
              "version_major": 2,
              "version_minor": 0
            },
            "text/plain": [
              "model.safetensors:   0%|          | 0.00/2.28G [00:00<?, ?B/s]"
            ]
          },
          "metadata": {},
          "output_type": "display_data"
        },
        {
          "name": "stderr",
          "output_type": "stream",
          "text": [
            "Some weights of PegasusForConditionalGeneration were not initialized from the model checkpoint at google/pegasus-xsum and are newly initialized: ['model.decoder.embed_positions.weight', 'model.encoder.embed_positions.weight']\n",
            "You should probably TRAIN this model on a down-stream task to be able to use it for predictions and inference.\n"
          ]
        },
        {
          "data": {
            "application/vnd.jupyter.widget-view+json": {
              "model_id": "ad1d576d8d3c4c4a8a438804dabab6c2",
              "version_major": 2,
              "version_minor": 0
            },
            "text/plain": [
              "generation_config.json:   0%|          | 0.00/259 [00:00<?, ?B/s]"
            ]
          },
          "metadata": {},
          "output_type": "display_data"
        },
        {
          "name": "stdout",
          "output_type": "stream",
          "text": [
            "✅ Summarization models loaded: T5, BART, PEGASUS.\n"
          ]
        }
      ],
      "source": [
        "t5_tokenizer = T5Tokenizer.from_pretrained('t5-base')\n",
        "t5_model = T5ForConditionalGeneration.from_pretrained('t5-base')\n",
        "bart_tokenizer = BartTokenizer.from_pretrained('facebook/bart-base')\n",
        "bart_model = BartForConditionalGeneration.from_pretrained('facebook/bart-base')\n",
        "pegasus_sum_tokenizer = PegasusTokenizer.from_pretrained('google/pegasus-xsum')\n",
        "pegasus_sum_model = PegasusForConditionalGeneration.from_pretrained('google/pegasus-xsum')\n",
        "print(\"✅ Summarization models loaded: T5, BART, PEGASUS.\")"
      ]
    },
    {
      "cell_type": "markdown",
      "metadata": {
        "id": "Q3eO-zfdi25k"
      },
      "source": [
        "###  Load Paraphrasing Models\n",
        "Load PEGASUS, T5-Paraphrase, and BART-Paraphrase."
      ]
    },
    {
      "cell_type": "code",
      "execution_count": 4,
      "metadata": {
        "colab": {
          "base_uri": "https://localhost:8080/",
          "height": 665,
          "referenced_widgets": [
            "a1b62b7fbb2f446fb0fe3e47b28d19cd",
            "f173426fb7e04a33b2c3a8847b1deaa6",
            "b41b0b7297f44989bbb3d0f06d1ab55d",
            "d1c6ebdbf4ab4b0294bdae6d1ddfb5b1",
            "3ab6028d7dd342999150ac2f55f3a8ff",
            "18f604285c0a47bd874e966eb6b123b6",
            "c0ab6e89257448cfa2c110ca9a49903d",
            "97783aaf1bb948b9b33341c5328e1f38",
            "edd5923830ae41c2953145626b6a096d",
            "26c69f852aa34a9aba2f25ad08244ef3",
            "235d5186a0384a0b9f6e07e2fe0e6b8c",
            "1f51fb13df3e4485a91203ec36b8e205",
            "d96290c87d3048efb1a305a90e07e117",
            "d4a1d4f345cf42a48f8f519432bd58ae",
            "27d0b96f5c0a4d2aae06aaba85a9cfa1",
            "9fc13badcdb146e4a3562f14328c1e8e",
            "cae4dd0cb0a3417eba30cf945eabafd5",
            "b63064565c614af691c9c98e9195f3e9",
            "a2097894108845b5857812b976c546f5",
            "f0a98da2976a4ef49846d05f37de5083",
            "32f4d13eb27648c2b9a8403fb4db3a72",
            "b7c287c2061c412a8d3a74313b717a50",
            "8fb868a1c3b9475dbd4d2326e83cfe4c",
            "dd70fa50f8944efe92e6c2d0ba231737",
            "05027994ddc049c3a74ab426bc2ad795",
            "c1942f7736a14c23aa6f88d1289d6425",
            "02a2fc95c8bb4e05aa9218af05863c9e",
            "ac7dfaf653394c879cc755dc83144478",
            "331f46ef7c974ee8a7f1bc3ec5d61201",
            "561fd33be3e5486bbc7c6e8fc9d2c904",
            "f95e28825b9b43ea8f71f4d1905321bd",
            "5f0a332b2e954e38a9728b17ee252093",
            "8688fe78ef2e4e5baf9cc5f0572f4c61",
            "6965ae0359ca4312b625ae6d0a636226",
            "e3c4f5d97e2f4d16bb5f7353ddb14b30",
            "4e724a70d5d04d24b5eff219ce95191a",
            "b691ad91221b479aa7e2756b0787ebc5",
            "b6ace7df5ebe408fb511334bc2117c14",
            "39de3248427f444cb9e3aed558ee48d0",
            "4b56d666d9e0460da0b99bafae78c7be",
            "a2db5fb9aac048abbde0a2099e665b1e",
            "661b643e55e34f56ace250de3e3ed136",
            "7b2b1002d87f498cb087ebf65d3e5a78",
            "a0dd9954db514c0b9cd9957538ed00c7",
            "833db199dfbe48f080269256604b9285",
            "85e6b1e34108460295145d30f1af8ee4",
            "6bf6825e8e1d402f878da90cc958e348",
            "50ccbcd1b6ed4d4e81cf86d5e0fcd7a2",
            "1a9024590f5545ebb45c4e756ce7ffbc",
            "c2e67077bea24ccd8cbe1dad1792e91a",
            "f6204fe34ae04c9e9c80cc08b84e31a2",
            "b93d8f43c24549f8af4bbb7a6716fbac",
            "65a78f52d348494e95482465b74ba16c",
            "2085bfc1f668460eafb482a365acaa54",
            "fc6b0b9af2134535bedfb6980e9135ee",
            "005ac726160e47b58e0c24b542966441",
            "63055406b99d462d8fab78ab9979255c",
            "031e6c07759845d880cd63e5ce89cf19",
            "e3a0619cb3834cffbd5da8ded37fd61d",
            "d88b507ba11b44d983a2b1d7340cebe1",
            "8c6d017c6b6246998f8446e96261bb0f",
            "6f56181c1aba492b87a27df2789d542d",
            "c56063fa9a844c74889f3d0b81f85a84",
            "cac2f12e9bb54d459306b86649d2cba1",
            "e252c7fcc1ed4b4894b20f1d5a8aaf4f",
            "6f39234410534651b331475867ae3103",
            "b4237376a5cb45e498c0ce27d764b8ec",
            "53298ab2c7084f9fb19eb113c531f2b7",
            "575701baa3cf4f96b1749d79f22168f1",
            "e5c2ea173ed54b48aa662d84c5e564b5",
            "97acff53c4164e4d8db9cc6a6c9b593b",
            "17fee734a34848789e167f369b70f2ba",
            "f7fac71736e444a1b9ad51e8a38d2924",
            "6f67c2a875d24a9cbcf679be8e4aec40",
            "6ebc98056b9647dc97bfef04a8bf63af",
            "107e47a03c394452a8e321b454e3bfc1",
            "7b8031ba2fd44e7f899afbb318611247",
            "c33f072688524b36a38dadd756fdc7c2",
            "76ae3f08ba3545b8b2500010b1211d3c",
            "1db7ce942a4d40c3a4289d5e6a4a770d",
            "cee64d7793224609ba9af2ceff33fb71",
            "ada80d0c0ba945f59a7aa277c4aff01c",
            "1a36ebcf8df644cf846dcb4e9ec03708",
            "e53908a848c14136bfabc25711195f8c",
            "889079ed652a4df3bb2d2640dedea7f5",
            "7c05743aa4054af8be1203aa2dbafe4a",
            "430f6176ca1e4c6081d8e167208b0c1b",
            "f6a34f391bec4a9cb3f87da5576d5a34",
            "8c8c9cbda4aa4371a6a99e78e2d8617b",
            "3a4a32c7e3c849089489e66c62a63f6b",
            "d35f00f896ae490a9c7412cf91dda421",
            "9031f2631f7441c884d3248ff6ed4f0a",
            "e247b9e2873b4ee8ab380e7bde999657",
            "cc91e00b54e245faa490099ab6ba67ad",
            "1b365a77204147e8816ab4ef041d9a74",
            "55133a464fe04fd2b85d9ccf839d7aeb",
            "77ed23f004bb4d958f31e7c98364f48a",
            "d643460ce43c48f4b75f24db22a462b0",
            "668bbee95ef14f288408b0815f29572f",
            "92ffb3d7f7ee4cd69a43459c033a7270",
            "662808593f9746059157f2f25c637809",
            "0261f38e0de64693af5c870ae4a189e6",
            "233d130f243740ca83dc4a33cb9bcc9a",
            "2dee5be9a1a141b5a7d5eeb92ea1807e",
            "fc5c73eb911549fb8c997518a806427d",
            "f44ae235ac284747b88688a9b065b69d",
            "e8513ae8fdb24065a3564fd2bb3d9a94",
            "d16179e5ba6449bb9607002129134d2b",
            "d3922e9aa0524f50a47ef51d56322d6a",
            "d1bad58799f14d35a23aed48120ee322",
            "7087bdf147b142f4ab988ae2e3161cd0",
            "0fdb9f5690c349feb2140bd4b2b1b294",
            "648846a77129414dbb0fd05a0aa81300",
            "0a4f5016f96b4c158216ec766c40a382",
            "b2bb2bbf21e3427e8e2f7ee3f170ac5b",
            "f6e7972bc3c24c86aaff3fafbe5fcab2",
            "b11a2f5c367047678d09425723a22e23",
            "1dc466b962c54dd3b6d8d5bb3efcef89",
            "470796d4d71142d094366df9294f41b0",
            "81f02d2ca89e43b780f62914305611fd",
            "97333a2678634d07979adda32706821d",
            "540f09fc09244d3d964f97f129dc8ec9",
            "0c568f70e40a4095ae80e4f4c1375ece",
            "82a5301a63454ccc9fc1ba7fd1bb7b4f",
            "ac83b0941568495985e4854451f07f34",
            "896703b4426d4e6a9391942be744b6eb",
            "03e4cd71ea014715a10af77e872770c8",
            "63449d8825df44e69b95bdf81243887d",
            "fe3913f685df415da72bfff7ba4cb01b",
            "85e59b9e6fab4b8a84fdf458d2e9bac1",
            "cbc5ea6061194416a52b9a5040f995db",
            "4ad064ecc7c647dbbaaabbde7b41351c",
            "1c81f4228d3f42969aef38ecc33c1ca4",
            "18e2c1e3cf134e08ab87faba3bfc5c80",
            "737326735ecc4b3cb237172e704cbde7",
            "740c6eaa347945d8a2e31eaf20ada1a9",
            "5c58f97202dc490e945d4cf9cee7fe51",
            "3abefdc5045e41e4aaf9d1f0995011df",
            "3ef42e67b883489cbcffba7fb32322fb",
            "02514b94821a45cfb6b6013090bb515f",
            "e90c47a4b423474cb9933b2db8e84731",
            "53ebd45a7db8429da11cd82e389b880b",
            "8e00b8ad50e64f34b40d4b1059d8c297",
            "d50f63edb6a84121abd1973324c02efe",
            "cc19325ac93a43dbbbc8886b5a1cef72",
            "9bf97453e44c462cbdf7b2a0d291db5d",
            "6b2c6d9d3d0846109969d4ac8c1ad026",
            "bd78460e5c1c4373817cd227ced165fb",
            "3f8d96e604934a44af571bd3bba3f70e",
            "88fcaae110174a1ab1628702cc5046d2",
            "e6b4e79fd2974c15b8a3666b20e0a590",
            "8aceb5231a2144f18c442697123b10f6",
            "2dfd934732784d168cf88fb9f556a29e",
            "d51fa213c647499a857eafc36596767e",
            "f287a819e2f4438d87c42db225d61d60",
            "500ad4ff837d4d1daaace1a7f3d23adc",
            "12cd3ec5cd414e269e315e87ec2914af",
            "8b428f14e09f4e66a66a81bc98577bae",
            "b226fe31fc704dd18f0c1a05f7ae1c9d",
            "974ff839eddb4863ab5c91786d12dbd5",
            "12ab51cceac540b886ab1062d568cfa6",
            "b8d507f073c74af5866e1d37adf99505",
            "8dc418ac6823461b9a20015a93059c60",
            "cc8324bb83f54ee4a0a0718c09bdbc32",
            "dbfcab1243aa4b93ab2eda9acaac4561",
            "4d8d673c5cbe4caf8cd2004f1ac25738",
            "654a04535dbf44178407830726f86f00",
            "0e511e51a7644b6099d87f73e36dcafb",
            "5d505a433bcf461190157c472bddf285",
            "c25cb0d99c0b471fb57eaaac632b36a0",
            "fa65702d88a24e98afc40715c1a305c9",
            "8364d22996924e89aa104acbba2c64ec",
            "334ae874e4874f9793d8089351a42037",
            "5fae8cc6af7d4706a04dce4ccf275744",
            "769b8fb5e61a43b782a46e5246dc79eb",
            "35fc5913cf684d7e8fc3b2767888f2c2",
            "32e5eff5cb9248d5b66062abe8fa3bfe",
            "32f0b02f9fdc4f82b90c01f4127eb461",
            "a4567e41dd1540309c1feb747d01939c",
            "a78c53ee42494834ab09299bfe19de36",
            "957f1677a68a47c4aaa4c8d40df2fa36",
            "1f210e4ea023453293697ba77bdc9e15",
            "132c4d121c4a41cc87b0493d25fcb406",
            "a254cb88c16c4832b5b0744bc2f1f47b",
            "2604d35666d04d4e89df3d7b0122282e",
            "bcf98b3789574a57a73012b7917f472b",
            "8354650b8a3a40dca67841379abdf706",
            "0ac2ed1f10214c5ba7f8871dcd2b9743",
            "bf18129585ba4642ad6b87b4265347a7",
            "4e59a2bee0284c909f9c65f464b08fd6",
            "027eac509cf94e1fbee14b4253f3d8c8",
            "ca27ad39f3e64ef8b058ddd203f78d99",
            "d2092b2d202f42289ee054bf1418e262",
            "fc0bbfe4428f47b0818898102cf9d45f",
            "06c2aa68fe924314b09f0cfe8744ed40",
            "714e39de507c4d5ca371f4f049105de1",
            "1e14eead81354c63949d55d9675e895b",
            "234e60292f8b4fc19eda98d9eac8b957"
          ]
        },
        "id": "r1w6DcObi35l",
        "outputId": "a1d8b9d7-c9ed-4102-c6ce-3ee601ef9ef6"
      },
      "outputs": [
        {
          "data": {
            "application/vnd.jupyter.widget-view+json": {
              "model_id": "a1b62b7fbb2f446fb0fe3e47b28d19cd",
              "version_major": 2,
              "version_minor": 0
            },
            "text/plain": [
              "tokenizer_config.json:   0%|          | 0.00/86.0 [00:00<?, ?B/s]"
            ]
          },
          "metadata": {},
          "output_type": "display_data"
        },
        {
          "data": {
            "application/vnd.jupyter.widget-view+json": {
              "model_id": "1f51fb13df3e4485a91203ec36b8e205",
              "version_major": 2,
              "version_minor": 0
            },
            "text/plain": [
              "spiece.model:   0%|          | 0.00/1.91M [00:00<?, ?B/s]"
            ]
          },
          "metadata": {},
          "output_type": "display_data"
        },
        {
          "data": {
            "application/vnd.jupyter.widget-view+json": {
              "model_id": "8fb868a1c3b9475dbd4d2326e83cfe4c",
              "version_major": 2,
              "version_minor": 0
            },
            "text/plain": [
              "special_tokens_map.json:   0%|          | 0.00/65.0 [00:00<?, ?B/s]"
            ]
          },
          "metadata": {},
          "output_type": "display_data"
        },
        {
          "data": {
            "application/vnd.jupyter.widget-view+json": {
              "model_id": "6965ae0359ca4312b625ae6d0a636226",
              "version_major": 2,
              "version_minor": 0
            },
            "text/plain": [
              "config.json: 0.00B [00:00, ?B/s]"
            ]
          },
          "metadata": {},
          "output_type": "display_data"
        },
        {
          "data": {
            "application/vnd.jupyter.widget-view+json": {
              "model_id": "833db199dfbe48f080269256604b9285",
              "version_major": 2,
              "version_minor": 0
            },
            "text/plain": [
              "pytorch_model.bin:   0%|          | 0.00/2.28G [00:00<?, ?B/s]"
            ]
          },
          "metadata": {},
          "output_type": "display_data"
        },
        {
          "data": {
            "application/vnd.jupyter.widget-view+json": {
              "model_id": "005ac726160e47b58e0c24b542966441",
              "version_major": 2,
              "version_minor": 0
            },
            "text/plain": [
              "model.safetensors:   0%|          | 0.00/2.28G [00:00<?, ?B/s]"
            ]
          },
          "metadata": {},
          "output_type": "display_data"
        },
        {
          "name": "stderr",
          "output_type": "stream",
          "text": [
            "Some weights of PegasusForConditionalGeneration were not initialized from the model checkpoint at tuner007/pegasus_paraphrase and are newly initialized: ['model.decoder.embed_positions.weight', 'model.encoder.embed_positions.weight']\n",
            "You should probably TRAIN this model on a down-stream task to be able to use it for predictions and inference.\n"
          ]
        },
        {
          "data": {
            "application/vnd.jupyter.widget-view+json": {
              "model_id": "b4237376a5cb45e498c0ce27d764b8ec",
              "version_major": 2,
              "version_minor": 0
            },
            "text/plain": [
              "tokenizer_config.json:   0%|          | 0.00/25.0 [00:00<?, ?B/s]"
            ]
          },
          "metadata": {},
          "output_type": "display_data"
        },
        {
          "data": {
            "application/vnd.jupyter.widget-view+json": {
              "model_id": "c33f072688524b36a38dadd756fdc7c2",
              "version_major": 2,
              "version_minor": 0
            },
            "text/plain": [
              "spiece.model:   0%|          | 0.00/792k [00:00<?, ?B/s]"
            ]
          },
          "metadata": {},
          "output_type": "display_data"
        },
        {
          "data": {
            "application/vnd.jupyter.widget-view+json": {
              "model_id": "8c8c9cbda4aa4371a6a99e78e2d8617b",
              "version_major": 2,
              "version_minor": 0
            },
            "text/plain": [
              "special_tokens_map.json: 0.00B [00:00, ?B/s]"
            ]
          },
          "metadata": {},
          "output_type": "display_data"
        },
        {
          "data": {
            "application/vnd.jupyter.widget-view+json": {
              "model_id": "92ffb3d7f7ee4cd69a43459c033a7270",
              "version_major": 2,
              "version_minor": 0
            },
            "text/plain": [
              "config.json: 0.00B [00:00, ?B/s]"
            ]
          },
          "metadata": {},
          "output_type": "display_data"
        },
        {
          "data": {
            "application/vnd.jupyter.widget-view+json": {
              "model_id": "7087bdf147b142f4ab988ae2e3161cd0",
              "version_major": 2,
              "version_minor": 0
            },
            "text/plain": [
              "model.safetensors:   0%|          | 0.00/892M [00:00<?, ?B/s]"
            ]
          },
          "metadata": {},
          "output_type": "display_data"
        },
        {
          "data": {
            "application/vnd.jupyter.widget-view+json": {
              "model_id": "540f09fc09244d3d964f97f129dc8ec9",
              "version_major": 2,
              "version_minor": 0
            },
            "text/plain": [
              "tokenizer_config.json:   0%|          | 0.00/332 [00:00<?, ?B/s]"
            ]
          },
          "metadata": {},
          "output_type": "display_data"
        },
        {
          "data": {
            "application/vnd.jupyter.widget-view+json": {
              "model_id": "1c81f4228d3f42969aef38ecc33c1ca4",
              "version_major": 2,
              "version_minor": 0
            },
            "text/plain": [
              "vocab.json: 0.00B [00:00, ?B/s]"
            ]
          },
          "metadata": {},
          "output_type": "display_data"
        },
        {
          "data": {
            "application/vnd.jupyter.widget-view+json": {
              "model_id": "d50f63edb6a84121abd1973324c02efe",
              "version_major": 2,
              "version_minor": 0
            },
            "text/plain": [
              "merges.txt: 0.00B [00:00, ?B/s]"
            ]
          },
          "metadata": {},
          "output_type": "display_data"
        },
        {
          "data": {
            "application/vnd.jupyter.widget-view+json": {
              "model_id": "f287a819e2f4438d87c42db225d61d60",
              "version_major": 2,
              "version_minor": 0
            },
            "text/plain": [
              "special_tokens_map.json:   0%|          | 0.00/239 [00:00<?, ?B/s]"
            ]
          },
          "metadata": {},
          "output_type": "display_data"
        },
        {
          "data": {
            "application/vnd.jupyter.widget-view+json": {
              "model_id": "4d8d673c5cbe4caf8cd2004f1ac25738",
              "version_major": 2,
              "version_minor": 0
            },
            "text/plain": [
              "tokenizer.json: 0.00B [00:00, ?B/s]"
            ]
          },
          "metadata": {},
          "output_type": "display_data"
        },
        {
          "data": {
            "application/vnd.jupyter.widget-view+json": {
              "model_id": "32e5eff5cb9248d5b66062abe8fa3bfe",
              "version_major": 2,
              "version_minor": 0
            },
            "text/plain": [
              "config.json: 0.00B [00:00, ?B/s]"
            ]
          },
          "metadata": {},
          "output_type": "display_data"
        },
        {
          "data": {
            "application/vnd.jupyter.widget-view+json": {
              "model_id": "0ac2ed1f10214c5ba7f8871dcd2b9743",
              "version_major": 2,
              "version_minor": 0
            },
            "text/plain": [
              "model.safetensors:   0%|          | 0.00/1.63G [00:00<?, ?B/s]"
            ]
          },
          "metadata": {},
          "output_type": "display_data"
        },
        {
          "name": "stdout",
          "output_type": "stream",
          "text": [
            "✅ Paraphrasing models loaded: PEGASUS, T5-Paraphrase, BART-Paraphrase.\n"
          ]
        }
      ],
      "source": [
        "pegasus_para_tokenizer = PegasusTokenizer.from_pretrained('tuner007/pegasus_paraphrase')\n",
        "pegasus_para_model = PegasusForConditionalGeneration.from_pretrained('tuner007/pegasus_paraphrase')\n",
        "paraphrase_t5_tokenizer = T5Tokenizer.from_pretrained('Vamsi/T5_Paraphrase_Paws')\n",
        "paraphrase_t5_model = T5ForConditionalGeneration.from_pretrained('Vamsi/T5_Paraphrase_Paws')\n",
        "paraphrase_bart_tokenizer = BartTokenizer.from_pretrained('eugenesiow/bart-paraphrase')\n",
        "paraphrase_bart_model = BartForConditionalGeneration.from_pretrained('eugenesiow/bart-paraphrase')\n",
        "print(\"✅ Paraphrasing models loaded: PEGASUS, T5-Paraphrase, BART-Paraphrase.\")"
      ]
    },
    {
      "cell_type": "markdown",
      "metadata": {
        "id": "sSI553Cui9pv"
      },
      "source": [
        "###  Load Similarity Model\n",
        "Load SentenceTransformer for similarity."
      ]
    },
    {
      "cell_type": "code",
      "execution_count": 5,
      "metadata": {
        "colab": {
          "base_uri": "https://localhost:8080/",
          "height": 386,
          "referenced_widgets": [
            "97d9a2ee694d42b8ba5f8acb8f8d786e",
            "2cfcc5d949dd434bbd24358d2be95201",
            "f816bf35c7bc418cb7c1ad65abc5f097",
            "5e313c4dab3540a2b5bc920691e268ba",
            "0fefe24b7a9a4fe59adb8e990a822880",
            "d277258a63d7471aab033fd000d81580",
            "1343d505f94a4a03b68a88d0d5f6361c",
            "9e3b444bd8fb4b7094bb3f7f0158cf6b",
            "1e81327d654e44a5918e528ddc72418b",
            "b0ca3e1bc1084c99a4afb55a22803d2f",
            "2d50a72f96994fb39744f79c7a9f7f45",
            "f4d2d33d17d4495d8fa4b254486a66f6",
            "7cb0054434974a20ba84a041c8c4f62c",
            "85886f34d1a84b47a893dfdadfd80d3b",
            "b4ad3be66aad4a5e9e2b5a731c942be5",
            "e029e3ba2ff94b1f8472130e3a44dc42",
            "ba5d60281468462eb1ea6b1fbe9deb82",
            "b3356619a23140f68516940da12a756f",
            "de7f8a5e1d344c8f99e122784afb19fc",
            "9e90be75f4304f9d8acae6604bb731ed",
            "e01fb7ee65bc491fbb79af76acd0ea7b",
            "553b6d0e15cc4b6c8f13376a53b06c81",
            "522f99eca3fa4deea7f6a41466fecbdc",
            "cfc917d9d73d4d18943701d86510d0f6",
            "f75f578c573845a19e9f544116cc5ffa",
            "72af29274cd845e38aaf29ff09eb56b8",
            "27a77309a7384d7db29236151e1fd9db",
            "faef3277e4b04132974685045776c9e6",
            "cb303ea9b48d48509f2efd720ec0ca8d",
            "08d642e5c6af411ca6fba801f316357d",
            "8949bd4654544cd4b65be9a56e39e694",
            "2b2cce900cff4e5c9e43c6833c95a5a0",
            "37624862a1af4bf19a9e8306badf47ac",
            "3224bfe37f794be382dc14e9e788122b",
            "c03f96d3df4240fd89485b34ef9c193d",
            "f789da3c42dd48c68dbae3c2a395ec76",
            "2b7ed40f74e74738a584ae45629ea4eb",
            "fca11be91f0b44f2899b75fbd6503dd8",
            "83b257bf92e74d7faee61940df326fe0",
            "d58b39c55d6945b9916a3a1879bf0193",
            "b8c1d556f3ab4366ad81a32609da0bd3",
            "368e612ac76e4b2fa3459a105b47d056",
            "f14cb36101a84a499258f4f85f5873fa",
            "d5360cae3d4e46ca806630df4104e316",
            "cfd9c539cc5f4c70a04690de1c80a8e5",
            "73de63e9af2c42d78614d1f45151968b",
            "c593abb1889a41b0bf32b618a7f50b05",
            "84470f264b554c67a3d4684a914d928e",
            "f03d5a96bc2f41d6bd0d0dfb3454bd1a",
            "de0a0d5b4b3748b796f896a2a60a6fb0",
            "3b2716a55c514ef5a333800927d18ed7",
            "f8336542e1ea4721b303acaa7f18b438",
            "4ce319dc434b4b6ca56285eb14866e2b",
            "e087c08a37a54e66bfa8b32fb7fe8698",
            "2b7cf076f33049f4b7d2b894d60068d5",
            "bb402065f6304ca6834cb220eff5bea7",
            "2cd9ff5735e94e8e8dc65dd1c554103a",
            "879193ad1d1f484a87fa18340cd808bb",
            "c8f0660d9eef45d4a996de59e05bb782",
            "1b733a53a8e6428f9b7fd8b30d6d19a2",
            "7732e9e459c340c988dede7436e73ac5",
            "4109947e9b9d44b6accba07707b2bffe",
            "9377afdbd26346ffb07287dd613ecfe6",
            "e387fb60a2df411499abaa6fb9b23ff1",
            "695ad190afcc4728811d47acf7cbad42",
            "64bb724ef1bb4b9eaba8cf6f5927d471",
            "dc5603bc745346e2a4e47ad4667d0110",
            "a73c541c172446ffbf5f96037e37e411",
            "6dbbe7cdc9a6456d95d415130154a208",
            "b29a3b03e5f5462dbd4d8187e8bae13c",
            "ecc546640c9047eaa913510a080c43f9",
            "dc4362bf48914152ab85909d4670d4c7",
            "3191725a99114330b80828caeb2fd7a7",
            "9d1aff0cb3184aee93fc1d75a255e7a2",
            "f714be70944a4de7818a72bd2b239e4d",
            "c1000f5328d04352a7170068121f809c",
            "5151ad3f10f346809206f46dc9009517",
            "8a8e5be61efc492b8b4bb759726cb369",
            "98bab79e6cad4d7e8962ebc127f42063",
            "b5ca0b3d01f04b808c20a58b9f83468f",
            "fa2368ac41ed4bbfaba5ac2891d3dba5",
            "365faf85b92e4a28a2f3a3535c257743",
            "535c3e69822745a88b546f23572c26ef",
            "16728e128eea4aa591c28315422224b6",
            "1ee9d0ba96804e8785a67ecf82584bc3",
            "d4aef4098b6c4bbbb03fc50cc5fe4df1",
            "1b1e58db66974b75b09b1ce25d5225d1",
            "b20ca51d1fe64f6097f0062c5ed563f9",
            "8ff80d3971c941c887dada068c85c8f6",
            "cad3b0b518d94da2bfbf56afde83589f",
            "d84cd1146dcc4ea4b6c4de76fd964537",
            "09712631572d42c89add687da5039aa9",
            "d307408df7de4b7ca526d03d66f1c049",
            "459bab6b6de64f8ebba3b55cf0ae6970",
            "f49b3810e7244f86b74748a8e7cd4187",
            "3c73183b055e4f178a25af6c4c824a02",
            "65efdabdfa36458dbf991b165102b572",
            "c843384c331743e8a46d9b17a27cf2ef",
            "b99e3915c1b349048f360218d54ffae6",
            "1b6453f80dc747d29726421102d6dea4",
            "55a23b7a437e4720885279da1e6a56aa",
            "f46cb413b2374fe591d5d9ecc8427772",
            "a295a43f96c743e38fc67c73b8dd236f",
            "33f952b5879547279f2ebed5ad23ac0e",
            "c350ab9de6db44e08aa7462afd65e7c3",
            "392889af9db44bf0bc40ed64508aef79",
            "32e6c1328077438b976f91787249f93e",
            "eb58e0a54af74fde9d0499cad842645e",
            "170327b1390f4900890f013c94236d71",
            "1da0d4e2b9d541f29307e5055df3ea91",
            "596c7d2683e24490a66e6806c6cc9ceb",
            "bd4159d2d4a943e58da3f9c17b4626a3",
            "549e5a8bb25146178f1d8c77d78084be",
            "c39ae0e02ef14587b14e71ec0673c267",
            "822f48f14da5458f91db3a4dc53bca84",
            "69a4495e0b894b2aaf3087ab0d8ea674",
            "730e1aec53f74599ba4c51dde3592b79",
            "e8b7e7c1ed374315899f2357c15895ba",
            "75fae932e695411aae7747a5faf3fe47",
            "d6386d2123b24a478dd594186d328b08",
            "467dcf6890fc47dc93c468582c3f9b0b"
          ]
        },
        "id": "rK5pQrF8i-dT",
        "outputId": "616390f5-8785-4ed8-93df-b8d9d5dfb59b"
      },
      "outputs": [
        {
          "data": {
            "application/vnd.jupyter.widget-view+json": {
              "model_id": "97d9a2ee694d42b8ba5f8acb8f8d786e",
              "version_major": 2,
              "version_minor": 0
            },
            "text/plain": [
              "modules.json:   0%|          | 0.00/349 [00:00<?, ?B/s]"
            ]
          },
          "metadata": {},
          "output_type": "display_data"
        },
        {
          "data": {
            "application/vnd.jupyter.widget-view+json": {
              "model_id": "f4d2d33d17d4495d8fa4b254486a66f6",
              "version_major": 2,
              "version_minor": 0
            },
            "text/plain": [
              "config_sentence_transformers.json:   0%|          | 0.00/116 [00:00<?, ?B/s]"
            ]
          },
          "metadata": {},
          "output_type": "display_data"
        },
        {
          "data": {
            "application/vnd.jupyter.widget-view+json": {
              "model_id": "522f99eca3fa4deea7f6a41466fecbdc",
              "version_major": 2,
              "version_minor": 0
            },
            "text/plain": [
              "README.md: 0.00B [00:00, ?B/s]"
            ]
          },
          "metadata": {},
          "output_type": "display_data"
        },
        {
          "data": {
            "application/vnd.jupyter.widget-view+json": {
              "model_id": "3224bfe37f794be382dc14e9e788122b",
              "version_major": 2,
              "version_minor": 0
            },
            "text/plain": [
              "sentence_bert_config.json:   0%|          | 0.00/53.0 [00:00<?, ?B/s]"
            ]
          },
          "metadata": {},
          "output_type": "display_data"
        },
        {
          "data": {
            "application/vnd.jupyter.widget-view+json": {
              "model_id": "cfd9c539cc5f4c70a04690de1c80a8e5",
              "version_major": 2,
              "version_minor": 0
            },
            "text/plain": [
              "config.json:   0%|          | 0.00/612 [00:00<?, ?B/s]"
            ]
          },
          "metadata": {},
          "output_type": "display_data"
        },
        {
          "data": {
            "application/vnd.jupyter.widget-view+json": {
              "model_id": "bb402065f6304ca6834cb220eff5bea7",
              "version_major": 2,
              "version_minor": 0
            },
            "text/plain": [
              "model.safetensors:   0%|          | 0.00/90.9M [00:00<?, ?B/s]"
            ]
          },
          "metadata": {},
          "output_type": "display_data"
        },
        {
          "data": {
            "application/vnd.jupyter.widget-view+json": {
              "model_id": "dc5603bc745346e2a4e47ad4667d0110",
              "version_major": 2,
              "version_minor": 0
            },
            "text/plain": [
              "tokenizer_config.json:   0%|          | 0.00/350 [00:00<?, ?B/s]"
            ]
          },
          "metadata": {},
          "output_type": "display_data"
        },
        {
          "data": {
            "application/vnd.jupyter.widget-view+json": {
              "model_id": "8a8e5be61efc492b8b4bb759726cb369",
              "version_major": 2,
              "version_minor": 0
            },
            "text/plain": [
              "vocab.txt: 0.00B [00:00, ?B/s]"
            ]
          },
          "metadata": {},
          "output_type": "display_data"
        },
        {
          "data": {
            "application/vnd.jupyter.widget-view+json": {
              "model_id": "8ff80d3971c941c887dada068c85c8f6",
              "version_major": 2,
              "version_minor": 0
            },
            "text/plain": [
              "tokenizer.json: 0.00B [00:00, ?B/s]"
            ]
          },
          "metadata": {},
          "output_type": "display_data"
        },
        {
          "data": {
            "application/vnd.jupyter.widget-view+json": {
              "model_id": "1b6453f80dc747d29726421102d6dea4",
              "version_major": 2,
              "version_minor": 0
            },
            "text/plain": [
              "special_tokens_map.json:   0%|          | 0.00/112 [00:00<?, ?B/s]"
            ]
          },
          "metadata": {},
          "output_type": "display_data"
        },
        {
          "data": {
            "application/vnd.jupyter.widget-view+json": {
              "model_id": "596c7d2683e24490a66e6806c6cc9ceb",
              "version_major": 2,
              "version_minor": 0
            },
            "text/plain": [
              "config.json:   0%|          | 0.00/190 [00:00<?, ?B/s]"
            ]
          },
          "metadata": {},
          "output_type": "display_data"
        },
        {
          "name": "stdout",
          "output_type": "stream",
          "text": [
            "✅ Similarity model loaded.\n"
          ]
        }
      ],
      "source": [
        "similarity_model = SentenceTransformer('all-MiniLM-L6-v2')\n",
        "print(\"✅ Similarity model loaded.\")"
      ]
    },
    {
      "cell_type": "markdown",
      "metadata": {
        "id": "EMGnDj2OjAxg"
      },
      "source": [
        "## Part 1: Text Input Processing\n",
        "###  Load Single Text File\n",
        "Load and clean a text file from a URL."
      ]
    },
    {
      "cell_type": "code",
      "execution_count": 6,
      "metadata": {
        "id": "LWigWKhFjFAL"
      },
      "outputs": [],
      "source": [
        "def load_text_file(url):\n",
        "    \"\"\"Load and clean text from a URL.\"\"\"\n",
        "    try:\n",
        "        response = requests.get(url, timeout=30)\n",
        "        response.raise_for_status()\n",
        "        text = response.text\n",
        "        # Clean Gutenberg headers/footers\n",
        "        start_idx = max([text.find(marker) for marker in [\"*** START OF\", \"CHAPTER\"]] + [0])\n",
        "        end_idx = text.find(\"*** END OF\")\n",
        "        if start_idx > 0 and end_idx > 0:\n",
        "            text = text[start_idx:end_idx]\n",
        "        if len(text) < 100:\n",
        "            raise ValueError(\"Text is too short.\")\n",
        "        return text.strip(), \"Text file\"\n",
        "    except Exception as e:\n",
        "        print(f\"Error loading text from {url}: {e}\")\n",
        "        fallback = \"\"\"Natural Language Processing enables computers to understand human language.\"\"\"\n",
        "        return fallback, \"Fallback text\""
      ]
    },
    {
      "cell_type": "markdown",
      "metadata": {
        "id": "iJ3hz-DFjJiM"
      },
      "source": [
        "###  Validate Text Input\n",
        "Validate text length and content."
      ]
    },
    {
      "cell_type": "code",
      "execution_count": 7,
      "metadata": {
        "id": "V-Arv89mjM5j"
      },
      "outputs": [],
      "source": [
        "def validate_text(text):\n",
        "    \"\"\"Validate text input.\"\"\"\n",
        "    if not isinstance(text, str) or len(text.strip()) < 50:\n",
        "        raise ValueError(\"Invalid text: must be a string with at least 50 characters.\")\n",
        "    return text"
      ]
    },
    {
      "cell_type": "markdown",
      "metadata": {
        "id": "U9lJUUltjPQg"
      },
      "source": [
        "### Load Multiple Text Files\n",
        "Load two text files for processing."
      ]
    },
    {
      "cell_type": "code",
      "execution_count": 8,
      "metadata": {
        "id": "ID481QGZjSsC"
      },
      "outputs": [],
      "source": [
        "def load_multiple_text_files(urls):\n",
        "    \"\"\"Load multiple text files with validation.\"\"\"\n",
        "    if len(urls) != 2:\n",
        "        raise ValueError(\"Exactly two URLs must be provided.\")\n",
        "    texts = {}\n",
        "    for i, url in enumerate(urls, 1):\n",
        "        text, source = load_text_file(url)\n",
        "        text = validate_text(text)\n",
        "        texts[f\"Text {i}\"] = {'text': text[:50000], 'source': source}  # Limit size\n",
        "    return texts"
      ]
    },
    {
      "cell_type": "markdown",
      "metadata": {
        "id": "gjtIBn2JjX3M"
      },
      "source": [
        "###  Test Text Loading\n",
        "Load and preview two Gutenberg texts."
      ]
    },
    {
      "cell_type": "code",
      "execution_count": 9,
      "metadata": {
        "colab": {
          "base_uri": "https://localhost:8080/"
        },
        "id": "DFcGylwIjY9o",
        "outputId": "0cd54494-7fbe-4433-9fb6-76be24383ba2"
      },
      "outputs": [
        {
          "name": "stdout",
          "output_type": "stream",
          "text": [
            "Text 1 (Text file): 50,000 characters\n",
            "Preview: *** START OF THE PROJECT GUTENBERG EBOOK 84 ***\n",
            "\n",
            "Frankenstein;\n",
            "\n",
            "or, the Modern Prometheus\n",
            "\n",
            "by Mary Wollstonecraft (Godwin) Shelley\n",
            "\n",
            "\n",
            " CONTENTS\n",
            "\n",
            " Lette...\n",
            "Text 2 (Text file): 50,000 characters\n",
            "Preview: CHAPTER II.\r\n",
            "\r\n",
            "\r\n",
            "[Illustration]\r\n",
            "\r\n",
            "Mr. Bennet was among the earliest of those who waited on Mr. Bingley. He\r\n",
            "had always intended to visit him, though ...\n"
          ]
        }
      ],
      "source": [
        "file_urls = [\n",
        "\n",
        "    \"https://www.gutenberg.org/files/84/84-0.txt\",  # Frankenstein\n",
        "    \"https://www.gutenberg.org/files/1342/1342-0.txt\"  # Pride and Prejudice\n",
        "]\n",
        "loaded_texts = load_multiple_text_files(file_urls)\n",
        "for key, data in loaded_texts.items():\n",
        "    print(f\"{key} ({data['source']}): {len(data['text']):,} characters\")\n",
        "    print(f\"Preview: {data['text'][:150]}...\")"
      ]
    },
    {
      "cell_type": "markdown",
      "metadata": {
        "id": "brJXyI6yjbtp"
      },
      "source": [
        "## Part 2: Core Analysis Components\n",
        "### Section 2.1: T5 Summarization\n",
        "Summarize text using T5."
      ]
    },
    {
      "cell_type": "code",
      "execution_count": 10,
      "metadata": {
        "id": "T6xztHMzjeoC"
      },
      "outputs": [],
      "source": [
        "def generate_t5_summary(text, min_len=40, max_len=150, beams=4):\n",
        "    \"\"\"Abstractive summarization with T5.\"\"\"\n",
        "    input_text = \"summarize: \" + text.strip().replace(\"\\n\", \" \")\n",
        "    inputs = t5_tokenizer.encode(input_text, return_tensors='pt', max_length=1024, truncation=True)\n",
        "    summary_ids = t5_model.generate(\n",
        "        inputs,\n",
        "        max_length=max_len,\n",
        "        min_length=min_len,\n",
        "        num_beams=beams,\n",
        "        no_repeat_ngram_size=3,\n",
        "        length_penalty=2.0,\n",
        "        early_stopping=True\n",
        "    )\n",
        "    return t5_tokenizer.decode(summary_ids[0], skip_special_tokens=True)"
      ]
    },
    {
      "cell_type": "code",
      "execution_count": 11,
      "metadata": {
        "id": "dIdrPbQmoxLq"
      },
      "outputs": [],
      "source": [
        "def clean_text(text):\n",
        "    \"\"\"Remove special characters and normalize whitespace.\"\"\"\n",
        "    text = re.sub(r'[^\\x00-\\x7F]+', ' ', text)  # Remove non-ASCII characters\n",
        "    text = re.sub(r'\\s+', ' ', text)  # Normalize whitespace\n",
        "    return text.strip()"
      ]
    },
    {
      "cell_type": "markdown",
      "metadata": {
        "id": "lvAjCpv_jku1"
      },
      "source": [
        "###  BART Summarization\n",
        "Summarize text using BART."
      ]
    },
    {
      "cell_type": "code",
      "execution_count": 12,
      "metadata": {
        "id": "jXnJC-wNjl1A"
      },
      "outputs": [],
      "source": [
        "def generate_bart_summary(text, min_len=40, max_len=150, beams=4):\n",
        "    \"\"\"Abstractive summarization with BART.\"\"\"\n",
        "    inputs = bart_tokenizer.encode(text, return_tensors='pt', max_length=1024, truncation=True)\n",
        "    summary_ids = bart_model.generate(\n",
        "        inputs,\n",
        "        max_length=max_len,\n",
        "        min_length=min_len,\n",
        "        num_beams=beams,\n",
        "        no_repeat_ngram_size=3,\n",
        "        length_penalty=2.0,\n",
        "        early_stopping=True\n",
        "    )\n",
        "    return bart_tokenizer.decode(summary_ids[0], skip_special_tokens=True)"
      ]
    },
    {
      "cell_type": "markdown",
      "metadata": {
        "id": "lUL-BMTojpDf"
      },
      "source": [
        "### PEGASUS Summarization\n",
        "Summarize text using PEGASUS."
      ]
    },
    {
      "cell_type": "code",
      "execution_count": 13,
      "metadata": {
        "id": "erKxAroQjul3"
      },
      "outputs": [],
      "source": [
        "def generate_pegasus_summary(text, min_len=40, max_len=150, beams=4):\n",
        "    \"\"\"Abstractive summarization with PEGASUS.\"\"\"\n",
        "    # Clean and truncate input to prevent tokenization issues\n",
        "    text = clean_text(text[:1500])  # Stricter truncation to 1500 chars\n",
        "    try:\n",
        "        inputs = pegasus_sum_tokenizer.encode(\n",
        "            text,\n",
        "            return_tensors='pt',\n",
        "            max_length=512,  # Reduced max_length for safety\n",
        "            truncation=True,\n",
        "            padding='max_length'  # Ensure consistent input size\n",
        "        )\n",
        "        # Validate token IDs\n",
        "        if inputs.max().item() >= pegasus_sum_tokenizer.vocab_size:\n",
        "            raise ValueError(f\"Token ID {inputs.max().item()} exceeds vocab size {pegasus_sum_tokenizer.vocab_size}.\")\n",
        "        summary_ids = pegasus_sum_model.generate(\n",
        "            inputs,\n",
        "            max_length=max_len,\n",
        "            min_length=min_len,\n",
        "            num_beams=beams,\n",
        "            no_repeat_ngram_size=3,\n",
        "            length_penalty=2.0,\n",
        "            early_stopping=True\n",
        "        )\n",
        "        return pegasus_sum_tokenizer.decode(summary_ids[0], skip_special_tokens=True)\n",
        "    except Exception as e:\n",
        "        print(f\"PEGASUS summarization failed: {e}\")\n",
        "        return \"Summary unavailable due to processing error.\""
      ]
    },
    {
      "cell_type": "markdown",
      "metadata": {
        "id": "IywgPGxfjyCT"
      },
      "source": [
        "###  PEGASUS Paraphrasing\n",
        "Generate paraphrases using PEGASUS."
      ]
    },
    {
      "cell_type": "code",
      "execution_count": 14,
      "metadata": {
        "id": "VEXAsUhWj0K7"
      },
      "outputs": [],
      "source": [
        "def generate_pegasus_paraphrase(text, num_return=3, beams=10):\n",
        "    \"\"\"Generate paraphrases with PEGASUS.\"\"\"\n",
        "    inputs = pegasus_para_tokenizer.encode(text, return_tensors='pt', truncation=True, max_length=60)\n",
        "    paraphrase_ids = pegasus_para_model.generate(\n",
        "        inputs,\n",
        "        max_length=60,\n",
        "        num_beams=beams,\n",
        "        num_return_sequences=num_return,\n",
        "        early_stopping=True\n",
        "    )\n",
        "    return pegasus_para_tokenizer.batch_decode(paraphrase_ids, skip_special_tokens=True)"
      ]
    },
    {
      "cell_type": "markdown",
      "metadata": {
        "id": "OaZP2Yudj6TK"
      },
      "source": [
        "### T5 Paraphrasing\n",
        "Generate paraphrases using T5-Paraphrase."
      ]
    },
    {
      "cell_type": "code",
      "execution_count": 15,
      "metadata": {
        "id": "uqN4KPlxj7Ij"
      },
      "outputs": [],
      "source": [
        "def generate_t5_paraphrase(text, num_return=3, beams=10):\n",
        "    \"\"\"Generate paraphrases with T5-Paraphrase.\"\"\"\n",
        "    input_text = f\"paraphrase: {text} </s>\"\n",
        "    inputs = paraphrase_t5_tokenizer.encode(input_text, return_tensors='pt', max_length=512, truncation=True)\n",
        "    paraphrase_ids = paraphrase_t5_model.generate(\n",
        "        inputs,\n",
        "        max_length=60,\n",
        "        num_beams=beams,\n",
        "        num_return_sequences=num_return,\n",
        "        early_stopping=True\n",
        "    )\n",
        "    return paraphrase_t5_tokenizer.batch_decode(paraphrase_ids, skip_special_tokens=True)"
      ]
    },
    {
      "cell_type": "markdown",
      "metadata": {
        "id": "hyvg3h5qkBnJ"
      },
      "source": [
        "###  BART Paraphrasing\n",
        "Generate paraphrases using BART-Paraphrase."
      ]
    },
    {
      "cell_type": "code",
      "execution_count": 16,
      "metadata": {
        "id": "wuYhp9q2kCcl"
      },
      "outputs": [],
      "source": [
        "def generate_bart_paraphrase(text, num_return=3, beams=10):\n",
        "    \"\"\"Generate paraphrases with BART-Paraphrase.\"\"\"\n",
        "    inputs = paraphrase_bart_tokenizer.encode(text, return_tensors='pt', truncation=True, max_length=60)\n",
        "    paraphrase_ids = paraphrase_bart_model.generate(\n",
        "        inputs,\n",
        "        max_length=60,\n",
        "        num_beams=beams,\n",
        "        num_return_sequences=num_return,\n",
        "        early_stopping=True\n",
        "    )\n",
        "    return paraphrase_bart_tokenizer.batch_decode(paraphrase_ids, skip_special_tokens=True)"
      ]
    },
    {
      "cell_type": "markdown",
      "metadata": {
        "id": "b0O2Qs3DkHD5"
      },
      "source": [
        "###  Similarity Analysis\n",
        "Compute semantic similarity."
      ]
    },
    {
      "cell_type": "code",
      "execution_count": 17,
      "metadata": {
        "id": "DcH5JhqhkHu5"
      },
      "outputs": [],
      "source": [
        "def compute_similarity(text1, text2):\n",
        "    \"\"\"Compute cosine similarity between texts.\"\"\"\n",
        "    embeddings = similarity_model.encode([text1, text2])\n",
        "    return cosine_similarity([embeddings[0]], [embeddings[1]])[0][0]"
      ]
    },
    {
      "cell_type": "markdown",
      "metadata": {
        "id": "jVwBdE9tkLDg"
      },
      "source": [
        "##  Enhanced Model Comparison\n",
        "###  Summary Length Analysis\n",
        "Compute summary length."
      ]
    },
    {
      "cell_type": "code",
      "execution_count": 18,
      "metadata": {
        "id": "tI6FLsq0kNWH"
      },
      "outputs": [],
      "source": [
        "def analyze_summary_length(summary):\n",
        "    \"\"\"Compute word count of summary.\"\"\"\n",
        "    return len(summary.split())  # Simple split instead of NLTK tokenization"
      ]
    },
    {
      "cell_type": "markdown",
      "metadata": {
        "id": "56u6ccYWkSQ1"
      },
      "source": [
        "###  Similarity to Original\n",
        "Compute similarity to original text."
      ]
    },
    {
      "cell_type": "code",
      "execution_count": 19,
      "metadata": {
        "id": "iWR2WO3YkUfI"
      },
      "outputs": [],
      "source": [
        "def similarity_to_original(summary, original_text):\n",
        "    \"\"\"Compute similarity between summary and original.\"\"\"\n",
        "    return compute_similarity(summary, original_text[:2000])"
      ]
    },
    {
      "cell_type": "markdown",
      "metadata": {
        "id": "ytOszqKGkYPj"
      },
      "source": [
        "### Enhanced Summarization Comparison\n",
        "Compare T5, BART, and PEGASUS for summarization."
      ]
    },
    {
      "cell_type": "code",
      "execution_count": 20,
      "metadata": {
        "id": "2mErKEJEkZEw"
      },
      "outputs": [],
      "source": [
        "def compare_summarizers_enhanced(text, min_len=40, max_len=150, beams=4):\n",
        "    \"\"\"Enhanced comparison of T5, BART, and PEGASUS for summarization.\"\"\"\n",
        "    t5_sum = generate_t5_summary(text[:2000], min_len, max_len, beams)\n",
        "    bart_sum = generate_bart_summary(text[:2000], min_len, max_len, beams)\n",
        "    pegasus_sum = generate_pegasus_summary(text[:2000], min_len, max_len, beams)\n",
        "\n",
        "    metrics = {\n",
        "        't5': {\n",
        "            'summary': t5_sum,\n",
        "            'length': analyze_summary_length(t5_sum),\n",
        "            'sim_to_original': similarity_to_original(t5_sum, text)\n",
        "        },\n",
        "        'bart': {\n",
        "            'summary': bart_sum,\n",
        "            'length': analyze_summary_length(bart_sum),\n",
        "            'sim_to_original': similarity_to_original(bart_sum, text)\n",
        "        },\n",
        "        'pegasus': {\n",
        "            'summary': pegasus_sum,\n",
        "            'length': analyze_summary_length(pegasus_sum),\n",
        "            'sim_to_original': similarity_to_original(pegasus_sum, text)\n",
        "        },\n",
        "        'sim_t5_bart': compute_similarity(t5_sum, bart_sum),\n",
        "        'sim_t5_pegasus': compute_similarity(t5_sum, pegasus_sum),\n",
        "        'sim_bart_pegasus': compute_similarity(bart_sum, pegasus_sum)\n",
        "    }\n",
        "\n",
        "    print(\"----------- Enhanced Summarization Comparison -----------\")\n",
        "    print(f\"T5 Summary (Length: {metrics['t5']['length']}, Sim to Original: {metrics['t5']['sim_to_original']:.3f}):\")\n",
        "    print(textwrap.fill(t5_sum, width=100))\n",
        "    print(f\"\\nBART Summary (Length: {metrics['bart']['length']}, Sim to Original: {metrics['bart']['sim_to_original']:.3f}):\")\n",
        "    print(textwrap.fill(bart_sum, width=100))\n",
        "    print(f\"\\nPEGASUS Summary (Length: {metrics['pegasus']['length']}, Sim to Original: {metrics['pegasus']['sim_to_original']:.3f}):\")\n",
        "    print(textwrap.fill(pegasus_sum, width=100))\n",
        "    print(f\"\\nSimilarity T5 vs BART: {metrics['sim_t5_bart']:.3f}\")\n",
        "    print(f\"Similarity T5 vs PEGASUS: {metrics['sim_t5_pegasus']:.3f}\")\n",
        "    print(f\"Similarity BART vs PEGASUS: {metrics['sim_bart_pegasus']:.3f}\")\n",
        "\n",
        "    return metrics"
      ]
    },
    {
      "cell_type": "markdown",
      "metadata": {
        "id": "aZOLpEnqkjyj"
      },
      "source": [
        "### Section 3.4: Enhanced Paraphrasing Comparison\n",
        "Compare PEGASUS, T5-Paraphrase, and BART-Paraphrase."
      ]
    },
    {
      "cell_type": "code",
      "execution_count": 21,
      "metadata": {
        "id": "5tCRtDqjkmol"
      },
      "outputs": [],
      "source": [
        "def compare_paraphrasers_enhanced(text, num_return=3, beams=10):\n",
        "    \"\"\"Enhanced comparison of PEGASUS, T5-Paraphrase, and BART-Paraphrase.\"\"\"\n",
        "    peg_paras = generate_pegasus_paraphrase(text, num_return, beams)\n",
        "    t5_paras = generate_t5_paraphrase(text, num_return, beams)\n",
        "    bart_paras = generate_bart_paraphrase(text, num_return, beams)\n",
        "\n",
        "    metrics = {\n",
        "        'pegasus': {\n",
        "            'paraphrases': peg_paras,\n",
        "            'avg_length': sum(len(p.split()) for p in peg_paras) / len(peg_paras),\n",
        "            'avg_sim_to_original': sum(compute_similarity(p, text) for p in peg_paras) / len(peg_paras)\n",
        "        },\n",
        "        't5_paraphrase': {\n",
        "            'paraphrases': t5_paras,\n",
        "            'avg_length': sum(len(p.split()) for p in t5_paras) / len(t5_paras),\n",
        "            'avg_sim_to_original': sum(compute_similarity(p, text) for p in t5_paras) / len(t5_paras)\n",
        "        },\n",
        "        'bart_paraphrase': {\n",
        "            'paraphrases': bart_paras,\n",
        "            'avg_length': sum(len(p.split()) for p in bart_paras) / len(bart_paras),\n",
        "            'avg_sim_to_original': sum(compute_similarity(p, text) for p in bart_paras) / len(bart_paras)\n",
        "        },\n",
        "        'avg_sim_peg_t5': sum(compute_similarity(peg_paras[i], t5_paras[i]) for i in range(num_return)) / num_return,\n",
        "        'avg_sim_peg_bart': sum(compute_similarity(peg_paras[i], bart_paras[i]) for i in range(num_return)) / num_return,\n",
        "        'avg_sim_t5_bart': sum(compute_similarity(t5_paras[i], bart_paras[i]) for i in range(num_return)) / num_return\n",
        "    }\n",
        "\n",
        "    print(\"----------- Enhanced Paraphrasing Comparison -----------\")\n",
        "    print(f\"PEGASUS Paraphrases (Avg Length: {metrics['pegasus']['avg_length']:.1f}, Avg Sim to Original: {metrics['pegasus']['avg_sim_to_original']:.3f}):\")\n",
        "    for i, p in enumerate(peg_paras, 1):\n",
        "        print(f\"  {i}. {p}\")\n",
        "    print(f\"\\nT5-Paraphrase Paraphrases (Avg Length: {metrics['t5_paraphrase']['avg_length']:.1f}, Avg Sim to Original: {metrics['t5_paraphrase']['avg_sim_to_original']:.3f}):\")\n",
        "    for i, p in enumerate(t5_paras, 1):\n",
        "        print(f\"  {i}. {p}\")\n",
        "    print(f\"\\nBART-Paraphrase Paraphrases (Avg Length: {metrics['bart_paraphrase']['avg_length']:.1f}, Avg Sim to Original: {metrics['bart_paraphrase']['avg_sim_to_original']:.3f}):\")\n",
        "    for i, p in enumerate(bart_paras, 1):\n",
        "        print(f\"  {i}. {p}\")\n",
        "    print(f\"\\nAverage Similarity PEGASUS vs T5-Paraphrase: {metrics['avg_sim_peg_t5']:.3f}\")\n",
        "    print(f\"Average Similarity PEGASUS vs BART-Paraphrase: {metrics['avg_sim_peg_bart']:.3f}\")\n",
        "    print(f\"Average Similarity T5-Paraphrase vs BART-Paraphrase: {metrics['avg_sim_t5_bart']:.3f}\")\n",
        "\n",
        "    return metrics"
      ]
    },
    {
      "cell_type": "markdown",
      "metadata": {
        "id": "TALNNGd4kvyP"
      },
      "source": [
        "##  Integrated TextMorph Pipeline\n",
        "###  Pipeline Initialization\n",
        "Initialize the pipeline class."
      ]
    },
    {
      "cell_type": "code",
      "execution_count": 22,
      "metadata": {
        "id": "0NOx3wfykyVG"
      },
      "outputs": [],
      "source": [
        "class TextMorphPipeline:\n",
        "    \"\"\"Streamlined TextMorph pipeline for text files, no preprocessing or NLP.\"\"\"\n",
        "\n",
        "    def __init__(self):\n",
        "        self.reference_texts = []\n",
        "\n",
        "    def add_reference(self, text):\n",
        "        \"\"\"Add reference text for similarity.\"\"\"\n",
        "        self.reference_texts.append(text)"
      ]
    },
    {
      "cell_type": "markdown",
      "metadata": {
        "id": "Fv1uzKPKk1Ty"
      },
      "source": [
        "###  Pipeline Summarization Step\n",
        "Summarize in pipeline."
      ]
    },
    {
      "cell_type": "code",
      "execution_count": 23,
      "metadata": {
        "id": "fZbY02Qdk8RR"
      },
      "outputs": [],
      "source": [
        "def pipeline_summarize(self, input_text, summarizer='t5'):\n",
        "    \"\"\"Summarization step in pipeline.\"\"\"\n",
        "    if summarizer == 't5':\n",
        "        summary = generate_t5_summary(input_text)\n",
        "    elif summarizer == 'bart':\n",
        "        summary = generate_bart_summary(input_text)\n",
        "    elif summarizer == 'pegasus':\n",
        "        summary = generate_pegasus_summary(input_text)\n",
        "    else:\n",
        "        raise ValueError(\"Invalid summarizer. Choose 't5', 'bart', or 'pegasus'.\")\n",
        "    return summary, summarizer"
      ]
    },
    {
      "cell_type": "markdown",
      "metadata": {
        "id": "_cRwE7jQk_TD"
      },
      "source": [
        "###  Pipeline Paraphrasing Step\n",
        "Paraphrase in pipeline with comparison."
      ]
    },
    {
      "cell_type": "code",
      "execution_count": 24,
      "metadata": {
        "id": "qAf8trqElB0L"
      },
      "outputs": [],
      "source": [
        "def pipeline_paraphrase(self, input_text, paraphrase_sentences=2):\n",
        "    \"\"\"Paraphrasing step with comparison.\"\"\"\n",
        "    # Simple sentence splitting without NLTK\n",
        "    sentences = re.split(r'[.!?]+', input_text)[:paraphrase_sentences]\n",
        "    sentences = [s.strip() for s in sentences if s.strip()]\n",
        "    paraphrases = {}\n",
        "    for i, sent in enumerate(sentences):\n",
        "        key = f'Sentence {i+1}'\n",
        "        metrics = compare_paraphrasers_enhanced(sent)\n",
        "        paraphrases[key] = {'original': sent[:100] + \"...\", 'metrics': metrics}\n",
        "    return paraphrases"
      ]
    },
    {
      "cell_type": "markdown",
      "metadata": {
        "id": "V8-y7PHplEQC"
      },
      "source": [
        "###  Pipeline Similarity Step\n",
        "Compute similarity in pipeline."
      ]
    },
    {
      "cell_type": "code",
      "execution_count": 25,
      "metadata": {
        "id": "IENpCAPvlGy1"
      },
      "outputs": [],
      "source": [
        "def pipeline_similarity(self, input_text, top_k_similar=2):\n",
        "    \"\"\"Similarity step in pipeline.\"\"\"\n",
        "    if self.reference_texts:\n",
        "        similarities = [(i+1, compute_similarity(input_text[:2000], ref)) for i, ref in enumerate(self.reference_texts)]\n",
        "        similarities.sort(key=lambda x: x[1], reverse=True)\n",
        "        return similarities[:top_k_similar]\n",
        "    return []"
      ]
    },
    {
      "cell_type": "markdown",
      "metadata": {
        "id": "vAL3-1IklJmd"
      },
      "source": [
        "###  Full Pipeline Process\n",
        "Run the full pipeline."
      ]
    },
    {
      "cell_type": "code",
      "execution_count": 26,
      "metadata": {
        "id": "YhtFAFRBlSza"
      },
      "outputs": [],
      "source": [
        "def process(self, input_text, summarizer='t5', paraphrase_sentences=2, top_k_similar=2):\n",
        "    \"\"\"Run the full pipeline.\"\"\"\n",
        "    results = {}\n",
        "\n",
        "    summary, used_summarizer = pipeline_summarize(self, input_text, summarizer)\n",
        "    results['summary'] = summary\n",
        "    results['summarizer_used'] = used_summarizer\n",
        "\n",
        "    results['paraphrases'] = pipeline_paraphrase(self, input_text, paraphrase_sentences)\n",
        "\n",
        "    results['similarities'] = pipeline_similarity(self, input_text, top_k_similar)\n",
        "\n",
        "    return results\n",
        "\n",
        "# Bind methods to class\n",
        "TextMorphPipeline.pipeline_summarize = pipeline_summarize\n",
        "TextMorphPipeline.pipeline_paraphrase = pipeline_paraphrase\n",
        "TextMorphPipeline.pipeline_similarity = pipeline_similarity\n",
        "TextMorphPipeline.process = process\n",
        "\n",
        "# Initialize\n",
        "pipeline = TextMorphPipeline()"
      ]
    },
    {
      "cell_type": "markdown",
      "metadata": {
        "id": "ZRBPgtRLlV8J"
      },
      "source": [
        "##  Testing with Text Files\n",
        "### Add Reference Texts\n",
        "Add references for similarity."
      ]
    },
    {
      "cell_type": "code",
      "execution_count": 27,
      "metadata": {
        "colab": {
          "base_uri": "https://localhost:8080/"
        },
        "id": "zvvsZtKVlXCK",
        "outputId": "60f88602-2243-4451-f03b-d9eb6a870548"
      },
      "outputs": [
        {
          "name": "stdout",
          "output_type": "stream",
          "text": [
            "✅ Reference texts added.\n"
          ]
        }
      ],
      "source": [
        "pipeline.add_reference(\"Natural Language Processing powers modern AI applications.\")\n",
        "pipeline.add_reference(\"Machine learning enhances text analysis capabilities.\")\n",
        "print(\"✅ Reference texts added.\")"
      ]
    },
    {
      "cell_type": "markdown",
      "metadata": {
        "id": "cIEFjjk8lY_r"
      },
      "source": [
        "###  Process First Text (T5)\n",
        "Run pipeline with T5 on first text."
      ]
    },
    {
      "cell_type": "code",
      "execution_count": 28,
      "metadata": {
        "colab": {
          "base_uri": "https://localhost:8080/"
        },
        "id": "ZEejdf_zlcFF",
        "outputId": "cf6b9caa-bb29-4f80-ca2a-7e393f125699"
      },
      "outputs": [
        {
          "name": "stderr",
          "output_type": "stream",
          "text": [
            "/usr/local/lib/python3.12/dist-packages/transformers/models/t5/tokenization_t5.py:287: UserWarning: This sequence already has </s>. In future versions this behavior may lead to duplicated eos tokens being added.\n",
            "  warnings.warn(\n"
          ]
        },
        {
          "name": "stdout",
          "output_type": "stream",
          "text": [
            "----------- Enhanced Paraphrasing Comparison -----------\n",
            "PEGASUS Paraphrases (Avg Length: 25.3, Avg Sim to Original: 0.514):\n",
            "  1. Letter 1 Letter 2 Letter 3 Letter 4 Chapter 1 Chapter 2 Chapter 3 Chapter 5 Chapter 7 Chapter 8 Chapter 9 Chapter 10 Chapter\n",
            "  2. Letter 1 Letter 2 Letter 3 Letter 4 Chapter 1 Chapter 2 Chapter 3 Chapter 5 Chapter 7 Chapter 8 Chapter 9 Chapter 10\n",
            "  3. Letter 1 Letter 2 Letter 3 Letter 4 Chapter 1 Chapter 2 Chapter 3 Chapter 5 Chapter 6 Chapter 7 Chapter 8 Chapter 9 Chapter 10 Chapter\n",
            "\n",
            "T5-Paraphrase Paraphrases (Avg Length: 32.0, Avg Sim to Original: 0.944):\n",
            "  1. *** START OF THE PROJECT GUTENBERG EBOOK 84 *** Frankenstein; or, the Modern Prometheus by Mary Wollstonecraft (Godwin) Shelley CONTENTS Letter 1 Letter 2 Letter 3 Letter 4 Chapter 1 Chapter\n",
            "  2. *** START OF THE PROJECT GUTENBERG EBOOK 84 *** Frankenstein or the Modern Prometheus by Mary Wollstonecraft (Godwin) Shelley CONTENTS Letter 1 Letter 2 Letter 3 Letter 4 Chapter 1 Chapter 2 Chapter\n",
            "  3. *** START OF THE PROJECT GUTENBERG EBOOK 84 *** Frankenstein or, the Modern Prometheus by Mary Wollstonecraft (Godwin) Shelley CONTENTS Letter 1 Letter 2 Letter 3 Letter 4 Chapter 1 Chapter 2\n",
            "\n",
            "BART-Paraphrase Paraphrases (Avg Length: 32.0, Avg Sim to Original: 0.830):\n",
            "  1. *** START of the project GUTENBERG EBOOK 84 ***\tFrankenstein, the Modern Prometheus, the Mispronounced Letters by Mary Wollstonecraft (Godwin) Shelley\tTEXTURETEXTURE CONTENTS\t Letter 1\t Letter 2\t Letter 3\t Letter 4\t Chapter\n",
            "  2. *** START of the project GUTENBERG EBOOK 84 ***\tFrankenstein, the Modern Prometheus, the Mispronounced Letters by Mary Wollstonecraft (Godwin) Shelley\tTEXTURETEXTURE CONTENTS\t Letter 1\t Letter 2\t Letter 3\t Letter 4TEXTURE Chapter\n",
            "  3. *** START of the project GUTENBERG EBOOK 84 ***\tFrankenstein, the Modern Prometheus, the Mispronounced Letters by Mary Wollstonecraft (Godwin) Shelley\tTEXTURETEXTURE CONTENTS\t Letter 1\t Letter 2\t Letter 3=-=-=-=-=-=-=-=- Letter 4\t Chapter\n",
            "\n",
            "Average Similarity PEGASUS vs T5-Paraphrase: 0.386\n",
            "Average Similarity PEGASUS vs BART-Paraphrase: 0.462\n",
            "Average Similarity T5-Paraphrase vs BART-Paraphrase: 0.854\n"
          ]
        },
        {
          "name": "stderr",
          "output_type": "stream",
          "text": [
            "/usr/local/lib/python3.12/dist-packages/transformers/models/t5/tokenization_t5.py:287: UserWarning: This sequence already has </s>. In future versions this behavior may lead to duplicated eos tokens being added.\n",
            "  warnings.warn(\n"
          ]
        },
        {
          "name": "stdout",
          "output_type": "stream",
          "text": [
            "----------- Enhanced Paraphrasing Comparison -----------\n",
            "PEGASUS Paraphrases (Avg Length: 2.7, Avg Sim to Original: 0.959):\n",
            "  1. Saville, England.\n",
            "  2. Saville is in England.\n",
            "  3. Saville, England\n",
            "\n",
            "T5-Paraphrase Paraphrases (Avg Length: 2.7, Avg Sim to Original: 0.983):\n",
            "  1. Saville, England\n",
            "  2. Saville ( England )\n",
            "  3. Saville, England.\n",
            "\n",
            "BART-Paraphrase Paraphrases (Avg Length: 2.7, Avg Sim to Original: 0.930):\n",
            "  1. Saville, England\n",
            "  2. Scotland Saville, England\n",
            "  3. In Saville, England\n",
            "\n",
            "Average Similarity PEGASUS vs T5-Paraphrase: 0.956\n",
            "Average Similarity PEGASUS vs BART-Paraphrase: 0.891\n",
            "Average Similarity T5-Paraphrase vs BART-Paraphrase: 0.918\n",
            "----------- T5 on First Text (Frankenstein) -----------\n",
            "Summary: the author's first task is to assure her sister of her welfare and increasing confidence in the\n",
            "success of her undertaking . she will satiate her curiosity with the sight of a part of the world\n",
            "never before visited, and may tread a land never before imprinted by man .\n"
          ]
        }
      ],
      "source": [
        "first_text = loaded_texts['Text 1']['text']\n",
        "results_t5_first = pipeline.process(first_text, summarizer='t5')\n",
        "print(\"----------- T5 on First Text (Frankenstein) -----------\")\n",
        "print(f\"Summary: {textwrap.fill(results_t5_first['summary'], width=100)}\")"
      ]
    },
    {
      "cell_type": "markdown",
      "metadata": {
        "id": "GwXLK4uwlf4Z"
      },
      "source": [
        "###  Process Second Text (PEGASUS)\n",
        "Run pipeline with PEGASUS on second text."
      ]
    },
    {
      "cell_type": "code",
      "execution_count": 29,
      "metadata": {
        "colab": {
          "base_uri": "https://localhost:8080/"
        },
        "id": "zvG4By8Slg7Q",
        "outputId": "d4e951c0-5b94-4f6f-c982-90e206ee8080"
      },
      "outputs": [
        {
          "name": "stderr",
          "output_type": "stream",
          "text": [
            "/usr/local/lib/python3.12/dist-packages/transformers/models/t5/tokenization_t5.py:287: UserWarning: This sequence already has </s>. In future versions this behavior may lead to duplicated eos tokens being added.\n",
            "  warnings.warn(\n"
          ]
        },
        {
          "name": "stdout",
          "output_type": "stream",
          "text": [
            "----------- Enhanced Paraphrasing Comparison -----------\n",
            "PEGASUS Paraphrases (Avg Length: 2.0, Avg Sim to Original: 0.931):\n",
            "  1. Chapter 2.\n",
            "  2. CHAPTER 2.\n",
            "  3. CHAPTER II.\n",
            "\n",
            "T5-Paraphrase Paraphrases (Avg Length: 2.0, Avg Sim to Original: 0.594):\n",
            "  1. CHAPTER II\n",
            "  2. CHAPITRE II\n",
            "  3. CHAPTTER II\n",
            "\n",
            "BART-Paraphrase Paraphrases (Avg Length: 2.3, Avg Sim to Original: 0.942):\n",
            "  1. CHAPTER II\n",
            "  2. CHAPTER 2\n",
            "  3. CHAPTER _ II\n",
            "\n",
            "Average Similarity PEGASUS vs T5-Paraphrase: 0.541\n",
            "Average Similarity PEGASUS vs BART-Paraphrase: 0.901\n",
            "Average Similarity T5-Paraphrase vs BART-Paraphrase: 0.583\n"
          ]
        },
        {
          "name": "stderr",
          "output_type": "stream",
          "text": [
            "/usr/local/lib/python3.12/dist-packages/transformers/models/t5/tokenization_t5.py:287: UserWarning: This sequence already has </s>. In future versions this behavior may lead to duplicated eos tokens being added.\n",
            "  warnings.warn(\n"
          ]
        },
        {
          "name": "stdout",
          "output_type": "stream",
          "text": [
            "----------- Enhanced Paraphrasing Comparison -----------\n",
            "PEGASUS Paraphrases (Avg Length: 3.7, Avg Sim to Original: 0.754):\n",
            "  1. Mr.\n",
            "  2. The illustration is by Mr.\n",
            "  3. The illustration is of Mr.\n",
            "\n",
            "T5-Paraphrase Paraphrases (Avg Length: 2.0, Avg Sim to Original: 0.973):\n",
            "  1. [Illustration] Mr.\n",
            "  2. Mr. [Illustration]\n",
            "  3. [Illustration] Mr\n",
            "\n",
            "BART-Paraphrase Paraphrases (Avg Length: 6.7, Avg Sim to Original: 0.679):\n",
            "  1. [Illustration]\n",
            "  2. [Illustration] What is the best way to describe Mr. Wiliams?\n",
            "  3. [Illustration] What is the best way to describe Mr.\n",
            "\n",
            "Average Similarity PEGASUS vs T5-Paraphrase: 0.777\n",
            "Average Similarity PEGASUS vs BART-Paraphrase: 0.508\n",
            "Average Similarity T5-Paraphrase vs BART-Paraphrase: 0.699\n",
            "----------- PEGASUS on Second Text (Pride and Prejudice) -----------\n",
            "Summary: One of the most memorable moments in the life of Elizabeth Bennet, the heroine of Shakespeare\n",
            "sMeasure for Measure, came when she received a letter from her father, addressed to her sister,\n",
            "Lizzy, the daughter of her first husband.\n"
          ]
        }
      ],
      "source": [
        "second_text = loaded_texts['Text 2']['text']\n",
        "results_pegasus_second = pipeline.process(second_text, summarizer='pegasus')\n",
        "print(\"----------- PEGASUS on Second Text (Pride and Prejudice) -----------\")\n",
        "print(f\"Summary: {textwrap.fill(results_pegasus_second['summary'], width=100)}\")"
      ]
    },
    {
      "cell_type": "markdown",
      "metadata": {
        "id": "pv1-YYqjljmu"
      },
      "source": [
        "###  Enhanced Comparison on Both Texts\n",
        "Compare T5, BART, and PEGASUS on both texts."
      ]
    },
    {
      "cell_type": "code",
      "execution_count": 30,
      "metadata": {
        "colab": {
          "base_uri": "https://localhost:8080/"
        },
        "id": "N-SzvgGJlmwl",
        "outputId": "51d3e76a-db5f-4060-b634-724c95191785"
      },
      "outputs": [
        {
          "name": "stdout",
          "output_type": "stream",
          "text": [
            "----------- Enhanced Summarization Comparison on First Text -----------\n",
            "----------- Enhanced Summarization Comparison -----------\n",
            "T5 Summary (Length: 44, Sim to Original: 0.192):\n",
            "cnn.com's ireport boot camp challenges readers to read a new book . the author asks readers to share\n",
            "their thoughts on the book with the rest of us . a book about a man's life is out now, and he's\n",
            "ready to go .\n",
            "\n",
            "BART Summary (Length: 85, Sim to Original: 0.515):\n",
            "*** START OF THE PROJECT GUTENBERG EBOOK 84 *** exting exting extingacebookFrankenstein; exting\n",
            "extingescriptionHegemony Chapter 14, the New Prometheus; extingacebookor, the Modern Prometheus\n",
            "extingacebook subur subur suburby Mary Wollstonecraft (Godwin) Shelley extingacebookacebookescriptio\n",
            "nescriptionescriptionFilenameFilenameFilenameescriptionFilenameescriptionescriptionategoryategoryate\n",
            "goryFilenameFilenameategoryFilenameategoryategoryescriptionategoryescriptionescriptionTextColor\n",
            "Letter 1 Palestin Letter 2 Palestin Letter 3 Palestin Letter 4 Palestin Chapter 1 Palestin Chapter\n",
            "2ahime Chapter 3acebook Chapter 4acebook Chapter 5 subur Chapter 6ahime Chapter 7ahime Chapter 8\n",
            "Palestin Chapter 9 Palestin Chapter 10 subur Chapter 11acebook Chapter 12ahime Chapter 13 subur\n",
            "Chapter 14ahime Chapter 15FontSize Chapter 16Filename Chapter 17 exting\n",
            "\n",
            "PEGASUS Summary (Length: 43, Sim to Original: 0.468):\n",
            "The following is an extract from the letter written by Mary Shelley to her sister, Margaret Saville,\n",
            "on the day she arrived in Russia for the construction of a nuclear power station, as published in\n",
            "The Times of London on 17 December 1864.\n",
            "\n",
            "Similarity T5 vs BART: 0.313\n",
            "Similarity T5 vs PEGASUS: 0.086\n",
            "Similarity BART vs PEGASUS: 0.284\n",
            "----------- Enhanced Summarization Comparison on Second Text -----------\n",
            "----------- Enhanced Summarization Comparison -----------\n",
            "T5 Summary (Length: 41, Sim to Original: 0.270):\n",
            "a fortnight’s acquaintance is certainly very little . one cannot know what a man really is by the\n",
            "end of a week . if a woman is a good man, she will be able to tell if she is good .\n",
            "\n",
            "BART Summary (Length: 102, Sim to Original: 0.623):\n",
            "CHAPTER II.escriptionescription: Mr. Bingley to _her_.”Shakespeare exting exting\n",
            "extingacebooksuddenly addressed her with,-- Leban Leban Leban. Observing his second daughter\n",
            "employed in trimming a hat, heuddenly addressed his third daughter,Lizzy, with, “I hope you will\n",
            "like it, Lizzy.” Leban Leban exting extingescriptionhad always intended to visit him, though to the\n",
            "last always assuring his Leban Leban suburwife that he should not go; and till the evening after the\n",
            "visit was apprehended, she did not know what he was intending to do, for she had no knowledge of it.\n",
            "It was then disclosed in the followingparagraph that he was not acquainted with her, for\n",
            "\n",
            "PEGASUS Summary (Length: 39, Sim to Original: 0.642):\n",
            "One of the most memorable moments in the life of Elizabeth Bennet, the heroine of Shakespeare\n",
            "sMeasure for Measure, came when she received a letter from her father, addressed to her sister,\n",
            "Lizzy, the daughter of her first husband.\n",
            "\n",
            "Similarity T5 vs BART: 0.145\n",
            "Similarity T5 vs PEGASUS: 0.156\n",
            "Similarity BART vs PEGASUS: 0.537\n"
          ]
        }
      ],
      "source": [
        "print(\"----------- Enhanced Summarization Comparison on First Text -----------\")\n",
        "comparison_first = compare_summarizers_enhanced(first_text)\n",
        "print(\"----------- Enhanced Summarization Comparison on Second Text -----------\")\n",
        "comparison_second = compare_summarizers_enhanced(second_text)"
      ]
    },
    {
      "cell_type": "markdown",
      "metadata": {
        "id": "76X5XxrdlpU2"
      },
      "source": [
        "##  Visualization & Insights\n",
        "###  Enhanced Summarization Metrics Plot\n",
        "Visualize T5 vs BART vs PEGASUS metrics."
      ]
    },
    {
      "cell_type": "code",
      "execution_count": 31,
      "metadata": {
        "colab": {
          "base_uri": "https://localhost:8080/",
          "height": 1000
        },
        "id": "2KqCniz5lxLg",
        "outputId": "d972efea-abd4-4b37-b6bf-83d74c449dbf"
      },
      "outputs": [
        {
          "data": {
            "image/png": "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",
            "text/plain": [
              "<Figure size 1000x500 with 2 Axes>"
            ]
          },
          "metadata": {},
          "output_type": "display_data"
        },
        {
          "data": {
            "image/png": "iVBORw0KGgoAAAANSUhEUgAAA90AAAHvCAYAAABJ47wJAAAAOnRFWHRTb2Z0d2FyZQBNYXRwbG90bGliIHZlcnNpb24zLjEwLjAsIGh0dHBzOi8vbWF0cGxvdGxpYi5vcmcvlHJYcgAAAAlwSFlzAAAPYQAAD2EBqD+naQAAZGxJREFUeJzt3XmcjeXj//H3mX3MmBnLmEXDiLIkS9YJoSZDZSmE7EllZyqlMFmyhaaiRLZERLJlF8nHWCJLKkvZSjP2mTEyw8z9+8NvztcxZ5jh3E7G6/l4nMfDue7rvu7rvs9trvM+92YxDMMQAAAAAABwOBdndwAAAAAAgLyK0A0AAAAAgEkI3QAAAAAAmITQDQAAAACASQjdAAAAAACYhNANAAAAAIBJCN0AAAAAAJiE0A0AAAAAgEkI3QAAAAAAmITQDQAOUK9ePVksFmd3Q5I0Y8YMWSwWzZgxw9ldwS169913ZbFYtGHDBmd35ZacOHFCPj4+GjFihGnLuJVtZLFYVK9ePdP65CwbNmyQxWLRu+++6+yu3FSnTp1ksVh05MgR05YRHh6u8PBwm7I7/X9q7dq1slgsWr58+R1ZHoD/NkI3cI9LSUnRiBEj9Mgjj8jX11eenp667777VKdOHQ0YMEB//PGHs7uI6xw5ckQWi0WdOnVydldyxTAMLVy4UM8995zuu+8+eXp6Kn/+/KpYsaL69eunX3/91dldhIO88847ypcvn3r37m1THh4eLovFYn25urqqcOHCatCggRYvXuyk3t57MoPvtS8/Pz9Vq1ZNH3zwgS5fvuzsLt71IiMjVbt2bfXv31/p6enO7g4AJ3NzdgcAOE9ycrJq166tPXv2qFSpUmrXrp0KFSqk06dPa9u2bRo1apRKliypkiVLOrur/3lffPGFLl686OxuSJKeffZZ1axZUyEhIc7uitXZs2fVsmVLff/99woICNCTTz6p+++/X2lpadq3b58++eQTffTRR1q3bl2ePBKZWz179lTr1q1VrFgxZ3cl1w4ePKgvvvhC77zzjnx9fbNMd3V11cCBAyVJaWlp+v3337VkyRKtWbNGY8eO1WuvvZaj5dzN2+i/okuXLrrvvvtkGIaOHz+uhQsXKjo6Wt9//72WLl1qyjJHjhypt956S0WLFjWl/ew4Y3/p37+/mjRporlz56pt27Z3bLkA/nsI3cA9LDY2Vnv27NFLL72kyZMnZzk9+vDhw0pNTXVS7+4u/6Uv/v7+/vL393d2N6yuXLmiZ599Vhs3blS7du00ceJE+fn52dT5559/9M477ygxMdFJvfxvKVy4sAoXLuzsbtySyZMnKyMjQ+3bt7c73c3NLctp0KtXr1bDhg01ePBgdevWTfny5bvpcu7mbfRf8dJLL6lmzZrW98OHD1flypW1bNkybdiwwZQfwEJCQpzyg6Az9peGDRuqcOHCmjRpEqEbuMdxejlwD4uLi5Mk9ejRw+71yCVKlFCZMmVsym50TaS96+gyT2P8888/NXbsWD344IPy9vZWuXLlNHfuXElXj3a98847Cg8Pl5eXlypUqKAVK1ZkaT/zuunU1FS9/fbbKlasmLy9vVWlShWtXbtWkpSYmKgePXooNDRUXl5eioiI0LZt27K0tX79er344osqXbq0fH195evrq6pVq2ry5Ml21y1zvf/++2916NBBwcHBcnFxsV4faO+a7utP37z+de01199++63atGmjUqVKKV++fPL391edOnX0zTff2LQ5Y8YMlShRQpI0c+ZMm/Yy+3Kja7r/97//6emnn1bBggXl5eWlMmXKKCYmxu5R+sx1TkhIUMeOHVW4cGF5e3urZs2aubouctasWdq4caMee+wxzZw5M0vglq5+EZ82bZoaNmxoU/7LL7/o+eefV5EiReTp6akSJUqob9++OnPmTJY2Mve/xMREdevWTSEhIfLx8dFjjz2mnTt3Srp6rXG7du1UpEgReXt7q0GDBjp48GC26/7XX3+pTZs2Kly4sPLly6datWpZ97VrHThwQP3799cjjzyiQoUKycvLSw8++KDeeustXbhwIUv9zP3l0qVLGjhwoEqWLCl3d3drGM3u+tP169erUaNGCg0Nlaenp4KCglSnTh27+60zPuuMjAzNnDlTlSpV0gMPPJDj+Ro0aKDSpUvr4sWL2rdv321tI0n6/PPPVb58eXl5eSksLEz9+/fXpUuXsl1+cnKyYmJi9NBDD8nb21sBAQGKiorSpk2bcrwOJ06cUExMjGrWrGndX8PDw9W9e3edPHkyS/3Mv42HDx/WRx99pDJlysjT01PFixfXkCFDlJGRkWWef//9V2+99ZbCwsLk5eWl8uXLa8qUKTnu482EhobqueeekyRt375dku12njFjhh555BHly5fPZhzIzfazd033jf5m3eh69cWLF6tatWry9vZWUFCQunbtqnPnztldtxvtL7t371bbtm2tl72EhISoYcOGdo/2L168WE888YQKFChg/QzGjh1r9xRyd3d3NWvWTJs2bdKhQ4fs9gvAvYEj3cA9rFChQpKuBoZKlSqZuqzo6Ght3bpVjRs3lqurq+bOnasXXnhBBQoU0Mcff6xff/1VTz/9tC5duqQ5c+aoadOm+u233+ye2t6qVSvt3btXTZo00b///qvZs2frmWee0f/+9z+9/PLLSktLU8uWLXXq1CnNmzdPDRs21OHDh22O/o4ePVqHDh1SzZo19eyzz+r8+fNauXKlXnnlFe3fv1/jxo3LstwzZ84oIiJCBQsWVOvWrXXp0iW7ATJTTEyM3fJPP/1UJ0+etDmaN2DAAHl4eKh27doKCQnRqVOntGTJErVo0UIfffSRevXqJUmqVKmS+vTpow8//FAVK1ZUs2bNrG1c/4PH9ebPn682bdrI09NTrVq1UpEiRbR69WoNHTpUq1at0oYNG+Tl5WUzz/nz51W7dm35+/urffv2OnnypObNm6eoqCjt2LFD5cuXv+EyJWnq1KmSpIEDB8rF5ca/9Xp6elr/vWnTJkVFRSktLU0tWrRQeHi44uLi9OGHH2rZsmXasmVLliNXaWlpevLJJ3Xp0iW1atVKCQkJ+vrrrxUZGanNmzcrKipKISEhateunQ4dOqSlS5fq6aef1m+//SZXV1ebts6dO6datWopMDBQL730ks3+tGDBApttv3DhQk2dOlX169dXvXr1lJGRoS1btmj06NH64YcftHHjRrm7u2dZ3+bNm2v37t1q2LChAgICrD+o2PPdd9+pcePGCggIUNOmTa37ye7duzVr1iy9/PLL1rrO+qz37t2rU6dOqXnz5jetm53rf7zKzTaSpGHDhmnw4MHWEObu7q558+bpt99+s1v/7Nmzeuyxx7Rv3z7VqlVLr776qpKSkrR48WLVr19f8+fPt/mss7Nx40aNGzdOTzzxhGrUqCF3d3f9/PPP+vTTT7Vq1Srt3LnT7hkob7zxhn744Qc988wzioqK0qJFi/Tuu+8qLS1N7733nrVeRkaGmjRporVr1+rhhx/WCy+8oDNnzqhfv36qX7/+TfuXW9d/Du+//77Wr1+vpk2bqkGDBtb/L47afrn1xRdfqGPHjvLz81P79u0VEBCgZcuWKTIyUmlpafLw8MhRO998841eeOEFGYahxo0bq3Tp0jp58qS2bt2qqVOnqnHjxta6AwYM0KhRo1S0aFE999xz8vf3148//qg33nhDW7du1fz587O0HxERoc8//1zff/+9SpUq5bD1B3CXMQDcsxYvXmxIMvLnz2+89tprxqpVq4zTp0/fcB5JRt26de1OK168uFG8eHGbso4dOxqSjAcffNA4efKktXzr1q2GJCMgIMCoXbu2ceHCBeu0efPmGZKMXr162bRVt25dQ1K29QMCAoyWLVsaly9ftk4bPXq0IckYN26cTVt//vlnlv5fvnzZePLJJw1XV1fj6NGjWdZbktG5c2fjypUrWebN7NvNjBo1ypBkNG3a1EhPT7eW//HHH1nqJicnGw8//LDh7+9vpKSkWMsPHz5sSDI6duxodxnTp083JBnTp0+3liUmJhr+/v6Gp6ensXv3bmt5enq60apVK0OSMXToULvr3L17d5u+fv7554Yk45VXXrnp+l6+fNlwd3c33NzcjH///fem9a/tV8mSJQ1JxsqVK22mvfHGG4Yk48UXX7QpL168uCEp230gICDA6Nevn5GRkWGd1q1bN0OS8c0339hd9xdeeMGm/u7duw0PDw8jMDDQuHjxorX8r7/+MlJTU7Osx5AhQwxJxpdffmlTnrm/VKpUyThz5kyW+WJiYgxJxvr1661lzz33nCHJ2LVrV5b61/6/ddZnbRiGMXHiREOSMWXKFLvTixcvbnh6emYpX7t2rWGxWAwfHx/rdr2VbXTw4EHDzc3NKFq0qJGQkGCzTUqXLm3379cLL7xgt88JCQlGWFiYERgYmKN9NyEhwUhOTs5SPnPmTEOSMXz4cJvyzL+NJUqUME6cOGEtP3XqlBEQEGDkz5/fZp/K/H/dsGFDm79Be/bsMTw8PAxJRkxMzE37ee2y4+LibMr/+ecfIygoyJBk/PDDD4Zh/N929vHxMfbs2ZOlrdxuv8xlHz58OMu6Xfs3K9P69euzrFtiYqLh5+dn+Pj4GPv377eWp6WlGY899pghKctYZG9/iY+PN3x8fAwfHx9j586dWZZ9/Phx679Xr15tSDKioqJsxp+MjAzj1VdfNSQZCxYsyNLG7t27DUlGhw4dskwDcO8gdAP3uHHjxhm+vr7WL92SjJIlSxo9evQwDhw4kKX+rYbumTNnZql///3323y5y3TlyhXD3d3deOyxx2zKM7+EX18/PT3dcHd3NyRlCcvHjh3L1Reeb775xpBkzJgxw6ZckuHh4WGcOnXK7nw5Cd3ffPONYbFYjEceecTmS9uNjBs3zpBkbNiwwVp2K6H7iy++MCQZ3bp1y1L/6NGjhpubm3H//ffblGd+0b4+SFy+fNlwc3MzHnnkkZv2Pz4+3pBkBAcH37TutTZu3GhIMho1apRlWnJyslGwYEHDy8vLJpRkhu7s9gFfX1+bHy+uXc7gwYNtyiUZrq6uxpEjR7Isv0uXLtl+wb7emTNnDElGp06dbMoz95fFixfbne9GofvakGGPsz5rwzCMAQMGGJKMJUuW2J1evHhxw9XV1YiJiTFiYmKMt99+22jevLnh5uZmSDLGjx9vrXsr2yjzR47rf2QzDMOYNWtWlr9fp06dMlxdXY3HH3/c7jI++ugjQ5KxdOnSHKy9fRkZGYafn59Rr149m/LMv43Tpk3LMk/mtGtDbv369Q1Jxo4dO7LUz9wncxu6u3TpYsTExBiDBw82XnzxRSMgIMD6o2CmzO3cr1+/LO3cyvZzROjO/CHj+h9mDcMwfvzxxxyH7swf5K7//29PkyZN7P59MQzDOH/+vGGxWIzmzZtnmZb5NzC7bQTg3sDp5cA9Ljo6Wl27dtXKlSu1efNm/fTTT9q6dasmTpyoqVOnat68eWrSpMltL8fe6eshISH6888/s0xzdXVVkSJFdOLEiRy15eLioiJFiujixYtZbmiWecOe69tKTk7W2LFjtWjRIv3xxx9KSUmxmW5v2SVKlLjlG/H89NNPat++vUJDQ7V06VL5+PjYTD958qRGjRqlFStW6OjRo/r3339v2p/c+PnnnyXJ7vX4xYoV0/33368DBw4oOTlZ+fPnt0578MEHs9yB2s3NTUFBQTp//vxt9elW+5t5/f3q1au1f/9+Pfzww9ZpBQoUyHYfeOCBB7LcoCu7/UO6ul2KFy+epbxOnTqaOnWqfv75Z+tp1IZhaPr06ZoxY4Z++eUXJSYm2lyTm93nV716dbvl9rRu3VoLFy5UzZo19cILL+iJJ55QnTp1suyTzvysM6+1DwgIyLZOenq6hgwZIunq/90CBQro8ccfV48ePez+rcnNNtq9e7ekq5/R9eyVbd++Xenp6UpNTbV7zXDm9f6///67nnnmmZsuf+HChfrss8+0c+dOnTt3zuY63+z2gSpVqmQpu++++yTJZrvv3r1bPj4+euSRR7LUz9wnc+vaeXx9fVW2bFm1bdtWPXr0yFLX3ufg6O2XUzf6nCMiIuTmlrOvt5n3+2jQoMFN627ZskU+Pj6aNm2a3ene3t76/fffs5QXLFhQknT69Okc9QlA3kToBqD8+fOrZcuWatmypaSrNyN7++239cknn6hLly76+++/c3x9XHbsXfuc+cUou2nZPSs2u/o3Wsa1baWlpalevXrauXOnKleurPbt26tQoUJyc3PTkSNHNHPmTLt3bQ8KCspm7W7s+PHjaty4sSwWi5YuXarQ0FCb6WfPnlW1atV07Ngx1apVS5GRkQoICJCrq6t27dqlxYsX3/Zd5JOSkm64DiEhITpw4ICSkpJsglh216y7ubnl6NmzhQoVkru7u86cOaPU1FSba7Zvt7/X1rtRf2+2n0myu69lt+zM8mvvtN67d29NmDBBYWFhatKkiUJCQqzrOmTIkGw/v9zsUy1bttSiRYs0fvx4TZo0SRMnTpTFYlH9+vU1btw4649RzvqspavBQ9INb1rm6el5w+nXy802yvxMihQpkqN2zp49K+nqTef+97//Zdvu9T/K2TNu3Di9/vrrCgwMVIMGDXTfffdZt0dsbGy2+8CN9strt3tiYqLCwsLstnGrf5vi4uJs7l5+I2Zvv9y40efs6upqvV9JTtvJyePLzp49qytXrlh/MLLH3npm/oCakzvyA8i7CN0AsvD399eECRP03Xff6ejRo9q7d6/1aIzFYtGVK1fszpeYmPifelRVdhYvXqydO3eqS5cu+vzzz22mzZ07VzNnzrQ7n707vN9McnKynnnmGZ08eVLffvutKleunKXO1KlTdezYMQ0bNsz6/OJMo0aN0uLFi3O93OtlfrFPSEiwOz0+Pt6mnqO4ubmpevXq+t///qeNGzfqySefzNF8zurvtbJbdmZ55r5+8uRJTZw4URUqVFBcXJzNl+v4+PgbfknP7T7VtGlTNW3aVMnJyfrf//5nvYFbw4YN9fvvvysgIMCp2y4wMFDS/4UxR8jNNrr2M7n+LAV72yNzG7z22msaO3bsLffxypUrGjZsmEJCQrRr1y6bMGgYhsaMGXPLbWfy9/fXqVOn7E7L7rN2JHufg6O2X+YNFu2NLfYeI3jt53y99PR0nTlzJkdBOvOMjL///vumN6L08/OTxWLJ9RHrzP8Lmf83ANybeGQYALssFkuWU6Clq6fv/v3331nKjxw5Yurpxo70xx9/SLoaYK73448/Omw56enpat26tfbs2aP3338/29P0c9ufzLsG5/TooyRr2Lf3uJzjx4/rjz/+0P33329z5NNRunTpIkkaMWKEDMO4Yd3Mo4E36m9KSop++ukneXt7q3Tp0o7t7DWOHTumo0ePZinP/Ewy+/jnn3/KMAxFRkZmOZrlyP3pWvnz51fDhg01efJkderUSQkJCdq6datNv5zxWWee6r9//36Ht50TFStWlGR/u9srq1atmiwWi/Xxibfq9OnTSkxMVERERJajrz/99FOWy0VuRcWKFZWSkmJ9/N21zNrPbsZR269AgQKSZHdsybxc4lo3+pzj4uKy/WH4epmnzK9evfqmdWvUqKEzZ87YfcTgjWT+X7j2MhgA9x5CN3AP++yzz6zPYr3eokWL9NtvvykgIMDmUUHVqlXTkSNH9MMPP1jL0tLSFB0dbXp/HSXzCNj1z5D94YcfHPrM2759+2r58uV6+eWXb7h9suvPnDlztHz58iz1CxQoIIvFouPHj+e4L02bNpW/v7+mT59ufQ6ydPUo3JtvvqkrV66oU6dOOW4vN9q3b686depow4YN6ty5s5KTk7PUSUhIsN5bQJJq1aqlkiVLasWKFVmeiz18+HCdOXNGbdq0ue3LHm4kPT1db7/9ts0PBXv27NGsWbMUGBiop556StL/fX6bN2+2uY77r7/+0oABAxzWn40bN9r9oSXzaF/mI8Cc+VnXqVNHLi4u1h8A7rQXXnhBrq6uGj9+vM1R0KSkJA0fPjxL/eDgYD3//PPavHmz3n//fbs/Cm3dutXus82vlfnc9507d9rUPXfunPVxf7erffv2kqR33nnHZj/Yu3evZs2a5ZBl5Jajtl+VKlVksVg0d+5cm0sPDh48qA8//DBL/aZNm8rPz0/Tpk3TgQMHrOWXL1/OcrbQjXTs2FG+vr4aN26cdu3alWX6tT8C9O7dW5L04osvWu9dcK34+Hi7j6XL/L9Qt27dHPcLQN7D6eXAPWzFihV69dVXVapUKdWqVUuhoaFKSUnRzz//rB9//FEuLi765JNPbK7DjY6O1urVq/XUU0+pTZs2ypcvn9asWaOAgADrdbb/dY0bN1Z4eLjGjBmjX375ReXLl9f+/fu1bNkyPfvss1qwYMFtL2Pbtm2aMGGCvL29FRgYaPcmQ82aNVOlSpXUvn17jR49Wr169dL69etVvHhx7d69W+vWrdNzzz2nhQsX2szn6+uratWqaePGjWrfvr0eeOABubi4qH379nZv/CVdPTVyypQpatOmjWrUqKFWrVopMDBQa9eu1Y4dO1S9enW98cYbt73e9ri5uWnRokVq2bKlZs6cqSVLlqhBgwYqUaKE0tLS9Ouvv2rDhg26fPmy2rVrJ+nq6aYzZsxQVFSUnnrqKbVs2VLFixdXXFycNmzYoJIlS2rUqFGm9DdThQoVtGnTJlWrVk2RkZHW53RfuXJFkydPtl6vGxISoubNm+ubb75R1apV9cQTTyghIUHLli3TE088YT2T4Xb17t1bJ06cUO3atRUeHi6LxaJNmzZp27ZtqlmzpmrXri3JuZ91gQIFVLduXW3atEmXLl3K8ixws5UqVUqDBw9WTEyMKlSooOeff15ubm765ptvVKFCBbtH4D/55BPt379f/fv316xZsxQREaGAgAAdP35cP/30kw4ePKh//vnnhtfkuri4qHv37ho3bpwqVqyoxo0bKykpSStWrFDx4sWz3MfhVnTs2FFz5szRypUrVblyZTVq1Ehnz57VV199pQYNGmjZsmW3vYxb4YjtFxoaqjZt2mjOnDmqUqWKGjZsaL0kp2HDhvrmm29s6vv7++ujjz5Sp06dVK1aNbVu3Vr+/v5atmyZvL29czwWFSlSRF988YVat26t6tWrq0mTJipdurROnz6trVu3Kjw8XIsWLZIkNWzYUIMGDdKwYcNUqlQpNWzYUMWLF9eZM2d06NAh/fjjjxo+fLjKli1rs4w1a9aoQIECeuyxx3K3YQHkLU67bzoAp/v999+NMWPGGE8++aRRokQJw8vLy/Dy8jJKlixpdOzY0fjpp5/szjd//nzj4YcfNjw8PIzg4GCjV69eRnJy8g0fGXbt42Ey3egxW/baym39TLLzmLM///zTaN68uREYGGjky5fPqFatmjF37ly7j6fJro0b9S2znRu9rn08zq5du4wGDRoYBQoUMPLnz2/UrVvXWLt2bbaP0tm/f7/x1FNPGQEBAYbFYrF5FM6NHr+zceNGo1GjRkZAQIDh4eFhPPjgg8agQYPsPsLsRut8o+2dnYyMDGPBggVGs2bNjNDQUMPDw8PIly+fUb58eaN3797Gr7/+mmWePXv2GC1atDAKFy5suLu7G8WLFzf69Olj99Ftud0HDCP7x69l1j9+/LjRqlUr6yPKIiIijNWrV2dpJzk52XjttdeM8PBww9PT03jggQeMYcOGGWlpaXaXfbNHzNl7vNHcuXON559/3ihZsqSRL18+w9/f36hYsaIxevRou8+HdtZnPW/ePEOSMW/ePLtt2XtOtz23so0yTZkyxShXrpzh4eFh3Hfffcbrr79uXLx4Mdv1vHjxojFmzBijSpUqho+Pj+Ht7W2UKFHCaNasmfHFF1/YPPc9O2lpacZ7771nPPDAA4anp6dRrFgx47XXXrulv43ZrVtKSorRv39/o2jRooanp6dRrlw5Y/Lkydn+3cpOds/ptudG2zlTbrZfdut98eJFo3fv3kZQUJDh6elpVKhQwZg9e/YN1+3bb781qlSpYnh6ehpFihQxXnrpJePs2bN2t/eN1uPnn382nn/+eSMoKMhwd3c3QkJCjEaNGhnLli3LUnfNmjVG48aNjcDAQMPd3d0IDg42IiIijGHDhhnHjh2zqXv48GHDYrEYffv2zXbbAbg3WAzjJhfYAQBwj7FYLKpbt67d66JxY5cvX1bp0qVVsmRJrVmzxtndwX9M69atNW/ePJ04ceKuOTvqVg0cOFBjxozRb7/9ppIlSzq7OwCciGu6AQCAw7i7u2vkyJFau3atNm/e7Ozu4D/m0KFD8vDwyPN38z537pw+/vhjdevWjcANgGu6AQCAY7Vq1UrHjh2ze8Mp3JsmT56sNWvWaMeOHWrRooX1WeR51eHDh9WvXz+H3UgPwN2N08sBALgOp5cDjlW5cmXFx8erQYMGio2NtT4mDADuBYRuAAAAAABMwjXdAAAAAACYhNANAAAAAIBJCN0AAAAAAJiE0A0AAAAAgEkI3QAAAAAAmITQDQAAAACASQjdAAAAAACYhNANAAAAAIBJCN0AAAAAAJiE0A0AAAAAgEkI3QAAAAAAmITQDQAAAACASQjdAAAAAACYhNANAAAAAIBJCN0AAAAAAJiE0A0AAAAAgEkI3QAAAAAAmITQDQAAAACASQjdAAAAAACYhNANAAAAAIBJCN0AAAAAAJiE0A0AAAAAgEkI3QAAAAAAmITQDQAAAACASQjdAAAAAACYhNANAAAAAIBJCN0AAAAAAJiE0A0AAAAAgEkI3QAAAAAAmITQDQAAAACASQjdAAAAAACYhNANAAAAAIBJCN0AAAAAAJiE0A0AAAAAgEkI3QAAAAAAmITQDQAAAACASQjdAAAAAACYhNANAAAAAIBJCN0AAAAAAJiE0A0AAAAAgEkI3QAAAAAAmITQDQAAAACASQjdAAAAAACYhNANAAAAAIBJCN0AcANHjhyRxWLR2LFjnd0VALinhYeHq1OnTg5t02Kx6N1337W+nzFjhiwWi44cOeLQ5dSrV0/16tVzaJt3s9vZHp06dVJ4eLhD+3M9s/YD3LsI3YAde/fuVYsWLVS8eHF5eXmpaNGievLJJ/Xxxx87u2t3rXr16ql8+fLO7ka2li9fbvPFCwBwZ9yLY+6JEyf07rvvateuXQ5t1+yxbNmyZWrYsKEKFSokLy8vPfjgg3r99dd15swZ05YJ5AVuzu4A8F+zefNm1a9fX8WKFVPXrl0VHBys48ePa8uWLfrwww/Vq1cvZ3cRJli+fLkmTpxI8AaAOyg3Y+7+/fvl4uLY40X//vuv3NzM/zq8evVqm/cnTpzQkCFDFB4erkqVKjlsOWaOZa+//rrGjRunihUr6s0331TBggW1c+dOTZgwQXPnztW6detUunTpHLV1/fbIjSlTpigjI+OW5wecgdANXOe9996Tv7+/tm/froCAAJtpJ0+edE6nnMgwDF26dEne3t7O7goAII/JzZjr6enp8OV7eXk5vM1rXbx4Ufny5ZOHh4epyzHbV199pXHjxqlVq1aaPXu2XF1drdM6deqk+vXrq2XLltq5c+cNf8RwxPZwd3e/5XkBZ+H0cuA6f/zxhx566KEsg78kFSlSxPrvzGt9Z8yYkaXe9deIvfvuu7JYLDpw4IDatWsnf39/BQYGatCgQTIMQ8ePH1fTpk3l5+en4OBgjRs3zqa9DRs2yGKx6Ouvv9aQIUNUtGhR5c+fXy1atFBiYqJSU1PVt29fFSlSRL6+vurcubNSU1Nt2pg+fboef/xxFSlSRJ6enipXrpw+/fTTLH0PDw/XM888o1WrVqlq1ary9vbWZ599prp166pixYp2t1np0qUVFRV1g62acytWrFCdOnXk4+Oj/Pnz6+mnn9a+ffts6nTq1Em+vr76+++/1axZM/n6+iowMFCvv/660tPTbeqeOXNG7du3l5+fnwICAtSxY0ft3r3b5rPr1KmTJk6cKOnqZ5f5ut7kyZNVsmRJeXp6qlq1atq+fbtD1hkA7lU5HXOlrNd0Z153u2nTJvXu3VuBgYEKCAjQK6+8orS0NJ0/f14dOnRQgQIFVKBAAfXv31+GYdi0ef14bc/ixYv19NNPKzQ0VJ6enipZsqSGDRuWZbzJvIxqx44deuyxx5QvXz69/fbb1mmZ1zBv2LBB1apVkyR17tzZOubMmDFDMTExcnd316lTp7L04+WXX1ZAQIAuXbpkt583G8tSUlL02muvKSwsTJ6enipdurTGjh2bZZvYM2TIEBUoUECTJ0+2CdySVL16db355pvau3evFixYkOvtkeno0aNq0qSJfHx8VKRIEfXr10+rVq2SxWLRhg0bbNbz2mu6r733ys3G6T179qhTp066//775eXlpeDgYL344oucHg/TcaQbuE7x4sUVFxenX375xeHXILdq1Uply5bVqFGj9N1332n48OEqWLCgPvvsMz3++OMaPXq0Zs+erddff13VqlXTY489ZjP/yJEj5e3trbfeekuHDh3Sxx9/LHd3d7m4uOjcuXN69913tWXLFs2YMUMlSpTQ4MGDrfN++umneuihh9SkSRO5ublp6dKl6t69uzIyMtSjRw+b5ezfv19t2rTRK6+8oq5du6p06dLy9fVV165ds2yX7du368CBAxo4cOBtb59Zs2apY8eOioqK0ujRo3Xx4kV9+umnql27tn7++WebQTY9PV1RUVGqUaOGxo4dq7Vr12rcuHEqWbKkunXrJknKyMhQ48aNtW3bNnXr1k1lypTR4sWL1bFjR5vlvvLKKzpx4oTWrFmjWbNm2e3bnDlzlJycrFdeeUUWi0VjxozRc889pz///JNf3QHgFjlizO3Vq5eCg4M1ZMgQbdmyRZMnT1ZAQIA2b96sYsWKacSIEVq+fLnef/99lS9fXh06dMhV+zNmzJCvr6+io6Pl6+ur77//XoMHD1ZSUpLef/99m7pnzpxRo0aN1Lp1a7Vr105BQUFZ2itbtqyGDh2qwYMH6+WXX1adOnUkSY8++qhq166toUOHat68eerZs6d1nrS0NC1YsEDNmzfP9uj8jcYywzDUpEkTrV+/Xl26dFGlSpW0atUqvfHGG/r777/1wQcfZLv+Bw8e1P79+9WpUyf5+fnZrdOhQwfFxMRo2bJlat26da62h3T1B4HHH39c//zzj/r06aPg4GDNmTNH69evz7Zf18vJOL1mzRr9+eef6ty5s4KDg7Vv3z5NnjxZ+/bt05YtW+z+4A44hAHAxurVqw1XV1fD1dXViIiIMPr372+sWrXKSEtLs6l3+PBhQ5Ixffr0LG1IMmJiYqzvY2JiDEnGyy+/bC27cuWKcd999xkWi8UYNWqUtfzcuXOGt7e30bFjR2vZ+vXrDUlG+fLlbfrRpk0bw2KxGI0aNbJZfkREhFG8eHGbsosXL2bpZ1RUlHH//ffblBUvXtyQZKxcudKm/Pz584aXl5fx5ptv2pT37t3b8PHxMS5cuJCl/WvVrVvXeOihh7KdnpycbAQEBBhdu3a1KY+Pjzf8/f1tyjt27GhIMoYOHWpTt3LlykaVKlWs77/55htDkhEbG2stS09PNx5//PEsn12PHj0Me38SMz/nQoUKGWfPnrWWL1682JBkLF269IbrDQDIXk7HXMO4Oj5dOzZOnz7dkGRERUUZGRkZ1vKIiAjDYrEYr776qrUsc8ytW7euTZvXj9eZbR4+fNhaZm/8fOWVV4x8+fIZly5dspbVrVvXkGRMmjQpS/26devaLHv79u3ZfoeIiIgwatSoYVO2cOFCQ5Kxfv36LPWvld1YtmjRIkOSMXz4cJvyFi1aGBaLxTh06FC2bWbO+8EHH9xw2X5+fsYjjzxifZ+b7TFu3DhDkrFo0SJr2b///muUKVMmy3p37NjR5jtObsZpe5/lV199ZUgyNm7caC2ztx8At4PTy4HrPPnkk4qLi1OTJk20e/dujRkzRlFRUSpatKiWLFlyW22/9NJL1n+7urqqatWqMgxDXbp0sZYHBASodOnS+vPPP7PM36FDB5ujqjVq1JBhGHrxxRdt6tWoUUPHjx/XlStXrGXXXpOdmJio06dPq27duvrzzz+VmJhoM3+JEiWynC7u7++vpk2b6quvvrKeipaenq558+apWbNm8vHxyc2myGLNmjU6f/682rRpo9OnT1tfrq6uqlGjht1fu1999VWb93Xq1LHZbitXrpS7u7u6du1qLXNxcclyZD8nWrVqpQIFCtgsS5LdzwkAkDOOGHO7dOlic4Qyc2y8dmzNHHNv5W/2teNncnKyTp8+rTp16ujixYv6/fffbep6enqqc+fOuV7GtTp06KCtW7fqjz/+sJbNnj1bYWFhqlu37i21uXz5crm6uqp379425a+99poMw9CKFSuynTc5OVmSlD9//hsuI3/+/EpKSrIpy+n2WLlypYoWLaomTZpYy7y8vGzG75vJyTh97Wd56dIlnT59WjVr1pQk7dy5M8fLAnKL0A3YUa1aNS1cuFDnzp3Ttm3bNGDAACUnJ6tFixb69ddfb7ndYsWK2bz39/eXl5eXChcunKX83LlzOZpfksLCwrKUZ2Rk2ITp//3vf4qMjJSPj48CAgIUGBhovbbKXui2p0OHDjp27Jh+/PFHSdLatWuVkJCg9u3bZ7vOOXXw4EFJ0uOPP67AwECb1+rVq7PcUMfLy0uBgYE2ZQUKFLDZbkePHlVISIjy5ctnU69UqVK57t/12z5zYLf3OQEAcu52x9zcjI238jd73759evbZZ+Xv7y8/Pz8FBgaqXbt2krKOn0WLFr3tm6a1atVKnp6emj17tnUZy5YtU9u2bW/59OejR48qNDQ0S3AuW7asdXp2MufJDN/ZSU5OztJ+TrfH0aNHVbJkySzrl5vxOifj9NmzZ9WnTx8FBQXJ29tbgYGB1u8813+WgCNxTTdwAx4eHqpWrZqqVaumBx98UJ07d9b8+fMVExOT7cB3/Y1VrnX9zUeyK5Nk98Ym2dW9WRt//PGHnnjiCZUpU0bjx49XWFiYPDw8tHz5cn3wwQdZHr2R3Z3Ko6KiFBQUpC+//FKPPfaYvvzySwUHBysyMtJu/dzI7MOsWbMUHBycZfr1d0PNbp3NkpvPCQCQezcac28kN2Njbv9mnz9/XnXr1pWfn5+GDh2qkiVLysvLSzt37tSbb76Z4/EzNwoUKKBnnnlGs2fP1uDBg7VgwQKlpqZag/6dlhnM9+zZk22do0ePKikpSeXKlbMpv5NPPsnJOP38889r8+bNeuONN1SpUiX5+voqIyNDDRs25DFkMBWhG8ihqlWrSpL++ecfSf/3C+r58+dt6t3o12JnWbp0qVJTU7VkyRKbX4Jzc4MS6eqA9sILL2jGjBkaPXq0Fi1apK5duzokAJcsWVLS1bvVOiLES1dv0LN+/XrrI0oyHTp0KEtdbp4CAP8d14+5zrJhwwadOXNGCxcutLm56eHDh2+r3ZuNOR06dFDTpk21fft2zZ49W5UrV9ZDDz10y+0WL15ca9euzXI0OvP0+OLFi2fb5oMPPqgHH3xQixYt0ocffmj3NPMvvvhCkvTMM8/ctI/Z9e/XX3+VYRg262BvvL5V586d07p16zRkyBCbG81mnmkHmInTy4HrrF+/3u4v4cuXL5d09fFYkuTn56fChQtr48aNNvU++eQT8zuZS5mh+Nr1SkxM1PTp03PdVvv27XXu3Dm98sorunDhgsN+eY+KipKfn59GjBihy5cvZ5lu7/EpOWnz8uXLmjJlirUsIyPD+kiVa2Vek379jygAAPPkdMx1FnvjZ1pa2m2P9Tcbcxo1aqTChQtr9OjR+uGHH3I81mbX7lNPPaX09HRNmDDBpvyDDz6QxWJRo0aNbtju4MGDde7cOb366qtZzujbsWOHRo8erfLly6t58+Y56uf1oqKi9Pfff9tcx3/p0iWb8ft22fssJSk2NtZhywCyw5Fu4Dq9evXSxYsX9eyzz6pMmTJKS0vT5s2bNW/ePIWHh9vcEOSll17SqFGj9NJLL6lq1arauHGjDhw44MTe29egQQN5eHiocePG1rA8ZcoUFSlSJNdHESpXrqzy5ctr/vz5Klu2rB555JEcz3vq1CkNHz48S3mJEiXUtm1bffrpp2rfvr0eeeQRtW7dWoGBgTp27Ji+++471apVK8uXhZtp1qyZqlevrtdee02HDh1SmTJltGTJEp09e1aS7RGBKlWqSJJ69+6tqKgoubq62jz2BADgeLkZc53h0UcfVYECBdSxY0f17t1bFotFs2bNuu1Li0qWLKmAgABNmjRJ+fPnl4+Pj2rUqGG9vtjd3V2tW7fWhAkT5OrqqjZt2uSo3ezGssaNG6t+/fp65513dOTIEVWsWFGrV6/W4sWL1bdvX+vZZtlp27attm/frg8//FC//vqr2rZtqwIFCmjnzp2aNm2aChUqpAULFtzyIzRfeeUVTZgwQW3atFGfPn0UEhKi2bNnWx+P5oiz0fz8/PTYY49pzJgxunz5sooWLarVq1ff9lkLQE4QuoHrjB07VvPnz9fy5cs1efJkpaWlqVixYurevbsGDhyogIAAa93Bgwfr1KlTWrBggb7++ms1atRIK1asUJEiRZy3AnaULl1aCxYs0MCBA/X6668rODhY3bp1U2BgYJY7n+dEhw4d1L9//1zfQO3kyZMaNGhQlvInnnhCbdu21QsvvKDQ0FCNGjVK77//vlJTU1W0aFHVqVPnlr54ubq66rvvvlOfPn00c+ZMubi46Nlnn1VMTIxq1apl86zT5557Tr169dLcuXP15ZdfyjAMQjcAmCw3Y64zFCpUSMuWLdNrr72mgQMHqkCBAmrXrp2eeOKJLE/5yA13d3fNnDlTAwYM0KuvvqorV65o+vTpNjcy7dChgyZMmKAnnnhCISEhOWo3u7HMxcVFS5Ys0eDBgzVv3jxNnz5d4eHhev/99/Xaa6/lqO3Y2FjVr19fEydO1IgRI3Tx4kWFhYWpR48eeuutt7LcFDY3Mp9/3qtXL3344Yfy9fVVhw4d9Oijj97w2eS5NWfOHPXq1UsTJ06UYRhq0KCBVqxYodDQUIe0D2THYnAXIAC59OGHH6pfv346cuRIlruF3g0WLVqkZ599Vps2bVKtWrWc3R0AALLYvXu3KlWqpC+++MIhTwm5G8XGxqpfv37666+/VLRoUWd3B7hlhG4AuWIYhipWrKhChQrl+kZszvDvv//a3D01PT1dDRo00E8//aT4+Pg7emdVAAByqmfPnpo5c6bi4+Ot12rnZdeP15cuXVLlypWVnp7+n7x0D8gNTi8HkCMpKSlasmSJ1q9fr71792rx4sXO7lKO9OrVS//++68iIiKUmpqqhQsXavPmzRoxYgSBGwDwn7N06VL9+uuvmjx5snr27HlPBG7p6qnxxYoVU6VKlZSYmKgvv/xSv//+u/V55cDdjCPdAHLkyJEjKlGihAICAtS9e3e99957zu5SjsyZM0fjxo3ToUOHdOnSJZUqVUrdunVTz549nd01AACyCA8PV0JCgqKiojRr1iy7j+jKi2JjY/X555/ryJEjSk9PV7ly5dS/f3+1atXK2V0DbhuhGwAAAAAAk/CcbgAAAAAATELoBgAAAADAJHfljdQyMjJ04sQJ5c+fXxaLxdndAQDAFIZhKDk5WaGhoXJxuXt+J2ecBgDcC3I6Tt+VofvEiRMKCwtzdjcAALgjjh8/rvvuu8/Z3cgxxmkAwL3kZuP0XRm6M+/iePz4cfn5+Tm5NwAAmCMpKUlhYWF33d2LGacBAPeCnI7Td2XozjxVzc/Pj8EcAJDn3W2naDNOAwDuJTcbp++eC8QAAAAAALjLELoBAAAAADAJoRsAAAAAAJMQugEAAAAAMAmhGwAAAAAAkxC6AQAAAAAwCaEbAAAAAACTELoBAAAAADAJoRsAAAAAAJMQugEAAAAAMAmhGwAAAAAAkxC6AQAAAAAwCaEbAAAAAACTELoBAAAAADAJoRsAAAAAAJO4ObsDQJ7wu8XZPYAjlTGc3QMAAPAfkjhkiLO7AAfxj4m548vkSDcAAAAAACbJdejeuHGjGjdurNDQUFksFi1atMhmumEYGjx4sEJCQuTt7a3IyEgdPHjQps7Zs2fVtm1b+fn5KSAgQF26dNGFCxdua0UAAAAAAPivyXXoTklJUcWKFTVx4kS708eMGaOPPvpIkyZN0tatW+Xj46OoqChdunTJWqdt27bat2+f1qxZo2XLlmnjxo16+eWXb30tAAAAAAD4D8r1Nd2NGjVSo0aN7E4zDEOxsbEaOHCgmjZtKkn64osvFBQUpEWLFql169b67bfftHLlSm3fvl1Vq1aVJH388cd66qmnNHbsWIWGht7G6gAAAAAA8N/h0Gu6Dx8+rPj4eEVGRlrL/P39VaNGDcXFxUmS4uLiFBAQYA3ckhQZGSkXFxdt3brVkd0BAAAAAMCpHHr38vj4eElSUFCQTXlQUJB1Wnx8vIoUKWLbCTc3FSxY0FrneqmpqUpNTbW+T0pKcmS3AQAAAAAwxV1x9/KRI0fK39/f+goLC3N2lwAAAAAAuCmHhu7g4GBJUkJCgk15QkKCdVpwcLBOnjxpM/3KlSs6e/astc71BgwYoMTEROvr+PHjjuw2AAAAAACmcGjoLlGihIKDg7Vu3TprWVJSkrZu3aqIiAhJUkREhM6fP68dO3ZY63z//ffKyMhQjRo17Lbr6ekpPz8/mxcAAAAAAP91ub6m+8KFCzp06JD1/eHDh7Vr1y4VLFhQxYoVU9++fTV8+HA98MADKlGihAYNGqTQ0FA1a9ZMklS2bFk1bNhQXbt21aRJk3T58mX17NlTrVu35s7lAAAAMEXikCHO7gIcxD8mxtldAHIl16H7p59+Uv369a3vo6OjJUkdO3bUjBkz1L9/f6WkpOjll1/W+fPnVbt2ba1cuVJeXl7WeWbPnq2ePXvqiSeekIuLi5o3b66PPvrIAasDAAAAAMB/R65Dd7169WQYRrbTLRaLhg4dqqFDh2Zbp2DBgpozZ05uFw0AAAAAwF3lrrh7OQAAAAAAdyNCNwAAAAAAJiF0AwAAAABgEkI3AAAAAAAmIXQDAAAAAGASQjcAAPeAiRMnKjw8XF5eXqpRo4a2bdt2w/rnz59Xjx49FBISIk9PTz344INavnz5HeotAAB5R64fGQYAAO4u8+bNU3R0tCZNmqQaNWooNjZWUVFR2r9/v4oUKZKlflpamp588kkVKVJECxYsUNGiRXX06FEFBATc+c4DAHCXI3QDAJDHjR8/Xl27dlXnzp0lSZMmTdJ3332nadOm6a233spSf9q0aTp79qw2b94sd3d3SVJ4ePid7DIAAHkGp5cDAJCHpaWlaceOHYqMjLSWubi4KDIyUnFxcXbnWbJkiSIiItSjRw8FBQWpfPnyGjFihNLT0+3WT01NVVJSks0LAABcRegGACAPO336tNLT0xUUFGRTHhQUpPj4eLvz/Pnnn1qwYIHS09O1fPlyDRo0SOPGjdPw4cPt1h85cqT8/f2tr7CwMIevBwAAdytCNwAAsJGRkaEiRYpo8uTJqlKlilq1aqV33nlHkyZNslt/wIABSkxMtL6OHz9+h3sMAMB/F9d0AwCQhxUuXFiurq5KSEiwKU9ISFBwcLDdeUJCQuTu7i5XV1drWdmyZRUfH6+0tDR5eHjY1Pf09JSnp6fjOw8AQB7AkW4AAPIwDw8PValSRevWrbOWZWRkaN26dYqIiLA7T61atXTo0CFlZGRYyw4cOKCQkJAsgRsAANwYoRsAgDwuOjpaU6ZM0cyZM/Xbb7+pW7duSklJsd7NvEOHDhowYIC1frdu3XT27Fn16dNHBw4c0HfffacRI0aoR48ezloFAADuWpxeDgBAHteqVSudOnVKgwcPVnx8vCpVqqSVK1dab6527Ngxubj83+/wYWFhWrVqlfr166cKFSqoaNGi6tOnj958801nrQIAAHctQjcAAPeAnj17qmfPnnanbdiwIUtZRESEtmzZYnKvAADI+zi9HAAAAAAAkxC6AQAAAAAwCaEbAAAAAACTELoBAAAAADAJoRsAAAAAAJMQugEAAAAAMAmhGwAAAAAAkxC6AQAAAAAwCaEbAAAAAACTELoBAAAAADAJoRsAAAAAAJMQugEAAAAAMAmhGwAAAAAAkxC6AQAAAAAwCaEbAAAAAACTELoBAAAAADAJoRsAAAAAAJMQugEAAAAAMAmhGwAAAAAAkxC6AQAAAAAwCaEbAAAAAACTELoBAAAAADAJoRsAAAAAAJMQugEAAAAAMAmhGwAAAAAAkxC6AQAAAAAwCaEbAAAAAACTELoBAAAAADAJoRsAAAAAAJMQugEAAAAAMAmhGwAAAAAAkxC6AQAAAAAwCaEbAAAAAACTELoBAAAAADAJoRsAAAAAAJMQugEAAAAAMAmhGwAAAAAAkxC6AQAAAAAwCaEbAAAAAACTELoBAAAAADAJoRsAAAAAAJM4PHSnp6dr0KBBKlGihLy9vVWyZEkNGzZMhmFY6xiGocGDByskJETe3t6KjIzUwYMHHd0VAAAAAACcyuGhe/To0fr00081YcIE/fbbbxo9erTGjBmjjz/+2FpnzJgx+uijjzRp0iRt3bpVPj4+ioqK0qVLlxzdHQAAAAAAnMbhoXvz5s1q2rSpnn76aYWHh6tFixZq0KCBtm3bJunqUe7Y2FgNHDhQTZs2VYUKFfTFF1/oxIkTWrRokaO7AwAAJE2cOFHh4eHy8vJSjRo1rOOyPTNmzJDFYrF5eXl53cHeAgCQdzg8dD/66KNat26dDhw4IEnavXu3Nm3apEaNGkmSDh8+rPj4eEVGRlrn8ff3V40aNRQXF+fo7gAAcM+bN2+eoqOjFRMTo507d6pixYqKiorSyZMns53Hz89P//zzj/V19OjRO9hjAADyDjdHN/jWW28pKSlJZcqUkaurq9LT0/Xee++pbdu2kqT4+HhJUlBQkM18QUFB1mnXS01NVWpqqvV9UlKSo7sNAECeNX78eHXt2lWdO3eWJE2aNEnfffedpk2bprfeesvuPBaLRcHBwXeymwAA5EkOP9L99ddfa/bs2ZozZ4527typmTNnauzYsZo5c+Yttzly5Ej5+/tbX2FhYQ7sMQAAeVdaWpp27Nhhc4aZi4uLIiMjb3iG2YULF1S8eHGFhYWpadOm2rdvX7Z1U1NTlZSUZPMCAABXOTx0v/HGG3rrrbfUunVrPfzww2rfvr369eunkSNHSpL1V/OEhASb+RISErL9RX3AgAFKTEy0vo4fP+7obgMAkCedPn1a6enpuTrDrHTp0po2bZoWL16sL7/8UhkZGXr00Uf1119/2a3Pj+MAAGTP4aH74sWLcnGxbdbV1VUZGRmSpBIlSig4OFjr1q2zTk9KStLWrVsVERFht01PT0/5+fnZvAAAgDkiIiLUoUMHVapUSXXr1tXChQsVGBiozz77zG59fhwHACB7Dr+mu3HjxnrvvfdUrFgxPfTQQ/r55581fvx4vfjii5KuXiPWt29fDR8+XA888IBKlCihQYMGKTQ0VM2aNXN0dwAAuKcVLlxYrq6uuTrD7Hru7u6qXLmyDh06ZHe6p6enPD09b7uvAADkRQ4/0v3xxx+rRYsW6t69u8qWLavXX39dr7zyioYNG2at079/f/Xq1Usvv/yyqlWrpgsXLmjlypU8jgQAAAfz8PBQlSpVbM4wy8jI0Lp167I9w+x66enp2rt3r0JCQszqJgAAeZbDj3Tnz59fsbGxio2NzbaOxWLR0KFDNXToUEcvHgAAXCc6OlodO3ZU1apVVb16dcXGxiolJcV6N/MOHTqoaNGi1vuvDB06VDVr1lSpUqV0/vx5vf/++zp69KheeuklZ64GAAB3JYeHbgAA8N/SqlUrnTp1SoMHD1Z8fLwqVaqklStXWm+uduzYMZv7sZw7d05du3ZVfHy8ChQooCpVqmjz5s0qV66cs1YBAIC7FqEbAIB7QM+ePdWzZ0+70zZs2GDz/oMPPtAHH3xwB3oFAEDe5/BrugEAAAAAwFWEbgAAAAAATELoBgAAAADAJIRuAAAAAABMQugGAAAAAMAkhG4AAAAAAExC6AYAAAAAwCSEbgAAAAAATELoBgAAAADAJIRuAAAAAABMQugGAAAAAMAkhG4AAAAAAExC6AYAAAAAwCSEbgAAAAAATELoBgAAAADAJIRuAAAAAABMQugGAAAAAMAkhG4AAAAAAExC6AYAAAAAwCSEbgAAAAAATELoBgAAAADAJIRuAAAAAABMQugGAAAAAMAkhG4AAAAAAExC6AYAAAAAwCSEbgAAAAAATELoBgAAAADAJIRuAAAAAABMQugGAAAAAMAkhG4AAAAAAExC6AYAAAAAwCSEbgAAAAAATELoBgAAAADAJIRuAAAAAABMQugGAAAAAMAkhG4AAAAAAExC6AYAAAAAwCSEbgAAAAAATELoBgAAAADAJIRuAAAAAABMQugGAAAAAMAkhG4AAAAAAExC6AYAAAAAwCSEbgAA7gETJ05UeHi4vLy8VKNGDW3bti1H882dO1cWi0XNmjUzt4MAAORRhG4AAPK4efPmKTo6WjExMdq5c6cqVqyoqKgonTx58obzHTlyRK+//rrq1Klzh3oKAEDeQ+gGACCPGz9+vLp27arOnTurXLlymjRpkvLly6dp06ZlO096erratm2rIUOG6P7777+DvQUAIG8hdAMAkIelpaVpx44dioyMtJa5uLgoMjJScXFx2c43dOhQFSlSRF26dLkT3QQAIM9yc3YHAACAeU6fPq309HQFBQXZlAcFBen333+3O8+mTZs0depU7dq1K0fLSE1NVWpqqvV9UlLSLfcXAIC8hiPdAADAKjk5We3bt9eUKVNUuHDhHM0zcuRI+fv7W19hYWEm9xIAgLsHR7oBAMjDChcuLFdXVyUkJNiUJyQkKDg4OEv9P/74Q0eOHFHjxo2tZRkZGZIkNzc37d+/XyVLlrSZZ8CAAYqOjra+T0pKIngDAPD/EboBAMjDPDw8VKVKFa1bt8762K+MjAytW7dOPXv2zFK/TJky2rt3r03ZwIEDlZycrA8//NBumPb09JSnp6cp/QcA4G5H6AYAII+Ljo5Wx44dVbVqVVWvXl2xsbFKSUlR586dJUkdOnRQ0aJFNXLkSHl5eal8+fI28wcEBEhSlnIAAHBzhG4AAPK4Vq1a6dSpUxo8eLDi4+NVqVIlrVy50npztWPHjsnFhdu8AABgBkI3AAD3gJ49e9o9nVySNmzYcMN5Z8yY4fgOAQBwj+BnbQAAAAAATGJK6P7777/Vrl07FSpUSN7e3nr44Yf1008/WacbhqHBgwcrJCRE3t7eioyM1MGDB83oCgAAAAAATuPw0H3u3DnVqlVL7u7uWrFihX799VeNGzdOBQoUsNYZM2aMPvroI02aNElbt26Vj4+PoqKidOnSJUd3BwAAAAAAp3H4Nd2jR49WWFiYpk+fbi0rUaKE9d+GYSg2NlYDBw5U06ZNJUlffPGFgoKCtGjRIrVu3drRXQIAAAAAwCkcfqR7yZIlqlq1qlq2bKkiRYqocuXKmjJlinX64cOHFR8fr8jISGuZv7+/atSoobi4OEd3BwAAAAAAp3F46P7zzz/16aef6oEHHtCqVavUrVs39e7dWzNnzpQkxcfHS5L1MSWZgoKCrNOul5qaqqSkJJsXAAAAAAD/dQ4/vTwjI0NVq1bViBEjJEmVK1fWL7/8okmTJqljx4631ObIkSM1ZMgQR3YTAAAAAADTOfxId0hIiMqVK2dTVrZsWR07dkySFBwcLElKSEiwqZOQkGCddr0BAwYoMTHR+jp+/Lijuw0AAAAAgMM5PHTXqlVL+/fvtyk7cOCAihcvLunqTdWCg4O1bt066/SkpCRt3bpVERERdtv09PSUn5+fzQsAAAAAgP86h59e3q9fPz366KMaMWKEnn/+eW3btk2TJ0/W5MmTJUkWi0V9+/bV8OHD9cADD6hEiRIaNGiQQkND1axZM0d3BwAAAAAAp3F46K5WrZq+/fZbDRgwQEOHDlWJEiUUGxurtm3bWuv0799fKSkpevnll3X+/HnVrl1bK1eulJeXl6O7AwAAAACA0zg8dEvSM888o2eeeSbb6RaLRUOHDtXQoUPNWDwAAAAAAP8JDr+mGwAAAAAAXEXoBgAAAADAJIRuAAAAAABMQugGAAAAAMAkhG4AAAAAAExC6AYAAAAAwCSEbgAAAAAATELoBgAAAADAJIRuAAAAAABMQugGAAAAAMAkhG4AAAAAAExC6AYAAAAAwCSEbgAAAAAATELoBgAAAADAJIRuAAAAAABMQugGAAAAAMAkhG4AAAAAAExC6AYAAAAAwCSEbgAAAAAATELoBgAAAADAJIRuAAAAAABMQugGAAAAAMAkhG4AAAAAAExC6AYAAAAAwCSEbgAAAAAATELoBgAAAADAJIRuAAAAAABMQugGAAAAAMAkhG4AAAAAAExC6AYAAAAAwCSEbgAAAAAATELoBgDgHjBx4kSFh4fLy8tLNWrU0LZt27Ktu3DhQlWtWlUBAQHy8fFRpUqVNGvWrDvYWwAA8g5CNwAAedy8efMUHR2tmJgY7dy5UxUrVlRUVJROnjxpt37BggX1zjvvKC4uTnv27FHnzp3VuXNnrVq16g73HACAux+hGwCAPG78+PHq2rWrOnfurHLlymnSpEnKly+fpk2bZrd+vXr19Oyzz6ps2bIqWbKk+vTpowoVKmjTpk13uOcAANz9CN0AAORhaWlp2rFjhyIjI61lLi4uioyMVFxc3E3nNwxD69at0/79+/XYY4+Z2VUAAPIkN2d3AAAAmOf06dNKT09XUFCQTXlQUJB+//33bOdLTExU0aJFlZqaKldXV33yySd68skn7dZNTU1Vamqq9X1SUpJjOg8AQB5A6AYAAFnkz59fu3bt0oULF7Ru3TpFR0fr/vvvV7169bLUHTlypIYMGXLnOwkAwF2A0A0AQB5WuHBhubq6KiEhwaY8ISFBwcHB2c7n4uKiUqVKSZIqVaqk3377TSNHjrQbugcMGKDo6Gjr+6SkJIWFhTlmBQAAuMtxTTcAAHmYh4eHqlSponXr1lnLMjIytG7dOkVEROS4nYyMDJtTyK/l6ekpPz8/mxcAALiKI90AAORx0dHR6tixo6pWrarq1asrNjZWKSkp6ty5sySpQ4cOKlq0qEaOHCnp6uniVatWVcmSJZWamqrly5dr1qxZ+vTTT525GgAA3JUI3QAA5HGtWrXSqVOnNHjwYMXHx6tSpUpauXKl9eZqx44dk4vL/538lpKSou7du+uvv/6St7e3ypQpoy+//FKtWrVy1ioAAHDXInQDAHAP6Nmzp3r27Gl32oYNG2zeDx8+XMOHD78DvQIAIO/jmm4AAAAAAExC6AYAAAAAwCSEbgAAAAAATELoBgAAAADAJIRuAAAAAABMQugGAAAAAMAkhG4AAAAAAExC6AYAAAAAwCSEbgAAAAAATELoBgAAAADAJG7O7gAAAEBOJA4Z4uwuwEH8Y2Kc3QUAuGM40g0AAAAAgEkI3QAAAAAAmITQDQAAAACASQjdAAAAAACYxPTQPWrUKFksFvXt29dadunSJfXo0UOFChWSr6+vmjdvroSEBLO7AgAAAADAHWVq6N6+fbs+++wzVahQwaa8X79+Wrp0qebPn68ffvhBJ06c0HPPPWdmVwAAAAAAuONMe2TYhQsX1LZtW02ZMkXDhw+3licmJmrq1KmaM2eOHn/8cUnS9OnTVbZsWW3ZskU1a9Y0q0s39rvFOcuF45UxnN0DAAAAAJBk4pHuHj166Omnn1ZkZKRN+Y4dO3T58mWb8jJlyqhYsWKKi4szqzsAAAAAANxxphzpnjt3rnbu3Knt27dnmRYfHy8PDw8FBATYlAcFBSk+Pt5ue6mpqUpNTbW+T0pKcmh/AQAAAAAwg8OPdB8/flx9+vTR7Nmz5eXl5ZA2R44cKX9/f+srLCzMIe0CAAAAAGAmh4fuHTt26OTJk3rkkUfk5uYmNzc3/fDDD/roo4/k5uamoKAgpaWl6fz58zbzJSQkKDg42G6bAwYMUGJiovV1/PhxR3cbAAAAAACHc/jp5U888YT27t1rU9a5c2eVKVNGb775psLCwuTu7q5169apefPmkqT9+/fr2LFjioiIsNump6enPD09Hd1VAAAAAABM5fDQnT9/fpUvX96mzMfHR4UKFbKWd+nSRdHR0SpYsKD8/PzUq1cvRUREOO/O5QDgTDw9IW/hCQoAAOAapj0y7EY++OADubi4qHnz5kpNTVVUVJQ++eQTZ3QFAAAAAADT3JHQvWHDBpv3Xl5emjhxoiZOnHgnFg8AAAAAgFOY9pxuAAAAAADudYRuAAAAAABMQugGAAAAAMAkhG4AAAAAAExC6AYAAAAAwCSEbgAAAAAATELoBgAAAADAJIRuAAAAAABMQugGAAAAAMAkhG4AAAAAAExC6AYAAAAAwCSEbgAAAAAATELoBgAAAADAJIRuAAAAAABMQugGAAAAAMAkhG4AAAAAAExC6AYAAAAAwCSEbgAA7gETJ05UeHi4vLy8VKNGDW3bti3bulOmTFGdOnVUoEABFShQQJGRkTesDwAAskfoBgAgj5s3b56io6MVExOjnTt3qmLFioqKitLJkyft1t+wYYPatGmj9evXKy4uTmFhYWrQoIH+/vvvO9xzAADufoRuAADyuPHjx6tr167q3LmzypUrp0mTJilfvnyaNm2a3fqzZ89W9+7dValSJZUpU0aff/65MjIytG7dujvccwAA7n6EbgAA8rC0tDTt2LFDkZGR1jIXFxdFRkYqLi4uR21cvHhRly9fVsGCBc3qJgAAeZabszsAAADMc/r0aaWnpysoKMimPCgoSL///nuO2njzzTcVGhpqE9yvlZqaqtTUVOv7pKSkW+8wAAB5DEe6AQBAtkaNGqW5c+fq22+/lZeXl906I0eOlL+/v/UVFhZ2h3sJAMB/F6EbAIA8rHDhwnJ1dVVCQoJNeUJCgoKDg28479ixYzVq1CitXr1aFSpUyLbegAEDlJiYaH0dP37cIX0HACAvIHQDAJCHeXh4qEqVKjY3Qcu8KVpERES2840ZM0bDhg3TypUrVbVq1Rsuw9PTU35+fjYvAABwFdd0AwCQx0VHR6tjx46qWrWqqlevrtjYWKWkpKhz586SpA4dOqho0aIaOXKkJGn06NEaPHiw5syZo/DwcMXHx0uSfH195evr67T1AADgbkToBgAgj2vVqpVOnTqlwYMHKz4+XpUqVdLKlSutN1c7duyYXFz+7+S3Tz/9VGlpaWrRooVNOzExMXr33XfvZNcBALjrEboBALgH9OzZUz179rQ7bcOGDTbvjxw5Yn6HAAC4R3BNNwAAAAAAJiF0AwAAAABgEkI3AAAAAAAmIXQDAAAAAGASQjcAAAAAACYhdAMAAAAAYBJCNwAAAAAAJiF0AwAAAABgEkI3AAAAAAAmIXQDAAAAAGASQjcAAAAAACYhdAMAAAAAYBJCNwAAAAAAJiF0AwAAAABgEkI3AAAAAAAmIXQDAAAAAGASQjcAAAAAACYhdAMAAAAAYBJCNwAAAAAAJiF0AwAAAABgEkI3AAAAAAAmIXQDAAAAAGASQjcAAAAAACYhdAMAAAAAYBJCNwAAAAAAJiF0AwAAAABgEkI3AAAAAAAmIXQDAAAAAGASQjcAAAAAACYhdAMAAAAAYBKHh+6RI0eqWrVqyp8/v4oUKaJmzZpp//79NnUuXbqkHj16qFChQvL19VXz5s2VkJDg6K4AAAAAAOBUDg/dP/zwg3r06KEtW7ZozZo1unz5sho0aKCUlBRrnX79+mnp0qWaP3++fvjhB504cULPPfeco7sCAAAAAIBTuTm6wZUrV9q8nzFjhooUKaIdO3boscceU2JioqZOnao5c+bo8ccflyRNnz5dZcuW1ZYtW1SzZk1HdwkAAAAAAKcw/ZruxMRESVLBggUlSTt27NDly5cVGRlprVOmTBkVK1ZMcXFxdttITU1VUlKSzQsAAAAAgP86U0N3RkaG+vbtq1q1aql8+fKSpPj4eHl4eCggIMCmblBQkOLj4+22M3LkSPn7+1tfYWFhZnYbAAAAAACHMDV09+jRQ7/88ovmzp17W+0MGDBAiYmJ1tfx48cd1EMAAAAAAMzj8Gu6M/Xs2VPLli3Txo0bdd9991nLg4ODlZaWpvPnz9sc7U5ISFBwcLDdtjw9PeXp6WlWVwEAAAAAMIXDj3QbhqGePXvq22+/1ffff68SJUrYTK9SpYrc3d21bt06a9n+/ft17NgxRUREOLo7AAAAAAA4jcOPdPfo0UNz5szR4sWLlT9/fut12v7+/vL29pa/v7+6dOmi6OhoFSxYUH5+furVq5ciIiK4czkAAAAAIE9xeOj+9NNPJUn16tWzKZ8+fbo6deokSfrggw/k4uKi5s2bKzU1VVFRUfrkk08c3RUAAAAAAJzK4aHbMIyb1vHy8tLEiRM1ceJERy8eAAAAAID/DNOf0w0AAAAAwL2K0A0AAAAAgEkI3QAAAAAAmITQDQDAPWDixIkKDw+Xl5eXatSooW3btmVbd9++fWrevLnCw8NlsVgUGxt75zoKAEAeQ+gGACCPmzdvnqKjoxUTE6OdO3eqYsWKioqK0smTJ+3Wv3jxou6//36NGjVKwcHBd7i3AADkLYRuAADyuPHjx6tr167q3LmzypUrp0mTJilfvnyaNm2a3frVqlXT+++/r9atW8vT0/MO9xYAgLyF0A0AQB6WlpamHTt2KDIy0lrm4uKiyMhIxcXFOWQZqampSkpKsnkBAICrCN0AAORhp0+fVnp6uoKCgmzKg4KCFB8f75BljBw5Uv7+/tZXWFiYQ9oFACAvIHQDAIDbMmDAACUmJlpfx48fd3aXAAD4z3BzdgcAAIB5ChcuLFdXVyUkJNiUJyQkOOwmaZ6enlz7DQBANjjSDQBAHubh4aEqVapo3bp11rKMjAytW7dOERERTuwZAAD3Bo50AwCQx0VHR6tjx46qWrWqqlevrtjYWKWkpKhz586SpA4dOqho0aIaOXKkpKs3X/v111+t//7777+1a9cu+fr6qlSpUk5bDwAA7kaEbgAA8rhWrVrp1KlTGjx4sOLj41WpUiWtXLnSenO1Y8eOycXl/05+O3HihCpXrmx9P3bsWI0dO1Z169bVhg0b7nT3AQC4qxG6AQC4B/Ts2VM9e/a0O+36IB0eHi7DMO5ArwAAyPu4phsAAAAAAJMQugEAAAAAMAmhGwAAAAAAkxC6AQAAAAAwCaEbAAAAAACTELoBAAAAADAJoRsAAAAAAJMQugEAAAAAMAmhGwAAAAAAkxC6AQAAAAAwCaEbAAAAAACTELoBAAAAADAJoRsAAAAAAJMQugEAAAAAMAmhGwAAAAAAkxC6AQAAAAAwCaEbAAAAAACTELoBAAAAADAJoRsAAAAAAJMQugEAAAAAMAmhGwAAAAAAkxC6AQAAAAAwCaEbAAAAAACTELoBAAAAADAJoRsAAAAAAJMQugEAAAAAMAmhGwAAAAAAkxC6AQAAAAAwCaEbAAAAAACTELoBAAAAADAJoRsAAAAAAJMQugEAAAAAMAmhGwAAAAAAkxC6AQAAAAAwCaEbAAAAAACTELoBAAAAADAJoRsAAAAAAJMQugEAAAAAMAmhGwAAAAAAkxC6AQAAAAAwCaEbAAAAAACTELoBAAAAADAJoRsAAAAAAJM4LXRPnDhR4eHh8vLyUo0aNbRt2zZndQUAgDwvt+Pu/PnzVaZMGXl5eenhhx/W8uXL71BPAQDIW5wSuufNm6fo6GjFxMRo586dqlixoqKionTy5ElndAcAgDwtt+Pu5s2b1aZNG3Xp0kU///yzmjVrpmbNmumXX365wz0HAODu55TQPX78eHXt2lWdO3dWuXLlNGnSJOXLl0/Tpk1zRncAAMjTcjvufvjhh2rYsKHeeOMNlS1bVsOGDdMjjzyiCRMm3OGeAwBw93O70wtMS0vTjh07NGDAAGuZi4uLIiMjFRcXZ3ee1NRUpaamWt8nJiZKkpKSkhzXsQuOawpO5sj9IqfYf/KWO70Psf/kLQ7cfzLHOcMwbrmNWxl34+LiFB0dbVMWFRWlRYsW2a1/R8ZpSUmXLjm0PTiPxQljNftP3sH+g9vhyP0np+P0HQ/dp0+fVnp6uoKCgmzKg4KC9Pvvv9udZ+TIkRoyZEiW8rCwMFP6iLudv7M7gLse+xBuh+P3n+TkZPn731q7tzLuxsfH260fHx9vtz7jNHJt1Chn9wB3M/Yf3A4T9p+bjdN3PHTfigEDBtj84p6RkaGzZ8+qUKFCslgsTuzZ3SUpKUlhYWE6fvy4/Pz8nN0d3GXYf3A72H9ujWEYSk5OVmhoqLO7ckOM047B/xPcDvYf3A72n1uT03H6jofuwoULy9XVVQkJCTblCQkJCg4OtjuPp6enPD09bcoCAgLM6mKe5+fnx38m3DL2H9wO9p/cu9Uj3JluZdwNDg5mnHYi/p/gdrD/4Haw/+ReTsbpO34jNQ8PD1WpUkXr1q2zlmVkZGjdunWKiIi4090BACBPu5VxNyIiwqa+JK1Zs4ZxGgCAW+CU08ujo6PVsWNHVa1aVdWrV1dsbKxSUlLUuXNnZ3QHAIA87WbjbocOHVS0aFGNHDlSktSnTx/VrVtX48aN09NPP625c+fqp59+0uTJk525GgAA3JWcErpbtWqlU6dOafDgwYqPj1elSpW0cuXKLDdtgWN5enoqJiYmyymAQE6w/+B2sP84183G3WPHjsnF5f9Ofnv00Uc1Z84cDRw4UG+//bYeeOABLVq0SOXLl3fWKtwT+H+C28H+g9vB/mMui3E7zyEBAAAAAADZuuPXdAMAAAAAcK8gdAMAAAAAYBJCNwAAAAAAJiF0AwAAAABgEkJ3HmKxWG74evfdd7OtN3fuXOd2Hqbr1KmTzWdeqFAhNWzYUHv27MlS95VXXpGrq6vmz5+fZdq7775rbcPV1VVhYWF6+eWXdfbsWW3YsOGm++GGDRvuwNoiO9fuBx4eHipVqpSGDh2qK1eu3PDzi4+Pt7aRlJSkQYMG6aGHHpK3t7cKFSqkatWqacyYMTp37lyWZX711VdydXVVjx497PZpypQpqlixonx9fRUQEKDKlStbH12V2edmzZplmS+zv+fPn5ckpaena9SoUSpTpoy8vb1VsGBB1ahRQ59//vntbTTAgRirkR3GaUiM03mVUx4ZBnP8888/1n/PmzdPgwcP1v79+61lvr6+1n9Pnz5dDRs2tL4PCAi4I32EczVs2FDTp0+XJMXHx2vgwIF65plndOzYMWudixcvau7cuerfv7+mTZumli1bZmnnoYce0tq1a5Wenq7ffvtNL774ohITEzVr1iyb/bBPnz5KSkqyLlOSChYsaOIaIicy94PU1FQtX75cPXr0kLu7uyIiIiRJ+/fvl5+fn808RYoUkSSdPXtWtWvXVlJSkoYNG6YqVarI399f+/fv1/Tp0zVnzpwsg/bUqVPVv39/ffbZZxo3bpy8vLys06ZNm6a+ffvqo48+Ut26dZWamqo9e/bol19+yfV6DRkyRJ999pkmTJigqlWrKikpST/99JPdLxiAszBW40YYpyExTudFhO48JDg42Ppvf39/WSwWm7JrBQQEZDsNeZenp6f1cw8ODtZbb72lOnXq6NSpUwoMDJQkzZ8/X+XKldNbb72l0NBQHT9+XGFhYTbtuLm5WdspWrSoWrZsqenTp8vDw8Nmv/L29lZqair72n/MtftBt27d9O2332rJkiXWwbxIkSLZfrl/++23dezYMR04cEChoaHW8uLFi6tBgwa6/imUhw8f1ubNm/XNN99o/fr1WrhwoV544QXr9CVLluj5559Xly5drGUPPfTQLa3XkiVL1L17d5svoBUrVryltgCzMFbjRhinITFO50WcXn6P6tGjhwoXLqzq1atr2rRpWf4DIu+7cOGCvvzyS5UqVUqFChWylk+dOlXt2rWTv7+/GjVqpBkzZtywnSNHjmjVqlXy8PAwuccwi7e3t9LS0m5aLyMjQ/PmzVO7du1sBvJrWSwWm/fTp0/X008/LX9/f7Vr105Tp061mR4cHKwtW7bo6NGjt74C17T1/fff69SpU7fdFvBfwFh9b2OcRibG6bsfofseNHToUH399ddas2aNmjdvru7du+vjjz92drdwByxbtky+vr7y9fVV/vz5tWTJEs2bN08uLlf/FBw8eFBbtmxRq1atJEnt2rXT9OnTs3zR27t3r3x9feXt7a0SJUpo3759evPNN+/4+uD2GIahtWvXatWqVXr88cet5ffdd591P/H19bX+on3q1CmdP39epUuXtmmnSpUq1rpt2rSxlmdkZGjGjBlq166dJKl169batGmTDh8+bK0TExOjgIAAhYeHq3Tp0urUqZO+/vprZWRk5Hp9xo8fr1OnTik4OFgVKlTQq6++qhUrVuS6HeC/gLH63sQ4jWsxTucdhO570KBBg1SrVi1VrlxZb775pvr376/333/f2d3CHVC/fn3t2rVLu3bt0rZt2xQVFaVGjRpZf72cNm2aoqKiVLhwYUnSU089pcTERH3//fc27ZQuXVq7du3S9u3b9eabbyoqKkq9evW64+uDW5P5pc7Ly0uNGjVSq1atrDdvkqQff/zRup/s2rVLy5cvv2F73377rXbt2qWoqCj9+++/1vI1a9YoJSVFTz31lCSpcOHCevLJJzVt2jRrnZCQEMXFxWnv3r3q06ePrly5oo4dO6phw4a5HtDLlSunX375RVu2bNGLL76okydPqnHjxnrppZdy1Q7wX8BYfW9inIbEOJ0XEbqhGjVq6K+//lJqaqqzuwKT+fj4qFSpUipVqpSqVaumzz//XCkpKZoyZYrS09M1c+ZMfffdd3Jzc5Obm5vy5cuns2fP2vzxlWS9m2b58uU1atQoubq6asiQIU5aK+RW5pe6gwcP6t9//9XMmTPl4+NjnV6iRAnrflKqVCkVL15ckhQYGKiAgACbmz5JUrFixVSqVCnlz5/fpnzq1Kk6e/asvL29rfvU8uXLNXPmzCwDdfny5dW9e3d9+eWXWrNmjdasWaMffvhBkuTn56fExMQs63H+/Hm5urra9N3FxUXVqlVT3759tXDhQs2YMUNTp061+dUeuBsxVt8bGKchMU7nRYRuaNeuXSpQoIA8PT2d3RXcYRaLRS4uLvr333+1fPlyJScn6+eff7b59fSrr77SwoULrY97sGfgwIEaO3asTpw4cec6j1uW+aWuWLFicnPL+f00XVxc9Pzzz+vLL7+86Wd95swZLV68WHPnzrXZn37++WedO3dOq1evznbecuXKSZJSUlIkXT1is2/fvixhY+fOnSpRooTc3d1z3BZwt2KsvjcxTt+bGKfzHu5efo9ZunSpEhISVLNmTXl5eWnNmjUaMWKEXn/9dWd3DXdAamqq9TmO586d04QJE3ThwgU1btxYsbGxevrpp7PcRbJcuXLq16+fZs+ene3zGyMiIlShQgWNGDFCEyZMMH09YK6TJ0/q0qVLNmWFChWSu7u7RowYoQ0bNqh69eoaOnSoqlatKh8fH+3Zs0dxcXEqX768JGnWrFkqVKiQnn/++Sw3bXnqqac0depUNWzYUN26dVNoaKgef/xx3Xffffrnn380fPhwBQYGWu/S2rZtWw0dOlQdOnRQ//795e/vr40bNyo2NlZjxoyxttuiRQvVqlVLjz76qIKDg3X48GENGDBADz74oMqUKWPyVgMch7H63sU4jZxgnL4LGciTpk+fbvj7+2cpX7FihVGpUiXD19fX8PHxMSpWrGhMmjTJSE9Pv/OdxB3VsWNHQ5L1lT9/fqNatWrGggULjPj4eMPNzc34+uuv7c7brVs3o3LlyoZhGEZMTIxRsWLFLHW++uorw9PT0zh27JjNMps2bWrG6uAW3egzWb9+vc0+cu0rLi7OWu/8+fPGgAEDjDJlyhienp6Gt7e3UaFCBWPQoEHGmTNnDMMwjIcfftjo3r273eXMmzfP8PDwME6dOmUsWLDAeOqpp4yQkBDDw8PDCA0NNZo3b27s2bPHZp79+/cbzz77rBEaGmr92zVlyhQjIyPDWmfy5MlG/fr1jcDAQMPDw8MoVqyY0alTJ+PIkSO3udUAczBW41qM0zAMxum8ymIYPH8CAAAAAAAzcE03AAAAAAAmIXQDAAAAAGASQjcAAAAAACYhdAMAAAAAYBJCNwAAAAAAJiF0AwAAAABgEkI3AAAAAAAmIXQDAAAAAGASQjcAAAAAACYhdAMAAAAAYBJCNwAAAAAAJiF0AwAAAABgkv8HVYSpO1KQYAIAAAAASUVORK5CYII=",
            "text/plain": [
              "<Figure size 1000x500 with 2 Axes>"
            ]
          },
          "metadata": {},
          "output_type": "display_data"
        }
      ],
      "source": [
        "def plot_enhanced_summarization_comparison(metrics, title=\"Summarization Comparison\"):\n",
        "    \"\"\"Plot enhanced metrics for summarization models.\"\"\"\n",
        "    fig, (ax1, ax2) = plt.subplots(1, 2, figsize=(10, 5))\n",
        "\n",
        "    # Length\n",
        "    ax1.bar(['T5', 'BART', 'PEGASUS'],\n",
        "            [metrics['t5']['length'], metrics['bart']['length'], metrics['pegasus']['length']],\n",
        "            color='gold')\n",
        "    ax1.set_title('Summary Length')\n",
        "\n",
        "    # Similarity to Original\n",
        "    ax2.bar(['T5', 'BART', 'PEGASUS'],\n",
        "            [metrics['t5']['sim_to_original'],\n",
        "             metrics['bart']['sim_to_original'],\n",
        "             metrics['pegasus']['sim_to_original']],\n",
        "            color='lightcoral')\n",
        "    ax2.set_title('Similarity to Original')\n",
        "\n",
        "    plt.suptitle(title, fontsize=14)\n",
        "    plt.tight_layout(rect=[0, 0, 1, 0.95])\n",
        "    plt.show()\n",
        "\n",
        "plot_enhanced_summarization_comparison(comparison_first, title=\"Summarization Comparison (Frankenstein)\")\n",
        "plot_enhanced_summarization_comparison(comparison_second, title=\"Summarization Comparison (Pride and Prejudice)\")"
      ]
    },
    {
      "cell_type": "markdown",
      "metadata": {
        "id": "eT4p46Tclyle"
      },
      "source": [
        "###  Enhanced Paraphrasing Metrics Plot\n",
        "Visualize PEGASUS vs T5-Paraphrase vs BART-Paraphrase metrics."
      ]
    },
    {
      "cell_type": "code",
      "execution_count": 32,
      "metadata": {
        "colab": {
          "base_uri": "https://localhost:8080/",
          "height": 896
        },
        "id": "uWY51Utyl1WP",
        "outputId": "73fda179-6bc9-49b1-e995-bb92b021a2d2"
      },
      "outputs": [
        {
          "name": "stderr",
          "output_type": "stream",
          "text": [
            "/usr/local/lib/python3.12/dist-packages/transformers/models/t5/tokenization_t5.py:287: UserWarning: This sequence already has </s>. In future versions this behavior may lead to duplicated eos tokens being added.\n",
            "  warnings.warn(\n"
          ]
        },
        {
          "name": "stdout",
          "output_type": "stream",
          "text": [
            "----------- Enhanced Paraphrasing Comparison -----------\n",
            "PEGASUS Paraphrases (Avg Length: 25.3, Avg Sim to Original: 0.514):\n",
            "  1. Letter 1 Letter 2 Letter 3 Letter 4 Chapter 1 Chapter 2 Chapter 3 Chapter 5 Chapter 7 Chapter 8 Chapter 9 Chapter 10 Chapter\n",
            "  2. Letter 1 Letter 2 Letter 3 Letter 4 Chapter 1 Chapter 2 Chapter 3 Chapter 5 Chapter 7 Chapter 8 Chapter 9 Chapter 10\n",
            "  3. Letter 1 Letter 2 Letter 3 Letter 4 Chapter 1 Chapter 2 Chapter 3 Chapter 5 Chapter 6 Chapter 7 Chapter 8 Chapter 9 Chapter 10 Chapter\n",
            "\n",
            "T5-Paraphrase Paraphrases (Avg Length: 32.0, Avg Sim to Original: 0.944):\n",
            "  1. *** START OF THE PROJECT GUTENBERG EBOOK 84 *** Frankenstein; or, the Modern Prometheus by Mary Wollstonecraft (Godwin) Shelley CONTENTS Letter 1 Letter 2 Letter 3 Letter 4 Chapter 1 Chapter\n",
            "  2. *** START OF THE PROJECT GUTENBERG EBOOK 84 *** Frankenstein or the Modern Prometheus by Mary Wollstonecraft (Godwin) Shelley CONTENTS Letter 1 Letter 2 Letter 3 Letter 4 Chapter 1 Chapter 2 Chapter\n",
            "  3. *** START OF THE PROJECT GUTENBERG EBOOK 84 *** Frankenstein or, the Modern Prometheus by Mary Wollstonecraft (Godwin) Shelley CONTENTS Letter 1 Letter 2 Letter 3 Letter 4 Chapter 1 Chapter 2\n",
            "\n",
            "BART-Paraphrase Paraphrases (Avg Length: 32.0, Avg Sim to Original: 0.830):\n",
            "  1. *** START of the project GUTENBERG EBOOK 84 ***\tFrankenstein, the Modern Prometheus, the Mispronounced Letters by Mary Wollstonecraft (Godwin) Shelley\tTEXTURETEXTURE CONTENTS\t Letter 1\t Letter 2\t Letter 3\t Letter 4\t Chapter\n",
            "  2. *** START of the project GUTENBERG EBOOK 84 ***\tFrankenstein, the Modern Prometheus, the Mispronounced Letters by Mary Wollstonecraft (Godwin) Shelley\tTEXTURETEXTURE CONTENTS\t Letter 1\t Letter 2\t Letter 3\t Letter 4TEXTURE Chapter\n",
            "  3. *** START of the project GUTENBERG EBOOK 84 ***\tFrankenstein, the Modern Prometheus, the Mispronounced Letters by Mary Wollstonecraft (Godwin) Shelley\tTEXTURETEXTURE CONTENTS\t Letter 1\t Letter 2\t Letter 3=-=-=-=-=-=-=-=- Letter 4\t Chapter\n",
            "\n",
            "Average Similarity PEGASUS vs T5-Paraphrase: 0.386\n",
            "Average Similarity PEGASUS vs BART-Paraphrase: 0.462\n",
            "Average Similarity T5-Paraphrase vs BART-Paraphrase: 0.854\n"
          ]
        },
        {
          "data": {
            "image/png": "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",
            "text/plain": [
              "<Figure size 1000x500 with 2 Axes>"
            ]
          },
          "metadata": {},
          "output_type": "display_data"
        }
      ],
      "source": [
        "def plot_enhanced_paraphrasing_comparison(metrics, title=\"Paraphrasing Comparison\"):\n",
        "    \"\"\"Plot enhanced metrics for paraphrasing models.\"\"\"\n",
        "    fig, (ax1, ax2) = plt.subplots(1, 2, figsize=(10, 5))\n",
        "\n",
        "    # Average Length\n",
        "    ax1.bar(['PEGASUS', 'T5-Paraphrase', 'BART-Paraphrase'],\n",
        "            [metrics['pegasus']['avg_length'],\n",
        "             metrics['t5_paraphrase']['avg_length'],\n",
        "             metrics['bart_paraphrase']['avg_length']],\n",
        "            color='gold')\n",
        "    ax1.set_title('Average Paraphrase Length')\n",
        "\n",
        "    # Average Similarity to Original\n",
        "    ax2.bar(['PEGASUS', 'T5-Paraphrase', 'BART-Paraphrase'],\n",
        "            [metrics['pegasus']['avg_sim_to_original'],\n",
        "             metrics['t5_paraphrase']['avg_sim_to_original'],\n",
        "             metrics['bart_paraphrase']['avg_sim_to_original']],\n",
        "            color='lightcoral')\n",
        "    ax2.set_title('Average Similarity to Original')\n",
        "\n",
        "    plt.suptitle(title, fontsize=14)\n",
        "    plt.tight_layout(rect=[0, 0, 1, 0.95])\n",
        "    plt.show()\n",
        "\n",
        "# Plot paraphrasing comparison for first sentence of first text\n",
        "first_sentence = re.split(r'[.!?]+', first_text)[0].strip()\n",
        "plot_enhanced_paraphrasing_comparison(compare_paraphrasers_enhanced(first_sentence),\n",
        "                                     title=\"Paraphrasing Comparison (Frankenstein Sentence)\")"
      ]
    },
    {
      "cell_type": "markdown",
      "metadata": {
        "id": "Z4urzFrQpiHi"
      },
      "source": [
        "## Bigram Analysis\n",
        "Add bigram analysis using simple string splitting."
      ]
    },
    {
      "cell_type": "code",
      "execution_count": 33,
      "metadata": {
        "colab": {
          "base_uri": "https://localhost:8080/"
        },
        "id": "-T4OFs2Mpqwa",
        "outputId": "7910dd8f-ea6f-43f5-ce37-8ba063be042f"
      },
      "outputs": [
        {
          "name": "stdout",
          "output_type": "stream",
          "text": [
            "\n",
            "Bigram Analysis\n",
            "\n",
            "Text 1:\n",
            "Top Bigrams: [('Letter 1', 2), ('4 Chapter', 2), ('of my', 2), ('in the', 2), ('I am', 2)]\n",
            "\n",
            "Text 2:\n",
            "Top Bigrams: [('Mr. Bingley', 3), ('Mrs. Long', 3), ('do not', 3), ('till the', 2), ('are not', 2)]\n"
          ]
        }
      ],
      "source": [
        "def analyze_bigrams(text):\n",
        "    \"\"\"Compute top bigrams using string splitting.\"\"\"\n",
        "    text = clean_text(text[:2000])  # Clean and limit for performance\n",
        "    words = text.split()\n",
        "    bigrams = [(words[i], words[i+1]) for i in range(len(words)-1)]\n",
        "    bigram_freq = Counter(bigrams).most_common(5)\n",
        "    return [(f\"{w1} {w2}\", count) for (w1, w2), count in bigram_freq]\n",
        "\n",
        "print(\"\\nBigram Analysis\")\n",
        "for key, data in loaded_texts.items():\n",
        "    print(f\"\\n{key}:\")\n",
        "    bigrams = analyze_bigrams(data['text'])\n",
        "    print(f\"Top Bigrams: {bigrams}\")"
      ]
    },
    {
      "cell_type": "markdown",
      "metadata": {
        "id": "5QXXOjoQp0xR"
      },
      "source": [
        "###  Bigram Visualization\n",
        "Visualize bigram frequencies."
      ]
    },
    {
      "cell_type": "code",
      "execution_count": 34,
      "metadata": {
        "colab": {
          "base_uri": "https://localhost:8080/",
          "height": 797
        },
        "id": "NGEa2XdHp4MY",
        "outputId": "ac0d81d0-3865-4716-bbdc-ab6c1f7cb8ff"
      },
      "outputs": [
        {
          "data": {
            "image/png": "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",
            "text/plain": [
              "<Figure size 800x400 with 1 Axes>"
            ]
          },
          "metadata": {},
          "output_type": "display_data"
        },
        {
          "data": {
            "image/png": "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",
            "text/plain": [
              "<Figure size 800x400 with 1 Axes>"
            ]
          },
          "metadata": {},
          "output_type": "display_data"
        }
      ],
      "source": [
        "def plot_bigrams(bigrams, title=\"Top Bigrams\"):\n",
        "    \"\"\"Plot top bigrams.\"\"\"\n",
        "    if bigrams:\n",
        "        labels, counts = zip(*bigrams)\n",
        "        plt.figure(figsize=(8, 4))\n",
        "        plt.bar(labels, counts, color='teal')\n",
        "        plt.title(title, fontsize=12)\n",
        "        plt.xticks(rotation=45)\n",
        "        plt.tight_layout()\n",
        "        plt.show()\n",
        "\n",
        "for key, data in loaded_texts.items():\n",
        "    bigrams = analyze_bigrams(data['text'])\n",
        "    plot_bigrams(bigrams, title=f\"Top Bigrams ({key})\")"
      ]
    }
  ],
  "metadata": {
    "colab": {
      "provenance": []
    },
    "kernelspec": {
      "display_name": "Python 3",
      "name": "python3"
    },
    "language_info": {
      "name": "python"
    }
  },
  "nbformat": 4,
  "nbformat_minor": 0
}

