{
  "nbformat": 4,
  "nbformat_minor": 0,
  "metadata": {
    "colab": {
      "provenance": [],
"gpuType": "T4"7

    },
    "kernelspec": {
      "name": "python3",
      "display_name": "Python 3"
    },
    "language_info": {6
      "name": "python"
    },
    "accelerator": "GPU"
  },
  "cells": [
    {
      "cell_type": "markdown",
      "source": [
        "## 1: Install Dependencies\n",
        "This cell installs all necessary libraries for the application to run."
      ],
      "metadata": {
        "id": "32N_hsbauATI"
      }
    },
    {
      "cell_type": "code",
      "execution_count": 12,
      "metadata": {
        "colab": {
          "base_uri": "https://localhost:8080/"
        },
        "id": "TbeYM1Wanaq8",
        "outputId": "7372316b-515f-42ee-b00b-111a7d535def"
      },
      "outputs": [
        {
          "output_type": "stream",
          "name": "stdout",
          "text": [
            "  Preparing metadata (setup.py) ... \u001b[?25l\u001b[?25hdone\n",
            "\u001b[2K   \u001b[90m\u2501\u2501\u2501\u2501\u2501\u2501\u2501\u2501\u2501\u2501\u2501\u2501\u2501\u2501\u2501\u2501\u2501\u2501\u2501\u2501\u2501\u2501\u2501\u2501\u2501\u2501\u2501\u2501\u2501\u2501\u2501\u2501\u2501\u2501\u2501\u2501\u2501\u2501\u2501\u2501\u001b[0m \u001b[32m323.5/323.5 kB\u001b[0m \u001b[31m21.3 MB/s\u001b[0m eta \u001b[36m0:00:00\u001b[0m\n",
            "\u001b[2K   \u001b[90m\u2501\u2501\u2501\u2501\u2501\u2501\u2501\u2501\u2501\u2501\u2501\u2501\u2501\u2501\u2501\u2501\u2501\u2501\u2501\u2501\u2501\u2501\u2501\u2501\u2501\u2501\u2501\u2501\u2501\u2501\u2501\u2501\u2501\u2501\u2501\u2501\u2501\u2501\u2501\u2501\u001b[0m \u001b[32m84.1/84.1 kB\u001b[0m \u001b[31m8.2 MB/s\u001b[0m eta \u001b[36m0:00:00\u001b[0m\n",
            "\u001b[2K   \u001b[90m\u2501\u2501\u2501\u2501\u2501\u2501\u2501\u2501\u2501\u2501\u2501\u2501\u2501\u2501\u2501\u2501\u2501\u2501\u2501\u2501\u2501\u2501\u2501\u2501\u2501\u2501\u2501\u2501\u2501\u2501\u2501\u2501\u2501\u2501\u2501\u2501\u2501\u2501\u2501\u2501\u001b[0m \u001b[32m239.2/239.2 kB\u001b[0m \u001b[31m20.5 MB/s\u001b[0m eta \u001b[36m0:00:00\u001b[0m\n",
            "\u001b[2K   \u001b[90m\u2501\u2501\u2501\u2501\u2501\u2501\u2501\u2501\u2501\u2501\u2501\u2501\u2501\u2501\u2501\u2501\u2501\u2501\u2501\u2501\u2501\u2501\u2501\u2501\u2501\u2501\u2501\u2501\u2501\u2501\u2501\u2501\u2501\u2501\u2501\u2501\u2501\u2501\u2501\u2501\u001b[0m \u001b[32m2.1/2.1 MB\u001b[0m \u001b[31m91.8 MB/s\u001b[0m eta \u001b[36m0:00:00\u001b[0m\n",
            "\u001b[2K   \u001b[90m\u2501\u2501\u2501\u2501\u2501\u2501\u2501\u2501\u2501\u2501\u2501\u2501\u2501\u2501\u2501\u2501\u2501\u2501\u2501\u2501\u2501\u2501\u2501\u2501\u2501\u2501\u2501\u2501\u2501\u2501\u2501\u2501\u2501\u2501\u2501\u2501\u2501\u2501\u2501\u2501\u001b[0m \u001b[32m1.6/1.6 MB\u001b[0m \u001b[31m87.9 MB/s\u001b[0m eta \u001b[36m0:00:00\u001b[0m\n",
            "\u001b[?25h  Building wheel for rouge_score (setup.py) ... \u001b[?25l\u001b[?25hdone\n",
            "\u2705 All dependencies installed successfully.\n"
          ]
        }
      ],
      "source": [
        "# -*- coding: utf-8 -*-\n",
        "# Install all required libraries quietly\n",
        "!pip install ipywidgets transformers torch sentencepiece huggingface_hub pypdf evaluate scikit-learn sentence-transformers matplotlib seaborn pandas nltk textstat rouge_score --quiet\n",
        "# accelerate is needed for efficient multi-device model loading\n",
        "!pip install accelerate --quiet\n",
        "print(\"\u2705 All dependencies installed successfully.\")"
      ]
    },
    {
      "cell_type": "markdown",
      "source": [
        "## 2: Import Libraries & Authenticate\n",
        "This cell imports the required Python modules and securely logs into the Hugging Face Hub using your Colab secret."
      ],
      "metadata": {
        "id": "-mPhNr7VuQ-3"
      }
    },
    {
      "cell_type": "code",
      "source": [
        "import os\n",
        "import ipywidgets as widgets\n",
        "from IPython.display import display, HTML\n",
        "import pandas as pd\n",
        "import matplotlib.pyplot as plt\n",
        "import seaborn as sns\n",
        "from google.colab import userdata\n",
        "from huggingface_hub import login\n",
        "import torch\n",
        "from transformers import AutoTokenizer, AutoModelForCausalLM, pipeline\n",
        "from sentence_transformers import SentenceTransformer\n",
        "from sklearn.metrics.pairwise import cosine_similarity\n",
        "import networkx as nx\n",
        "import numpy as np\n",
        "import pypdf\n",
        "import evaluate\n",
        "import nltk\n",
        "import io\n",
        "import warnings\n",
        "import time\n",
        "import textstat\n",
        "from math import pi\n",
        "\n",
        "# --- 0. SETUP AND AUTHENTICATION ---\n",
        "warnings.filterwarnings(\"ignore\")\n",
        "\n",
        "# CORRECTED: Download the 'punkt' resource and the specific 'punkt_tab' to fix the TextRank error\n",
        "try:\n",
        "    nltk.download('punkt', quiet=True)\n",
        "    nltk.download('punkt_tab', quiet=True) # <-- This line explicitly fixes the error\n",
        "except Exception as e:\n",
        "    print(f\"Error downloading NLTK data: {e}\")\n",
        "\n",
        "# Securely get the token from Colab secrets\n",
        "try:\n",
        "    HF_TOKEN = userdata.get('HF_TOKEN')\n",
        "    login(token=HF_TOKEN)\n",
        "    print(\"\u2705 Hugging Face Hub login successful.\")\n",
        "except Exception as e:\n",
        "    print(f\"\ud83d\uded1 Hugging Face Hub login failed. Please ensure you have set the 'HF_TOKEN' secret correctly.\")\n",
        "    print(f\"Error: {e}\")"
      ],
      "metadata": {
        "colab": {
          "base_uri": "https://localhost:8080/"
        },
        "id": "wDOnO0UAuSBI",
        "outputId": "9abc0ea2-4271-4cf4-cce5-f1f867ac91f4"
      },
      "execution_count": 13,
      "outputs": [
        {
          "output_type": "stream",
          "name": "stdout",
          "text": [
            "\u2705 Hugging Face Hub login successful.\n"
          ]
        }
      ]
    },
    {
      "cell_type": "markdown",
      "source": [
        "## 3: Load AI Models (Pre-computation)\n",
        "This crucial, one-time step loads all the AI models into memory before any UI is displayed. This ensures the application is fast and responsive during use."
      ],
      "metadata": {
        "id": "Grro90nvucpn"
      }
    },
    {
      "cell_type": "code",
      "source": [
        "# --- 1. LOAD MODELS (PRE-COMPUTATION) ---\n",
        "print(\"Loading small, fast models... This should be quicker now. \u23f3\")\n",
        "\n",
        "device = \"cuda\" if torch.cuda.is_available() else \"cpu\"\n",
        "print(f\"Using device: {device}\")\n",
        "\n",
        "# Model Dictionary to hold all loaded models\n",
        "MODELS = {}\n",
        "\n",
        "try:\n",
        "    # Model 1: TinyLlama-1.1B-Chat (Open, 1.1B)\n",
        "    model_id_tiny = \"TinyLlama/TinyLlama-1.1B-Chat-v1.0\"\n",
        "    MODELS['tinyllama'] = {\n",
        "        'tokenizer': AutoTokenizer.from_pretrained(model_id_tiny),\n",
        "        'model': AutoModelForCausalLM.from_pretrained(\n",
        "            model_id_tiny,\n",
        "            torch_dtype=torch.bfloat16,\n",
        "            device_map=\"auto\",\n",
        "        ),\n",
        "        'name': \"TinyLlama-1.1B-Chat\"\n",
        "    }\n",
        "    print(\"\u2705 Loaded TinyLlama-1.1B-Chat.\")\n",
        "\n",
        "    # Model 2: Phi-1.5 (Restricted License, 1.3B)\n",
        "    model_id_phi = \"microsoft/phi-1.5\"\n",
        "    MODELS['phi'] = {\n",
        "        'tokenizer': AutoTokenizer.from_pretrained(model_id_phi, trust_remote_code=True),\n",
        "        'model': AutoModelForCausalLM.from_pretrained(\n",
        "            model_id_phi,\n",
        "            torch_dtype=torch.bfloat16,\n",
        "            device_map=\"auto\",\n",
        "            trust_remote_code=True\n",
        "        ),\n",
        "        'name': \"Phi-1.5\"\n",
        "    }\n",
        "    print(\"\u2705 Loaded Phi-1.5.\")\n",
        "\n",
        "    # Model 3: BART (Public Baseline, ~400M)\n",
        "    model_id_bart = \"facebook/bart-large-cnn\"\n",
        "    MODELS['bart'] = {\n",
        "        'summarizer': pipeline(\"summarization\", model=model_id_bart, device=0 if device==\"cuda\" else -1),\n",
        "        'name': 'BART-Large-CNN'\n",
        "    }\n",
        "    print(\"\u2705 Loaded BART-Large-CNN.\")\n",
        "\n",
        "    # Model 4: Sentence Transformer (for Extractive Baseline)\n",
        "    MODELS['embedding'] = {\n",
        "        'model': SentenceTransformer('all-MiniLM-L6-v2', device=device),\n",
        "        'name': 'TextRank (Embeddings)'\n",
        "    }\n",
        "    print(\"\u2705 Loaded Sentence Transformer for TextRank.\")\n",
        "\n",
        "    print(\"\\n\ud83c\udf89 All models loaded successfully!\")\n",
        "except Exception as e:\n",
        "    print(f\"\ud83d\uded1 Error loading models: {e}. Please check your token and model access permissions.\")\n",
        "    exit()\n",
        "\n",
        "rouge_metric = evaluate.load(\"rouge\")"
      ],
      "metadata": {
        "colab": {
          "base_uri": "https://localhost:8080/",
          "height": 1000,
          "referenced_widgets": [
            "fde9139d8143441cb177441afce3178f",
            "f1b4fad0b7d144f29fbdaf55c8a10a52",
            "4e806565bffd4b6897cda50daacd2eaa",
            "82d5245ddb234bb08b70cd9128f2a11f",
            "c158c37dd43b47f49179eb9a4d47af7a",
            "d09d3e6c8cab4d438cf66b6894f4dc0e",
            "2db35498ff5c4b7da5b6807ffd5fe160",
            "46f7936346fb4705ae59c2ed35b69575",
            "252eb3ac985e402e9e4183e61e3ef5c7",
            "bc57157245e54971833d41aee023cbca",
            "3f7c0c40a0f44b4ba41553a4016c382c",
            "c2d338dbe01a41fb85d4feba26b01ad7",
            "1de3adbe4f2546f1bc08aff305e5f062",
            "7c4b37035b1a4c80b469ad31540bf95c",
            "292f16c143a34c07bd3599fe56d08463",
            "a7481f6025814cdd8e549569e08f2e9b",
            "f988b560b2de4f7cba9c79df905154f1",
            "3a45fd1ec24144c699c4f76b7fba9b70",
            "cf7df4f158274ab899665ac4288b48f1",
            "4a5d3fae74284c24849699fd191fae0e",
            "16cd87b4a3494ff5b28cc61977a19ee1",
            "84573e0fb73c45b7acc20d1ec1ae0006",
            "d258e08c206344b1b621719c4e3e1a03",
            "7cefe6ed4cdf496d841fd9c066ae9859",
            "06cbdf148cf1426cbad3571aa10040d8",
            "85b0aa91bf05431bb32af4e9614c4755",
            "c4064397966a48d6abaf578f2cfcc173",
            "6b688c812f2042ef96b9b642758e69f4",
            "ab3d7e271b6a4003857bb95114a63604",
            "18d43162991a4182956ba0061a5f8e30",
            "a9b68ac72fa246c0b5817148c36632c2",
            "f775b122d1b64c2291e056c129de031a",
            "d414550101374825a9a6dec486d346c2",
            "a32414801a184a2a9cad68d91f10da1c",
            "7f925bbe807142718f2f7667a4b4962f",
            "0ff5b49552844780a779d38f58a2f4a3",
            "5512852668bd495eb2b30d413f318a5b",
            "6414d86f664b4cdabf4fbed8efe2d3ae",
            "d0a1a52c3e6949438fb62c50f5cdede0",
            "9d0c16090c63403da444229f77ccb4d2",
            "fdbffa6d79ee4b1592a5d89810a23635",
            "4aca9213bd71448a9b87012d5d08f439",
            "b1d16c9c473b4749bb2a609188146169",
            "8ef939154a564bafb70fe849b6c1230c",
            "c486a349b371471984c4de995a402e86",
            "85ef96a36efe479dac35933295cd97cd",
            "d5cafe81995f4024b9641e84e6e60712",
            "aab18eeb571a4b75bae05926e92446b0",
            "425081ab746f47a4ba7b493a81760035",
            "4a591610a9c74e148d1d17f67fb607de",
            "7ca983fe17d0461ebd8e29a9470f3db6",
            "98ce2f984f1141f19b908dcc5896444d",
            "a70566bd4bc74b25813a3b3313c5e35a",
            "1490d60c80594a4fb2a11d5bd56a1939",
            "1b90240602e74d0bbc0cce6d5ca3b824",
            "cbfabce6a2ea4c3dad71d71b67523a7c",
            "339a581b5274446fb5f51a7402ef0c41",
            "2535d1bbb15d4fe9b9e8a32dd894c31d",
            "164166b06b574cc8be4e859e00784fe6",
            "b3db9d3675074fa6a87786ea8898817b",
            "f0e0afbeab224ee9b2865900d654903c",
            "d0de69b23b2d4ea6bc09c8a6a2642f7d",
            "46b024e7fa99434a829a9a37d3267548",
            "6b969566549a49c9ba42fb90a27921cb",
            "1f56e78830d64bbc8990028b8b98d1ac",
            "59bbea74b81a42789355a44adab9f73a",
            "7f18951c985a4969aa42d3a0ae6411e5",
            "43c9d53aff354107a765bbe867869c2d",
            "29b314956cef4b64a92dabf004554da5",
            "57894603311a44e29473548b805ba986",
            "191edadc62ca4f708ee2cebb61965f68",
            "7e498fc8a2424499b0059fa5fff1f5cc",
            "0639a7e8660c4618a00ff3eba5d052e2",
            "a0e2362e405142eb99a9ecfe9ba0b58d",
            "80cbc228b1bd476396e739b76230e7c3",
            "f89d4fe148a34700b940fb74a0697010",
            "aeb7a16e892240fe9d8ed434463dbfc3",
            "9c8e598454704ea797824bb6f34d61bb",
            "60c35d4dc88841ec8d6c0356a948daaf",
            "30282c3ee75c4691940ca9aeaa02d688",
            "6b869dcb4231414094cb949604ae4fcb",
            "978139ed55bb4ace80d44698ac58a362",
            "58507c01d92b4a72bc4a4b08b19d6f71",
            "28e8cd3dfe6f41f19aba9e21a57d211c",
            "8c2604c231424679aa3dc79d43b5ec34",
            "009d212b38b946d68e59c21671e9d381",
            "d14d4eb2ae514f3c970584e8e0eabd25",
            "2daf76a6a0e642b38b0013f59d48fff5",
            "7f39e949268a42be90a5dd917076e544",
            "39fdf31c240e49529c3eb0216cf93f6d",
            "0c06e49c07274ef49bbbed7f13f49413",
            "5209360866e44a4d92c363ff1a6bb1b7",
            "0d66f0b03f464885a31910587d402e69",
            "4798fe657de14717b9e022127af173dd",
            "5d957e08f99c403a875f8cdd45aad6fb",
            "b5ddb2738af446ac8aeef18159d3c19a",
            "1a927e3832ef433f9bb169c60ea9e7a7",
            "b8a718c5fbe54359a5dec0e549d0e378",
            "e435d127699e47b1bf3274a9e608988f",
            "d46a6b17d0ae411090fe3d903cfb907f",
            "629ef5cd70cf446c83bd6bdb8f35a649",
            "2bd9e09fa894409a82d9b6cdef8bf013",
            "dc7811d29a4b4fab8af914ef68e31da8",
            "ace83b424d3043b7b2b2bd0ab5d7775c",
            "28f6fe1a81d4489daec27a79418dd6e2",
            "d809118126444dd0a01150390d6f2f71",
            "e05dedbe45874b96b4cb41b8d5c8316e",
            "f63821c10598478a8232573fc4a9b182",
            "700018de5ff94eaa8581fb56c6080857",
            "d1ee92eb827547a2b21f343496c07646",
            "9cbc5dec3187464586ef8df879b96125",
            "f5f2c0d4a18a4ce1a34a271e2f6351e6",
            "dbe45513689f4abbbe1f8cc26de3eab6",
            "65b2c85c1bd742a09d24c9b834706edb",
            "2b614d4d55d345eeb6edcf390f8d58a9",
            "538f46c0dcbd4e73adc02d00a870fe24",
            "31263bcffb7d4bb2a90c7db14377d872",
            "d84e0a63c67f4ff6a8bb9058e69fa67e",
            "854a5add57134c2ba56a9241c83fb991",
            "719f5bc422974b68a226988961ca802b",
            "ded9015a27c74bb2a0963b239ebdb7a1",
            "7855955d517d4447ac1dba5e9acf6ad1",
            "c8a9efadb7b344af9942568d6bd98d94",
            "5e340e7435b34a0e9241bfa9ebf8692b",
            "f397f7c6b3ac49539951a7accddded7e",
            "9d0738366a7d4958bb98295ceac2c30e",
            "d37e1b602e094666bab6b8616edb5f2f",
            "ed8076ee1e254a7283a70575c90c3db5",
            "2a68d5592d35479a87ca9ab7e45215d1",
            "5e0a0ce47e504a26a64bc7bda0b38035",
            "a0ca8f88353142eda990ed202797c3f0",
            "1066ad3e87394b7794204ccbe43d7653",
            "5a9c45f349524a628b316acb23f2440e",
            "57013d2f598f400798712ac6a112f5e8",
            "b3df23c99ef14b73b4d3caacfae9d21d",
            "8e2d6e191c4144ce8add491257707fa7",
            "d99b9f90e1b945efb195bb37b0e357be",
            "e006e87069924e5f9021e7caab3d0cae",
            "d8923ba1d6e34fad83f99e20f65959f3",
            "65f6e87241c24988bc7f048693607b2e",
            "1d620ea51c0d4684917fe337b9734a76",
            "7a873d746004442cba239b56ba201946",
            "f0b275eee1d943ae93951d4aa1544366",
            "a825ea2a172e461cb7364831fa67df51",
            "ee916b9be7f646f288ffef7d3dd06d52",
            "a2637a795ef0491d95386560c6c13edd",
            "883079007841457292689f3fc7b93038",
            "4a65f6e33c264ee28685c887932ff0e5",
            "a63eb719415b44f288264f3e3a0f3d62",
            "e4805e190dfd428da7af777e06d0fb9e",
            "058d4dd94ad041469933bb20100e1506",
            "41def648d9444b4582de81c7a44d69c5",
            "4cc02a8ef323467cb519873774d59877",
            "700a0b9835754223a52c76b71a5b3192",
            "275097cdaf1547098a078ed9adb6eab7",
            "1283e1b735e54f598569832569cee037",
            "eb326da743d64b118359192ba6b8e2c4",
            "d4982863d91046ad82ae4b2ef1e8ae8d",
            "697e9f7ebefd412ea172d25ad108b71e",
            "470942371b164aa7acf1e3e8fd1cc04c",
            "a2deec39ec464dd895b7c0682d35936a",
            "d4530906020a4ad8b854acf92781aa5a",
            "41249fee282e4d408411a4fb14106698",
            "ea7a958d996246cab86f752df2bf5268",
            "2e2bfbc3a39f412685b63078115df09d",
            "df045d8b4f0f4cd087dd7a74ab8ead07",
            "7575c3adfe414c499843938f80ba6b90",
            "b296ef14265a4d11a84850a9b6ea48a3",
            "3dd2470ce13746da92ba65afaada9dec",
            "aefa356f5e9143d8a627eac5719da081",
            "1ed021da7707403dbd57c2cb1fa3ee12",
            "1374d1657af64a52ab3c39cb00050d34",
            "4a4463838ebb4b4091ac41c8b2f9264b",
            "d5efb3c6788a4f2ebc8c8068fea07575",
            "a58be4271d7e469a85eb6f6d77d45b56",
            "27881e3e864a46eebe628fa07df487c4",
            "f71f6913f7d946cfac14b8ee5f8160d4",
            "b9858ecfd025468a8a0f48ddc191b4b0",
            "204df2c8a0fc4536bc52c5a7cd8de0f4",
            "601d33f31397404a927ec1d46c75fd6b",
            "f5dc519d5de441f8a945d2276f968b7b",
            "1db8cf387f174b158105dea970efecb1",
            "d156fc24bea94513ae56ff0b109ad8ec",
            "d4de70ebb42e4e459870576534886138",
            "1d54a85ff5ea498eaa28f4c3206692d8",
            "2e445b5e857647e7b33f4d909cd8a7f6",
            "9386d4ec6bf34885addeedde85b48e0b",
            "89c2c7aa6f264505bc27e4496e9158df",
            "82207e1d0a6e48dba1ed9d271aeda959",
            "9c32b0098bcb4041b1b2f4a461b3fc3b",
            "6d45ea45ff494f798ce463af805987ae",
            "fcb0118056534864ab52661b9635b73f",
            "dace30f51d174b18a7b7843723e7e822",
            "8352c48280d04bc3a93c5236a1fab91c",
            "5934cb49a7d8494ba3473374b84f821c",
            "9df55a67e4454d79a48e0ffce41b4f4d",
            "69a3e80a9df04ed0b0136019ee4ddd0c",
            "e5ec884477604de3b75a72c672287994",
            "3e25fa122ac54a5b8144ba4ab1935dc0",
            "3f4dec0b03a34b338b164d82c84f9aba",
            "b551f799a51a40f2b4c869bd67e7d179",
            "4ba2f1275d7440baa1d9788cab3dc9e3",
            "100668b7e017496fa4029cefa2e37672",
            "ed2b0eff06f541f59100279bc2b283fb",
            "886d7e6cbf6e4e36880fc74753d3992a",
            "7f53724edc0545df953b35008e2edd67",
            "4099d2cbcffd4e15ae595f96a23f3e6b",
            "ee11ef582e314df59d23d5d2b7757347",
            "a39c40dae417470899c652756b1c5aa9",
            "72b2035c837f4fa38f7a80d5a9730edd",
            "d489ea40da744beaaf423f62da814a70",
            "7ee3b3182d9847829bbdb93be4aff807",
            "97fb94e03df141e395fa295c1bda0e2a",
            "0ce41c40052146c59f632e27d80261cc",
            "0184fb6b314f4d06918833f534da19fc",
            "9252bb7efbe14cfebbfd15714f1c8ec5",
            "31c5f0069900404e98be7dff2cfc7e7e",
            "43ed5662187c467799bf9beb1a373d26",
            "31ec4b15a32048629c2297f9f636db51",
            "3a0502ee6e0047ad9cc3bc078e4e0788",
            "35cd2612c05043f5ae3a41774b6bd575",
            "c202e1be54c4401081a9a359ade02937",
            "ef17a3d0c1104bc5a9bd889a60347d2d",
            "fd675055bab743269b407ab222655c06",
            "58c12fcaedeb4b6b9049f625f1e49f4e",
            "b17ccac5abc1480b84197187d1da1efb",
            "8f57ce5a576e4b9588707f1399df743d",
            "cc0f389f973b4ac98882f956d11534e9",
            "4e5d655b6bf74e59b8b3cd8c845f8858",
            "89a37000e53e4e2bbcf7e9687f480117",
            "ba62bed176c14e9eb850e681bf8dcb23",
            "d858dbab7e554f6eae77023d92633da2",
            "d86ccaa647304ed2babdda429a3e5570",
            "bdca1939fde247bda933373138c2bbbd",
            "05a6793eedae4c638e1eba91a4188cae",
            "7fd64514d348437792dedbe46547ec0b",
            "86aba60fe9b9461d8aca497ed3cc2229",
            "a5448424a7734f8888382a201f52b476",
            "f8236149a55b45219b6f0e5d0e499e3b",
            "37df018a6e9644fba7734b46ad3f48b0",
            "35beaeb6274e40adbd5a185bb0001ea5",
            "64b5726b2894460d846278046353e062",
            "f27635cdaef84bdbab455dd5289c81ea",
            "60d89641ed41475086a862d80fc498b5",
            "039085470d264d52b6558cc6aa6efd8d",
            "86ebead835ce4d3695a32bc50385a417",
            "23546b1fc4c94f3b8ddc7904ea5aa3df",
            "a984fca0266f456f8078722ec5f4d852",
            "ee130dcd71304752a8452976237829f6",
            "8d2e7ab5da25498da515311b1afd0303",
            "272c8af653c8433c8baea2d060da7ef1",
            "1ca031a17a7541dfa5c624787e049164",
            "514c498bfebe4bf09b7402c24f45bf7d",
            "bddbae8d95074e7aa6fc0f0413cd35f3",
            "2aaeadfc5e5d4cc491f39815666aebf1",
            "db6afff12bb94faf8a4eb7f1db7918af",
            "3bc511eee5c34c06bd742fabeaf7655c",
            "23cd3d6f57f24621bc0f162bdfb490c8",
            "0d0fbba52bca415397c190780fe3ff40",
            "01389b6fea8f4678a985966d2bdaa145",
            "4dc7448a6448492c8e320de00e4432f9",
            "e4db8e7593e54a4589e5a159f11247c7",
            "3b203025e2704d95920e7f5060bf4fc7",
            "b8966fbbb26341b3a5b9af4953abddbd",
            "85d5bf0c5598462dbc647a7152168d60",
            "3f3143d7c67946d587af5203cc71d84f",
            "408677067f124561b66e6df18bb023ea",
            "e77817077d4f4e898a89b2d91077a39a",
            "c6af1b1b43a944fcae4470318e685f9c",
            "53cd738caa7e47a68b922e1e1348a716",
            "c5475bf411fa4513a31baf4678eb38ca",
            "33b958927507418e933677cebc07d532",
            "4a441a19534c485cb2ab98e16cd1b97e",
            "737b8ea6cc664b298bc5e15fe2298897",
            "c5672f8d5c7542c09cd01e08f21cee93",
            "4df68fad5b6b4178b706fe1e4fefa34f",
            "1637e5d1bc0d439eb425ee7542dbeed6",
            "7c6ab5cb316a4fed91d65a231bca3469",
            "8077d34f1a574650b1222863a4af1997",
            "27f02414a56c44f99c2a2685531c0fdc",
            "dc9c7503524e4c96984e9118363a1ff6",
            "130bb1baf5894514a75422fe7154442b",
            "1b2e6c8a90ea4bf6bb42d8f65e834100",
            "5334525131b7477f887712fffefafbca",
            "b4772d996fd44119830b71c89ecd0a35",
            "64f3d4fe8ab448f5bc3cd597b061d4b4",
            "d4038dd26db94b0f8b77eb79fcf9e1fc",
            "752eacae83d54a8bb1fac700eb13f97b",
            "078b3e9dafcd455b896ad6688da2e2e9",
            "926abf4380a84a5687f5bc9528b11bf2",
            "f53ed0090e5949adaf9a8b96436bc289",
            "f2ec1dd981414d5da67e56ab1a870895",
            "53ab8c61a94a4206901ba6474f09e579",
            "f162f72fcb60421a86e40f637e67449e",
            "2368d56890e24dada0b12cb760becbde",
            "e13eee33a763484e863637633d91fd68",
            "2d34561bde5c432fb77a3c31dd0cc926",
            "07c0673c3cd040dbae70348a483953f1",
            "48e4c39ac7cd45fea31a6e17e8314588",
            "faeed13e94764251a20d4263d18777b9",
            "e20dbf514e1b4d0f825c5c5d8b8690c2",
            "e3f05d501aa743bd9aa39238ff841c22",
            "c3a36bc5803046f08d5759e6044a3a88",
            "ae47c47e500e482db683523877c4885e",
            "442b138ecd0b4c4ca1973b4bf7264414",
            "5c73e36c83f7469ba2b52ec20433e788",
            "d03b949f98a44e34b33bc7c6837d5fd7",
            "011f14f6c14245a4ac4e5a2a37958f5d",
            "3b4d61ffe9fe4a77a573a8c640e0ce25",
            "4694916dc13f4e4daee1e284cb218aeb",
            "5e1f8c24586048e3ad6c15da03bc8332",
            "9078597a18744e62bba6e6eceafb4d5a",
            "ba34535b0a2046a7a41c6b7f919a16ca",
            "cf62be4997414a3fb5c929a49a11839c",
            "5f2e9d3e850c47e1adc1d9d8ee8a3fb2",
            "c20d6080f88940a184b111b2cee303ca",
            "0330af93896f4cbdb80bc656063249ff",
            "3d1e567fdd2047ed9799e77c1378e720",
            "7c9fd3aaf9484b6bb1aa91a423a55029",
            "303248f3a2af4b1c85c5452d5d4234f7",
            "13389fc9804546c88cc79e37b2f37062",
            "baba87881bec41ec9edd473a8a77bf74",
            "f87bfdee49534b2b92d24f559ede8810",
            "292cfc92fe4943c1b03b80d2c2113ee9",
            "7f1390afd31b4a71b00d5bd50611a0d7",
            "ef527480c1fc48c285478084afb9f315",
            "0c66bd063eeb435591461d7572703b7a",
            "3945e49c6a944495b7f792acbcbb02d5",
            "b813bcbd584e47279e70d26310c75b03",
            "a69044a3604249bc832a50ccc50eabaf",
            "2000d057e31f4675b4a6e696455b0025",
            "e37667d521ec4faea171e572cd484647",
            "55a57febc5214e378b888d82cfd09471",
            "869ec33c76b14e8e9c76d9a56a02d73d",
            "67d99b1d4489421c90a68a838fc7accc",
            "2e98c9ca7d324c0cb00c65d5984eecab",
            "aef1b1cba71a4647b79ce0bcef22c12a",
            "868734a0d53d48b1a64e1d59c14ca107",
            "da65fa7fc1454fa19d77908a2cbcbb2f",
            "c56940c9ad654d13b1cdea4129e8742b",
            "f2a1c9734ff84dc0837ce7efd67aa1ec",
            "bac9b500d173413c9d9d6e8683b4bfc4",
            "035e47f525ab462f930bb7992c005273",
            "83b1adeb8c1e482186ccb9cc7052ed38",
            "203888fc8a20428a9eb0ed02542a1267",
            "f71e5c1b7fd2476a89198e605ab427c6",
            "bafae44107b14b8c91e9eda38be54077",
            "d06984f40ced4de393ae7d2f981d1ef9",
            "6fc01af3c28a442dbe484bdb56c7638c",
            "5ed5dd8e457d425ea846c783e314d241",
            "146c0fc420a943a58984185744015e25",
            "b7b0e76ce0384f5e8725c4375fcbb909",
            "16346b04846e4bd892d02dc4ed80e639",
            "d178750fb4364c17af252d082872c19f",
            "11367779546b4fffb5442a9552fd99b9",
            "7542e88230db40aeaf1f6e69445df491",
            "a72bf192de52430d8ba1e3b4ec13a21a",
            "fa2e2fa2f30d4499b9882d24cf8b3faa",
            "dd9e714860ea4c8381dbf42f4e88ef45",
            "bf7b9efd3879481e8453618e83f027a7",
            "c1a27067578f442285126522a2a29fda",
            "a10751677d9c43fb8127a23ef70fe403",
            "1851ad41ed3946e7b5ee9beea5bb259d",
            "d68b5759e5f34b248b77a47b5b7b187c",
            "b1459eec06d14e44bad764132dff8ca1",
            "6eb7252304e049acbd8495f5efc2fa74",
            "5b58a3f524f34bc4ba51252785f185d9",
            "afab708ddb5f48a9b51ffad126046efe",
            "aeba8ca11c0a4e398f924fbcc63c68a2",
            "ac8402b31e7b483da8e30de3a89363d4",
            "feec261b344047a2b7baf24982a0b42c",
            "aefaccdcab39436ab272327f73004317",
            "2351a8da1c544689b8500df990561b97",
            "72a3360974d54325ae48a2705f49fc7a"
          ]
        },
        "id": "8gS1IIRJugAG",
        "outputId": "288a73ce-5396-4fc7-dea6-e9719cb8a957"
      },
      "execution_count": 14,
      "outputs": [
        {
          "output_type": "stream",
          "name": "stdout",
          "text": [
            "Loading small, fast models... This should be quicker now. \u23f3\n",
            "Using device: cuda\n"
          ]
        },
        {
          "output_type": "display_data",
          "data": {
            "text/plain": [
              "tokenizer_config.json: 0.00B [00:00, ?B/s]"
            ],
            "application/vnd.jupyter.widget-view+json": {
              "version_major": 2,
              "version_minor": 0,
              "model_id": "fde9139d8143441cb177441afce3178f"
            }
          },
          "metadata": {}
        },
        {
          "output_type": "display_data",
          "data": {
            "text/plain": [
              "tokenizer.model:   0%|          | 0.00/500k [00:00<?, ?B/s]"
            ],
            "application/vnd.jupyter.widget-view+json": {
              "version_major": 2,
              "version_minor": 0,
              "model_id": "c2d338dbe01a41fb85d4feba26b01ad7"
            }
          },
          "metadata": {}
        },
        {
          "output_type": "display_data",
          "data": {
            "text/plain": [
              "tokenizer.json: 0.00B [00:00, ?B/s]"
            ],
            "application/vnd.jupyter.widget-view+json": {
              "version_major": 2,
              "version_minor": 0,
              "model_id": "d258e08c206344b1b621719c4e3e1a03"
            }
          },
          "metadata": {}
        },
        {
          "output_type": "display_data",
          "data": {
            "text/plain": [
              "special_tokens_map.json:   0%|          | 0.00/551 [00:00<?, ?B/s]"
            ],
            "application/vnd.jupyter.widget-view+json": {
              "version_major": 2,
              "version_minor": 0,
              "model_id": "a32414801a184a2a9cad68d91f10da1c"
            }
          },
          "metadata": {}
        },
        {
          "output_type": "display_data",
          "data": {
            "text/plain": [
              "config.json:   0%|          | 0.00/608 [00:00<?, ?B/s]"
            ],
            "application/vnd.jupyter.widget-view+json": {
              "version_major": 2,
              "version_minor": 0,
              "model_id": "c486a349b371471984c4de995a402e86"
            }
          },
          "metadata": {}
        },
        {
          "output_type": "stream",
          "name": "stderr",
          "text": [
            "`torch_dtype` is deprecated! Use `dtype` instead!\n"
          ]
        },
        {
          "output_type": "display_data",
          "data": {
            "text/plain": [
              "model.safetensors:   0%|          | 0.00/2.20G [00:00<?, ?B/s]"
            ],
            "application/vnd.jupyter.widget-view+json": {
              "version_major": 2,
              "version_minor": 0,
              "model_id": "cbfabce6a2ea4c3dad71d71b67523a7c"
            }
          },
          "metadata": {}
        },
        {
          "output_type": "display_data",
          "data": {
            "text/plain": [
              "generation_config.json:   0%|          | 0.00/124 [00:00<?, ?B/s]"
            ],
            "application/vnd.jupyter.widget-view+json": {
              "version_major": 2,
              "version_minor": 0,
              "model_id": "7f18951c985a4969aa42d3a0ae6411e5"
            }
          },
          "metadata": {}
        },
        {
          "output_type": "stream",
          "name": "stdout",
          "text": [
            "\u2705 Loaded TinyLlama-1.1B-Chat.\n"
          ]
        },
        {
          "output_type": "display_data",
          "data": {
            "text/plain": [
              "tokenizer_config.json:   0%|          | 0.00/237 [00:00<?, ?B/s]"
            ],
            "application/vnd.jupyter.widget-view+json": {
              "version_major": 2,
              "version_minor": 0,
              "model_id": "9c8e598454704ea797824bb6f34d61bb"
            }
          },
          "metadata": {}
        },
        {
          "output_type": "display_data",
          "data": {
            "text/plain": [
              "vocab.json: 0.00B [00:00, ?B/s]"
            ],
            "application/vnd.jupyter.widget-view+json": {
              "version_major": 2,
              "version_minor": 0,
              "model_id": "7f39e949268a42be90a5dd917076e544"
            }
          },
          "metadata": {}
        },
        {
          "output_type": "display_data",
          "data": {
            "text/plain": [
              "merges.txt: 0.00B [00:00, ?B/s]"
            ],
            "application/vnd.jupyter.widget-view+json": {
              "version_major": 2,
              "version_minor": 0,
              "model_id": "d46a6b17d0ae411090fe3d903cfb907f"
            }
          },
          "metadata": {}
        },
        {
          "output_type": "display_data",
          "data": {
            "text/plain": [
              "tokenizer.json: 0.00B [00:00, ?B/s]"
            ],
            "application/vnd.jupyter.widget-view+json": {
              "version_major": 2,
              "version_minor": 0,
              "model_id": "9cbc5dec3187464586ef8df879b96125"
            }
          },
          "metadata": {}
        },
        {
          "output_type": "display_data",
          "data": {
            "text/plain": [
              "added_tokens.json: 0.00B [00:00, ?B/s]"
            ],
            "application/vnd.jupyter.widget-view+json": {
              "version_major": 2,
              "version_minor": 0,
              "model_id": "7855955d517d4447ac1dba5e9acf6ad1"
            }
          },
          "metadata": {}
        },
        {
          "output_type": "display_data",
          "data": {
            "text/plain": [
              "special_tokens_map.json:   0%|          | 0.00/99.0 [00:00<?, ?B/s]"
            ],
            "application/vnd.jupyter.widget-view+json": {
              "version_major": 2,
              "version_minor": 0,
              "model_id": "5a9c45f349524a628b316acb23f2440e"
            }
          },
          "metadata": {}
        },
        {
          "output_type": "display_data",
          "data": {
            "text/plain": [
              "config.json:   0%|          | 0.00/736 [00:00<?, ?B/s]"
            ],
            "application/vnd.jupyter.widget-view+json": {
              "version_major": 2,
              "version_minor": 0,
              "model_id": "a825ea2a172e461cb7364831fa67df51"
            }
          },
          "metadata": {}
        },
        {
          "output_type": "display_data",
          "data": {
            "text/plain": [
              "model.safetensors:   0%|          | 0.00/2.84G [00:00<?, ?B/s]"
            ],
            "application/vnd.jupyter.widget-view+json": {
              "version_major": 2,
              "version_minor": 0,
              "model_id": "275097cdaf1547098a078ed9adb6eab7"
            }
          },
          "metadata": {}
        },
        {
          "output_type": "display_data",
          "data": {
            "text/plain": [
              "generation_config.json:   0%|          | 0.00/74.0 [00:00<?, ?B/s]"
            ],
            "application/vnd.jupyter.widget-view+json": {
              "version_major": 2,
              "version_minor": 0,
              "model_id": "df045d8b4f0f4cd087dd7a74ab8ead07"
            }
          },
          "metadata": {}
        },
        {
          "output_type": "stream",
          "name": "stdout",
          "text": [
            "\u2705 Loaded Phi-1.5.\n"
          ]
        },
        {
          "output_type": "display_data",
          "data": {
            "text/plain": [
              "config.json: 0.00B [00:00, ?B/s]"
            ],
            "application/vnd.jupyter.widget-view+json": {
              "version_major": 2,
              "version_minor": 0,
              "model_id": "f71f6913f7d946cfac14b8ee5f8160d4"
            }
          },
          "metadata": {}
        },
        {
          "output_type": "display_data",
          "data": {
            "text/plain": [
              "model.safetensors:   0%|          | 0.00/1.63G [00:00<?, ?B/s]"
            ],
            "application/vnd.jupyter.widget-view+json": {
              "version_major": 2,
              "version_minor": 0,
              "model_id": "89c2c7aa6f264505bc27e4496e9158df"
            }
          },
          "metadata": {}
        },
        {
          "output_type": "display_data",
          "data": {
            "text/plain": [
              "generation_config.json:   0%|          | 0.00/363 [00:00<?, ?B/s]"
            ],
            "application/vnd.jupyter.widget-view+json": {
              "version_major": 2,
              "version_minor": 0,
              "model_id": "3e25fa122ac54a5b8144ba4ab1935dc0"
            }
          },
          "metadata": {}
        },
        {
          "output_type": "display_data",
          "data": {
            "text/plain": [
              "vocab.json: 0.00B [00:00, ?B/s]"
            ],
            "application/vnd.jupyter.widget-view+json": {
              "version_major": 2,
              "version_minor": 0,
              "model_id": "72b2035c837f4fa38f7a80d5a9730edd"
            }
          },
          "metadata": {}
        },
        {
          "output_type": "display_data",
          "data": {
            "text/plain": [
              "merges.txt: 0.00B [00:00, ?B/s]"
            ],
            "application/vnd.jupyter.widget-view+json": {
              "version_major": 2,
              "version_minor": 0,
              "model_id": "35cd2612c05043f5ae3a41774b6bd575"
            }
          },
          "metadata": {}
        },
        {
          "output_type": "display_data",
          "data": {
            "text/plain": [
              "tokenizer.json: 0.00B [00:00, ?B/s]"
            ],
            "application/vnd.jupyter.widget-view+json": {
              "version_major": 2,
              "version_minor": 0,
              "model_id": "d858dbab7e554f6eae77023d92633da2"
            }
          },
          "metadata": {}
        },
        {
          "output_type": "stream",
          "name": "stderr",
          "text": [
            "Device set to use cuda:0\n"
          ]
        },
        {
          "output_type": "stream",
          "name": "stdout",
          "text": [
            "\u2705 Loaded BART-Large-CNN.\n"
          ]
        },
        {
          "output_type": "display_data",
          "data": {
            "text/plain": [
              "modules.json:   0%|          | 0.00/349 [00:00<?, ?B/s]"
            ],
            "application/vnd.jupyter.widget-view+json": {
              "version_major": 2,
              "version_minor": 0,
              "model_id": "f27635cdaef84bdbab455dd5289c81ea"
            }
          },
          "metadata": {}
        },
        {
          "output_type": "display_data",
          "data": {
            "text/plain": [
              "config_sentence_transformers.json:   0%|          | 0.00/116 [00:00<?, ?B/s]"
            ],
            "application/vnd.jupyter.widget-view+json": {
              "version_major": 2,
              "version_minor": 0,
              "model_id": "bddbae8d95074e7aa6fc0f0413cd35f3"
            }
          },
          "metadata": {}
        },
        {
          "output_type": "display_data",
          "data": {
            "text/plain": [
              "README.md: 0.00B [00:00, ?B/s]"
            ],
            "application/vnd.jupyter.widget-view+json": {
              "version_major": 2,
              "version_minor": 0,
              "model_id": "85d5bf0c5598462dbc647a7152168d60"
            }
          },
          "metadata": {}
        },
        {
          "output_type": "display_data",
          "data": {
            "text/plain": [
              "sentence_bert_config.json:   0%|          | 0.00/53.0 [00:00<?, ?B/s]"
            ],
            "application/vnd.jupyter.widget-view+json": {
              "version_major": 2,
              "version_minor": 0,
              "model_id": "4df68fad5b6b4178b706fe1e4fefa34f"
            }
          },
          "metadata": {}
        },
        {
          "output_type": "display_data",
          "data": {
            "text/plain": [
              "config.json:   0%|          | 0.00/612 [00:00<?, ?B/s]"
            ],
            "application/vnd.jupyter.widget-view+json": {
              "version_major": 2,
              "version_minor": 0,
              "model_id": "d4038dd26db94b0f8b77eb79fcf9e1fc"
            }
          },
          "metadata": {}
        },
        {
          "output_type": "display_data",
          "data": {
            "text/plain": [
              "model.safetensors:   0%|          | 0.00/90.9M [00:00<?, ?B/s]"
            ],
            "application/vnd.jupyter.widget-view+json": {
              "version_major": 2,
              "version_minor": 0,
              "model_id": "07c0673c3cd040dbae70348a483953f1"
            }
          },
          "metadata": {}
        },
        {
          "output_type": "display_data",
          "data": {
            "text/plain": [
              "tokenizer_config.json:   0%|          | 0.00/350 [00:00<?, ?B/s]"
            ],
            "application/vnd.jupyter.widget-view+json": {
              "version_major": 2,
              "version_minor": 0,
              "model_id": "3b4d61ffe9fe4a77a573a8c640e0ce25"
            }
          },
          "metadata": {}
        },
        {
          "output_type": "display_data",
          "data": {
            "text/plain": [
              "vocab.txt: 0.00B [00:00, ?B/s]"
            ],
            "application/vnd.jupyter.widget-view+json": {
              "version_major": 2,
              "version_minor": 0,
              "model_id": "303248f3a2af4b1c85c5452d5d4234f7"
            }
          },
          "metadata": {}
        },
        {
          "output_type": "display_data",
          "data": {
            "text/plain": [
              "tokenizer.json: 0.00B [00:00, ?B/s]"
            ],
            "application/vnd.jupyter.widget-view+json": {
              "version_major": 2,
              "version_minor": 0,
              "model_id": "2000d057e31f4675b4a6e696455b0025"
            }
          },
          "metadata": {}
        },
        {
          "output_type": "display_data",
          "data": {
            "text/plain": [
              "special_tokens_map.json:   0%|          | 0.00/112 [00:00<?, ?B/s]"
            ],
            "application/vnd.jupyter.widget-view+json": {
              "version_major": 2,
              "version_minor": 0,
              "model_id": "bac9b500d173413c9d9d6e8683b4bfc4"
            }
          },
          "metadata": {}
        },
        {
          "output_type": "display_data",
          "data": {
            "text/plain": [
              "config.json:   0%|          | 0.00/190 [00:00<?, ?B/s]"
            ],
            "application/vnd.jupyter.widget-view+json": {
              "version_major": 2,
              "version_minor": 0,
              "model_id": "16346b04846e4bd892d02dc4ed80e639"
            }
          },
          "metadata": {}
        },
        {
          "output_type": "stream",
          "name": "stdout",
          "text": [
            "\u2705 Loaded Sentence Transformer for TextRank.\n",
            "\n",
            "\ud83c\udf89 All models loaded successfully!\n"
          ]
        },
        {
          "output_type": "display_data",
          "data": {
            "text/plain": [
              "Downloading builder script: 0.00B [00:00, ?B/s]"
            ],
            "application/vnd.jupyter.widget-view+json": {
              "version_major": 2,
              "version_minor": 0,
              "model_id": "d68b5759e5f34b248b77a47b5b7b187c"
            }
          },
          "metadata": {}
        }
      ]
    },
    {
      "cell_type": "code",
      "source": [
        "import os\n",
        "from transformers import AutoTokenizer, AutoModelForCausalLM\n",
        "\n",
        "HF_TOKEN = os.getenv(\"HF_TOKEN\")\n",
        "\n",
        "model_id_gemma = \"google/gemma-2b-it\"\n",
        "\n",
        "tokenizer_gemma = AutoTokenizer.from_pretrained(\n",
        "    model_id_gemma,\n",
        "    token=HF_TOKEN\n",
        ")\n",
        "\n",
        "model_gemma = AutoModelForCausalLM.from_pretrained(\n",
        "    model_id_gemma,\n",
        "    torch_dtype=torch.bfloat16,\n",
        "    device_map=\"auto\",\n",
        "    token=HF_TOKEN\n",
        ")\n",
        "\n",
        "MODELS = {}\n",
        "MODELS[\"gemma\"] = {\n",
        "    \"tokenizer\": tokenizer_gemma,\n",
        "    \"model\": model_gemma,\n",
        "    \"name\": \"Gemma-2B-IT\"\n",
        "}\n"
      ],
      "metadata": {
        "colab": {
          "base_uri": "https://localhost:8080/",
          "height": 241,
          "referenced_widgets": [
            "726b5689d79e4fb98abd24582765e923",
            "97221486adbb457e8121fc0d3acfcb5a",
            "8970600f2afb43aa8d501c2403718430",
            "0efa18a8274b40f7b37b79deb537b766",
            "9d55a6355eee4b1f8f27cb39f5f81a14",
            "7804624925d24302b3b417dced91b631",
            "86255296d19d4db88ab7a2d318f1c25b",
            "5ca8d0bfecc6496fb30676f6fa4f032b",
            "92a079c04b5c4913accaf38c7fd74726",
            "3c42f84083bd46429cde0aa72e1dfb06",
            "037105ba657e477d9ec6006baf172fe0",
            "258535bb90f34169b14110cef097dffb",
            "1b8a7a95abdc4b5999bcfd98fc612e50",
            "22cb8dc0d281409f92f9664da76378ff",
            "30cf406004a0442397ddf79b1673f656",
            "874b0c2579a3412d8407f5931c837ea4",
            "4c822818800d420ea5d4753669d28bea",
            "2c3842caa05746fc8bdfc63da97be663",
            "73082fcb6f3f4575a41e3bce4dd7e70b",
            "0fceff82c9344321aa1b1bd1679a05f5",
            "f05565b0177741138df7f8da4c28c0db",
            "12e8374be27741b48da1fbd9c844008e",
            "5abfa4bf428645f59c666538abbc080e",
            "633f17935d7746f0a757ed4e6c80fe5e",
            "9843d99444d64c9898f369af8dd7b205",
            "b97727803b6547fd9b7f2cb8711f304c",
            "e5c8f0dd42664cc2b3ef278d48e1f133",
            "3c997543b55a43e8b618f1cb94b37495",
            "302928416cf34fd78ed4e44913fe2d53",
            "aee83489a4234d5caab37ea822a93748",
            "19da9e0e3f4144a0b5bcbac1a0b749b6",
            "0a8003e08478493eb01fdc966de56c1f",
            "59b8fabb92da46598d2d7c24123295eb",
            "e2e66c738dd3404894488e7e7bd0e6ad",
            "6c8315e3db4d4b7fb6de61770ee00ee5",
            "bd3238ec41bb4b348711bc2851a18000",
            "e109542f5db541cd94177c8f9ef616d7",
            "7a26a3dd6e264cb7b2bc9b79ec35e79f",
            "de8c567dc98840d1bb168fc537ef3fdf",
            "4fd1cc4cb8034d06b54456fad89c0111",
            "575cb70b67ff42b0a0a1e5165fa3dcb7",
            "6f799a816e914bfe8a0a0287c99aaf0b",
            "0b2d5fff60aa4b18bfdfb1dd0991d1e0",
            "69ca59b9473c472ab804a0ec60bb0a39",
            "ae6149552e474c0a9edb6185e99121b3",
            "0fcaaf55f52f42f7bb17be849662957b",
            "8e3a55105b7d4c42ab51b29fcefa02e6",
            "75e613cda0d6497eabe6ae4e6af7ba2a",
            "a6a1e62af76b45d0b5883cc402d1fdc9",
            "40d2cd9159814db7b92f8c4c68c2b508",
            "637e8f6e6bc542de81fbf1039abf9daa",
            "3e6e8affc61d4d4ebdf28d74492ceabd",
            "920f256e036c4f6390664c3becb8b489",
            "d08a1fc210fd4791907b33735b04113d",
            "dcb6d8f6385241cba32cdd7040f9358f",
            "85827259aa274c94a6cc1ab3748c7816",
            "c1d3e23a02b9486b9f5f0a221900d0aa",
            "d9831f7235cc49c4a165c709cf4640c8",
            "3d22be51f17f4897a08f9a086b372808",
            "558ff3dd8f8344aa81f2cc663c84cdb8",
            "1a1e68e70e4c4156af33dc7401ff938c",
            "845e3afccada44079f0a21a0003c0212",
            "d494460ed4594997bf506c065c67990a",
            "cb4bbf3ea70041b8978c014f7bf21b14",
            "f446370fac6d4ddfbe66c0fdbf8eb6c8",
            "790afdae51074a2da465647f25d6bfd1",
            "1905e6797988451b859a6ba184de733c",
            "76d3ae28124840c3988993249ad51679",
            "a6d2abb8b74941ea978740e158db8194",
            "1544158778324658956b75cf416ee77e",
            "7f8d0ca9b4c6463abd50c3bc0834626a",
            "abf33ac7abf64bbfb26e6d64d6360374",
            "196069a7cec84459bf2f2af64c257435",
            "77c20bedac9741788cdf774beb56a2b1",
            "0ab7f451aa994361904d008842add155",
            "2643349da01e4e48a0053b334546a9c3",
            "410eb8e719714e67ba7b7f117c093713"
          ]
        },
        "id": "Ov7ahvthIp3U",
        "outputId": "c190a04d-2622-422f-d119-4d95539f1f5c"
      },
      "execution_count": 15,
      "outputs": [
        {
          "output_type": "display_data",
          "data": {
            "text/plain": [
              "config.json:   0%|          | 0.00/627 [00:00<?, ?B/s]"
            ],
            "application/vnd.jupyter.widget-view+json": {
              "version_major": 2,
              "version_minor": 0,
              "model_id": "726b5689d79e4fb98abd24582765e923"
            }
          },
          "metadata": {}
        },
        {
          "output_type": "display_data",
          "data": {
            "text/plain": [
              "model.safetensors.index.json:   0%|          | 0.00/13.5k [00:00<?, ?B/s]"
            ],
            "application/vnd.jupyter.widget-view+json": {
              "version_major": 2,
              "version_minor": 0,
              "model_id": "258535bb90f34169b14110cef097dffb"
            }
          },
          "metadata": {}
        },
        {
          "output_type": "display_data",
          "data": {
            "text/plain": [
              "Fetching 2 files:   0%|          | 0/2 [00:00<?, ?it/s]"
            ],
            "application/vnd.jupyter.widget-view+json": {
              "version_major": 2,
              "version_minor": 0,
              "model_id": "5abfa4bf428645f59c666538abbc080e"
            }
          },
          "metadata": {}
        },
        {
          "output_type": "display_data",
          "data": {
            "text/plain": [
              "model-00002-of-00002.safetensors:   0%|          | 0.00/67.1M [00:00<?, ?B/s]"
            ],
            "application/vnd.jupyter.widget-view+json": {
              "version_major": 2,
              "version_minor": 0,
              "model_id": "e2e66c738dd3404894488e7e7bd0e6ad"
            }
          },
          "metadata": {}
        },
        {
          "output_type": "display_data",
          "data": {
            "text/plain": [
              "model-00001-of-00002.safetensors:   0%|          | 0.00/4.95G [00:00<?, ?B/s]"
            ],
            "application/vnd.jupyter.widget-view+json": {
              "version_major": 2,
              "version_minor": 0,
              "model_id": "ae6149552e474c0a9edb6185e99121b3"
            }
          },
          "metadata": {}
        },
        {
          "output_type": "display_data",
          "data": {
            "text/plain": [
              "Loading checkpoint shards:   0%|          | 0/2 [00:00<?, ?it/s]"
            ],
            "application/vnd.jupyter.widget-view+json": {
              "version_major": 2,
              "version_minor": 0,
              "model_id": "85827259aa274c94a6cc1ab3748c7816"
            }
          },
          "metadata": {}
        },
        {
          "output_type": "display_data",
          "data": {
            "text/plain": [
              "generation_config.json:   0%|          | 0.00/137 [00:00<?, ?B/s]"
            ],
            "application/vnd.jupyter.widget-view+json": {
              "version_major": 2,
              "version_minor": 0,
              "model_id": "1905e6797988451b859a6ba184de733c"
            }
          },
          "metadata": {}
        }
      ]
    },
    {
      "cell_type": "markdown",
      "source": [
        "## 4: Define Shared Backend Logic\n",
        "This cell contains all the shared helper functions for processing text, running models, calculating the enhanced metrics, and creating plots. Both UIs will use these functions.\n",
        "\n"
      ],
      "metadata": {
        "id": "XexH3cbMuj5Y"
      }
    },
    {
      "cell_type": "code",
      "source": [
        "# --- 2. SHARED BACKEND LOGIC ---\n",
        "\n",
        "# --- Model Inference ---\n",
        "def generate_with_chat_template_model(model_key, prompt, max_new_tokens=250):\n",
        "    \"\"\"Handles models like TinyLlama that use a chat template.\"\"\"\n",
        "    tokenizer = MODELS[model_key]['tokenizer']\n",
        "    model = MODELS[model_key]['model']\n",
        "    chat = [{\"role\": \"user\", \"content\": prompt}]\n",
        "    formatted_prompt = tokenizer.apply_chat_template(chat, tokenize=False, add_generation_prompt=True)\n",
        "    inputs = tokenizer.encode(formatted_prompt, add_special_tokens=False, return_tensors=\"pt\").to(model.device)\n",
        "    outputs = model.generate(input_ids=inputs, max_new_tokens=max_new_tokens)\n",
        "    return tokenizer.decode(outputs[0][len(inputs[0]):], skip_special_tokens=True)\n",
        "\n",
        "def generate_with_instruct_model(model_key, prompt, max_new_tokens=250):\n",
        "    \"\"\"Handles models like Phi that use a simple instruction format.\"\"\"\n",
        "    tokenizer = MODELS[model_key]['tokenizer']\n",
        "    model = MODELS[model_key]['model']\n",
        "    inputs = tokenizer(prompt, return_tensors=\"pt\", return_attention_mask=False).to(model.device)\n",
        "    outputs = model.generate(**inputs, max_length=len(inputs[\"input_ids\"][0]) + max_new_tokens)\n",
        "    # Use split to robustly get the content after 'Output:'\n",
        "    decoded_output = tokenizer.batch_decode(outputs)[0]\n",
        "    if \"Output:\" in decoded_output:\n",
        "        return decoded_output.split(\"Output:\")[1].strip()\n",
        "    return decoded_output # Fallback if format is unexpected\n",
        "\n",
        "def summarize_abstractive(text, model_key, max_len=200, min_len=50):\n",
        "    if model_key == 'tinyllama':\n",
        "        prompt = f\"Provide a concise, abstractive summary of the following text:\\n\\n{text[:2000]}\"\n",
        "        return generate_with_chat_template_model(model_key, prompt, max_new_tokens=max_len)\n",
        "    elif model_key == 'phi':\n",
        "        prompt = f\"Instruct: Summarize the following text concisely.\\n{text[:2000]}\\nOutput:\"\n",
        "        return generate_with_instruct_model(model_key, prompt, max_new_tokens=max_len)\n",
        "    elif model_key == 'bart':\n",
        "        return MODELS['bart']['summarizer'](text[:4096], max_length=max_len, min_length=min_len, do_sample=False)[0]['summary_text']\n",
        "    return \"Unsupported model.\"\n",
        "\n",
        "def summarize_extractive(text, model_key, num_sentences=5):\n",
        "    if model_key == 'tinyllama':\n",
        "        prompt = f\"\"\"Your task is extractive summarization. From the text below, extract the {num_sentences} most crucial sentences verbatim.\\n\\n{text[:2000]}\"\"\"\n",
        "        return generate_with_chat_template_model(model_key, prompt, max_new_tokens=250)\n",
        "    elif model_key == 'phi':\n",
        "        prompt = f\"Instruct: Extract the {num_sentences} most important sentences verbatim from the following text.\\n{text[:2000]}\\nOutput:\"\n",
        "        return generate_with_instruct_model(model_key, prompt, max_new_tokens=250)\n",
        "    elif model_key == 'embedding':\n",
        "        try:\n",
        "            sentences = nltk.sent_tokenize(text)\n",
        "            if len(sentences) <= num_sentences: return \"\\n\".join(sentences)\n",
        "            embeddings = MODELS['embedding']['model'].encode(sentences, convert_to_tensor=True)\n",
        "            sim_matrix = cosine_similarity(embeddings.cpu().numpy())\n",
        "            graph = nx.from_numpy_array(sim_matrix)\n",
        "            scores = nx.pagerank(graph)\n",
        "            ranked_sentences = sorted(((scores[i], s) for i, s in enumerate(sentences)), reverse=True)\n",
        "            return \"\\n\".join([s for _, s in ranked_sentences[:num_sentences]])\n",
        "        except Exception as e: return f\"TextRank failed: {e}\"\n",
        "    return \"Unsupported model.\"\n",
        "\n",
        "# --- Enhanced Metrics and Visualization ---\n",
        "def calculate_metrics(summary, original_text, processing_time):\n",
        "    embedding_model = MODELS['embedding']['model']\n",
        "    embeddings = embedding_model.encode([original_text, summary])\n",
        "    semantic_sim = cosine_similarity([embeddings[0]], [embeddings[1]])[0][0]\n",
        "    return {\n",
        "        \"ROUGE-1\": round(rouge_metric.compute(predictions=[summary], references=[original_text])['rouge1'], 3),\n",
        "        \"ROUGE-2\": round(rouge_metric.compute(predictions=[summary], references=[original_text])['rouge2'], 3),\n",
        "        \"Semantic Similarity\": round(semantic_sim, 3),\n",
        "        \"Readability\": round(textstat.flesch_reading_ease(summary), 2),\n",
        "        \"Length (words)\": len(summary.split()),\n",
        "        \"Time (sec)\": round(processing_time, 2),\n",
        "        \"Compression\": f\"{(1 - (len(summary.split()) / len(original_text.split()))) * 100:.1f}%\" if len(original_text.split()) > 0 else \"N/A\"\n",
        "    }\n",
        "\n",
        "def create_bar_charts(metrics_df):\n",
        "    if metrics_df.empty: return None\n",
        "    df_sorted = metrics_df.sort_values(by=['Model']).reset_index(drop=True)\n",
        "    fig, axes = plt.subplots(1, 3, figsize=(18, 6))\n",
        "    fig.suptitle('Model Performance Comparison', fontsize=16)\n",
        "    sns.barplot(data=df_sorted, x='Model', y='ROUGE-1', ax=axes[0], palette='viridis').tick_params(axis='x', rotation=45)\n",
        "    axes[0].set_title('ROUGE-1 Score')\n",
        "    sns.barplot(data=df_sorted, x='Model', y='Semantic Similarity', ax=axes[1], palette='viridis').tick_params(axis='x', rotation=45)\n",
        "    axes[1].set_title('Semantic Similarity')\n",
        "    sns.barplot(data=df_sorted, x='Model', y='Time (sec)', ax=axes[2], palette='viridis').tick_params(axis='x', rotation=45)\n",
        "    axes[2].set_title('Processing Time (seconds)')\n",
        "    plt.tight_layout(rect=[0, 0.03, 1, 0.95])\n",
        "    return fig\n",
        "\n",
        "def create_radar_chart(metrics_df):\n",
        "    if metrics_df.empty: return None\n",
        "    metrics_to_plot = ['ROUGE-1', 'Semantic Similarity', 'Readability']\n",
        "    df_radar = metrics_df.copy()\n",
        "    df_radar['Readability'] = np.clip(df_radar['Readability'] / 100.0, 0, 1)\n",
        "    df_avg = df_radar.groupby('Model')[metrics_to_plot].mean().reset_index()\n",
        "    labels, num_vars = df_avg.columns[1:], len(df_avg.columns[1:])\n",
        "    angles = np.linspace(0, 2 * np.pi, num_vars, endpoint=False).tolist() + [0]\n",
        "    fig, ax = plt.subplots(figsize=(8, 8), subplot_kw=dict(polar=True))\n",
        "    for i, row in df_avg.iterrows():\n",
        "        values = row.drop('Model').tolist() + [row.drop('Model').tolist()[0]]\n",
        "        ax.plot(angles, values, label=row['Model'], linewidth=2)\n",
        "        ax.fill(angles, values, alpha=0.25)\n",
        "    ax.set_yticklabels([]); ax.set_xticks(angles[:-1]); ax.set_xticklabels(labels)\n",
        "    plt.legend(loc='upper right', bbox_to_anchor=(1.3, 1.1))\n",
        "    ax.set_title(\"Multi-Metric Model Comparison\", size=15, y=1.1)\n",
        "    return fig\n",
        "\n",
        "print(\"\u2705 Shared backend functions are defined.\")"
      ],
      "metadata": {
        "colab": {
          "base_uri": "https://localhost:8080/"
        },
        "id": "LjMepsbaulEU",
        "outputId": "4bee70a0-97af-48c3-e4c3-efdfbc723149"
      },
      "execution_count": 16,
      "outputs": [
        {
          "output_type": "stream",
          "name": "stdout",
          "text": [
            "\u2705 Shared backend functions are defined.\n"
          ]
        }
      ]
    },
    {
      "cell_type": "markdown",
      "source": [
        "## Section A: Summarize with All Models (Prompt UI)\n",
        "This UI is simplified for quick comparisons. Just paste your text, choose the summary type, and it will automatically run all compatible models.\n",
        "\n"
      ],
      "metadata": {
        "id": "1dpR3N3guq2k"
      }
    },
    {
      "cell_type": "code",
      "source": [
        "# --- SECTION A: RUN ALL MODELS UI ---\n",
        "\n",
        "import time\n",
        "import pandas as pd\n",
        "import ipywidgets as widgets\n",
        "from IPython.display import display, HTML\n",
        "\n",
        "# --- Ensure MODELS dictionary already has Gemma or others ---\n",
        "# Example:\n",
        "# MODELS = {\n",
        "#     \"gemma\": {\n",
        "#         \"tokenizer\": tokenizer_gemma,\n",
        "#         \"model\": model_gemma,\n",
        "#         \"name\": \"Gemma-2B-IT\"\n",
        "#     }\n",
        "# }\n",
        "\n",
        "# \u2705 Add embedding model for semantic similarity metrics\n",
        "from sentence_transformers import SentenceTransformer\n",
        "if 'embedding' not in MODELS:\n",
        "    MODELS['embedding'] = {\n",
        "        'name': 'Sentence-Transformer (All-MiniLM)',\n",
        "        'model': SentenceTransformer('all-MiniLM-L6-v2')\n",
        "    }\n",
        "\n",
        "# --- State and Choices ---\n",
        "metrics_history_all = []\n",
        "\n",
        "# \u2705 Build model choices dynamically (avoids KeyErrors)\n",
        "abstractive_candidates = ['tinyllama', 'phi', 'bart', 'gemma']\n",
        "extractive_candidates = ['tinyllama', 'phi', 'embedding', 'gemma']\n",
        "\n",
        "abstractive_model_choices = {\n",
        "    MODELS[k]['name']: k\n",
        "    for k in abstractive_candidates\n",
        "    if k in MODELS\n",
        "}\n",
        "\n",
        "extractive_model_choices = {\n",
        "    MODELS[k]['name']: k\n",
        "    for k in extractive_candidates\n",
        "    if k in MODELS\n",
        "}\n",
        "\n",
        "# --- UI Widgets ---\n",
        "header_all = widgets.HTML(\"\"\"\n",
        "<h2>Section A: Summarize with All Models</h2>\n",
        "<p>Paste text and choose a summary type. The system will automatically run all compatible models for a full comparison.</p>\n",
        "\"\"\")\n",
        "\n",
        "prompt_input_all = widgets.Textarea(\n",
        "    placeholder='Paste your text here to summarize...',\n",
        "    layout={'height': '200px', 'width': '99%'}\n",
        ")\n",
        "\n",
        "summary_type_all = widgets.RadioButtons(\n",
        "    options=['Abstractive', 'Extractive'],\n",
        "    value='Abstractive',\n",
        "    description='Summ. Type:'\n",
        ")\n",
        "\n",
        "generate_button_all = widgets.Button(\n",
        "    description='\ud83d\ude80 Generate All Summaries',\n",
        "    button_style='primary',\n",
        "    icon='cogs'\n",
        ")\n",
        "\n",
        "clear_button_all = widgets.Button(\n",
        "    description='\ud83e\uddf9 Clear Outputs',\n",
        "    button_style='warning',\n",
        "    icon='trash'\n",
        ")\n",
        "\n",
        "# --- Output Widgets ---\n",
        "summary_output_all = widgets.Output(\n",
        "    layout={'height': '400px', 'border': '1px solid #ccc', 'padding': '10px', 'overflow': 'scroll'}\n",
        ")\n",
        "metrics_table_output_all = widgets.Output()\n",
        "bar_plot_output_all = widgets.Output()\n",
        "radar_plot_output_all = widgets.Output()\n",
        "\n",
        "output_accordion_all = widgets.Accordion(\n",
        "    children=[metrics_table_output_all, bar_plot_output_all, radar_plot_output_all]\n",
        ")\n",
        "output_accordion_all.set_title(0, '\ud83d\udcca Metrics Table')\n",
        "output_accordion_all.set_title(1, '\ud83d\udcc8 Bar Charts')\n",
        "output_accordion_all.set_title(2, '\u2728 Radar Plot')\n",
        "\n",
        "\n",
        "# --- Safe calculate_metrics function ---\n",
        "def calculate_metrics(summary, original_text, processing_time):\n",
        "    from sklearn.metrics.pairwise import cosine_similarity\n",
        "    from nltk.translate.bleu_score import sentence_bleu\n",
        "    from rouge_score import rouge_scorer\n",
        "\n",
        "    rouge = rouge_scorer.RougeScorer(['rouge1', 'rougeL'], use_stemmer=True)\n",
        "    scores = rouge.score(original_text, summary)\n",
        "    rouge1, rougeL = scores['rouge1'].fmeasure, scores['rougeL'].fmeasure\n",
        "    bleu = sentence_bleu([original_text.split()], summary.split())\n",
        "\n",
        "    try:\n",
        "        embedding_model = MODELS['embedding']['model']\n",
        "        embeddings = embedding_model.encode([original_text, summary])\n",
        "        semantic_sim = cosine_similarity([embeddings[0]], [embeddings[1]])[0][0]\n",
        "    except KeyError:\n",
        "        semantic_sim = None\n",
        "\n",
        "    return {\n",
        "        'ROUGE-1': rouge1,\n",
        "        'ROUGE-L': rougeL,\n",
        "        'BLEU': bleu,\n",
        "        'Semantic Similarity': semantic_sim,  # <-- matches charts\n",
        "        'Processing Time (s)': processing_time\n",
        "    }\n",
        "\n",
        "\n",
        "# --- Event Handlers ---\n",
        "def on_generate_button_clicked_all(b):\n",
        "    generate_button_all.disabled = True\n",
        "    generate_button_all.description = \"Processing...\"\n",
        "    original_text, s_type = prompt_input_all.value, summary_type_all.value\n",
        "\n",
        "    if not original_text.strip():\n",
        "        with summary_output_all:\n",
        "            summary_output_all.clear_output()\n",
        "            print(\"\u26a0\ufe0f Please paste text to summarize.\")\n",
        "        generate_button_all.disabled = False\n",
        "        generate_button_all.description = \"\ud83d\ude80 Generate All Summaries\"\n",
        "        return\n",
        "\n",
        "    # \u2705 Dynamically select available model keys\n",
        "    s_keys = list(abstractive_model_choices.values()) if s_type == 'Abstractive' else list(extractive_model_choices.values())\n",
        "\n",
        "    if not s_keys:\n",
        "        with summary_output_all:\n",
        "            summary_output_all.clear_output()\n",
        "            print(\"\u26a0\ufe0f No compatible models are currently loaded in MODELS.\")\n",
        "        generate_button_all.disabled = False\n",
        "        generate_button_all.description = \"\ud83d\ude80 Generate All Summaries\"\n",
        "        return\n",
        "\n",
        "    with summary_output_all:\n",
        "        summary_output_all.clear_output()\n",
        "        display(HTML(f\"<hr><h2>Processing Pasted Text ({s_type})</h2>\"))\n",
        "\n",
        "    for model_key in s_keys:\n",
        "        model_name = MODELS[model_key]['name']\n",
        "        with summary_output_all:\n",
        "            print(f\"\u23f3 Summarizing with {model_name}...\")\n",
        "\n",
        "        start_time = time.time()\n",
        "\n",
        "        # --- Model summarization ---\n",
        "        if s_type == \"Abstractive\":\n",
        "            summary = summarize_abstractive(original_text, model_key)\n",
        "        else:\n",
        "            summary = summarize_extractive(original_text, model_key)\n",
        "\n",
        "        proc_time = time.time() - start_time\n",
        "\n",
        "        with summary_output_all:\n",
        "            display(HTML(f\"<h3>Summary from {model_name}</h3><p>{summary}</p>\"))\n",
        "\n",
        "        # --- Metrics ---\n",
        "        metrics = calculate_metrics(summary, original_text, proc_time)\n",
        "        metrics.update({'Model': model_name, 'File': 'Pasted Text', 'Type': s_type})\n",
        "        metrics_history_all.append(metrics)\n",
        "\n",
        "    # --- Display metrics ---\n",
        "    df = pd.DataFrame(metrics_history_all)\n",
        "    with metrics_table_output_all:\n",
        "        metrics_table_output_all.clear_output(wait=True)\n",
        "        display(df)\n",
        "\n",
        "    with bar_plot_output_all:\n",
        "        bar_plot_output_all.clear_output(wait=True)\n",
        "        if 'Semantic Similarity' not in df.columns:\n",
        "            df['Semantic Similarity'] = 0  # ensure column exists for chart\n",
        "        display(create_bar_charts(df))\n",
        "\n",
        "    with radar_plot_output_all:\n",
        "        radar_plot_output_all.clear_output(wait=True)\n",
        "        display(create_radar_chart(df))\n",
        "\n",
        "    generate_button_all.disabled = False\n",
        "    generate_button_all.description = \"\ud83d\ude80 Generate All Summaries\"\n",
        "\n",
        "\n",
        "def on_clear_button_clicked_all(b):\n",
        "    global metrics_history_all\n",
        "    metrics_history_all = []\n",
        "    summary_output_all.clear_output()\n",
        "    metrics_table_output_all.clear_output()\n",
        "    bar_plot_output_all.clear_output()\n",
        "    radar_plot_output_all.clear_output()\n",
        "    prompt_input_all.value = \"\"\n",
        "    with summary_output_all:\n",
        "        print(\"Outputs cleared.\")\n",
        "\n",
        "\n",
        "generate_button_all.on_click(on_generate_button_clicked_all)\n",
        "clear_button_all.on_click(on_clear_button_clicked_all)\n",
        "\n",
        "# --- Assemble and Display UI ---\n",
        "input_controls_all = widgets.VBox(\n",
        "    [prompt_input_all, summary_type_all, widgets.HBox([generate_button_all, clear_button_all])],\n",
        "    layout=widgets.Layout(width='35%', padding='10px', border='1px solid lightgrey', border_radius='5px')\n",
        ")\n",
        "\n",
        "output_area_all = widgets.VBox(\n",
        "    [summary_output_all, output_accordion_all],\n",
        "    layout=widgets.Layout(width='65%', padding='10px')\n",
        ")\n",
        "\n",
        "app_all = widgets.VBox([header_all, widgets.HBox([input_controls_all, output_area_all])])\n",
        "display(app_all)\n"
      ],
      "metadata": {
        "colab": {
          "base_uri": "https://localhost:8080/",
          "height": 1000,
          "referenced_widgets": [
            "e3fa35cc68944ac6b9dec7e714e8e77b",
            "9e30fc53e4924b26b8e47e31a747f4fb",
            "1bbbfb62b31c4d398385a7b6aebc1e60",
            "1340eb81bba64411bdb2ae6797509c0a",
            "3a08ff83ef40411398808dd586e491a5",
            "b78b78ee60084c828709f53e0f3af530",
            "c4f614a577524bb9be5e74da12712874",
            "90a7b32b78354162a018bb14c8df7f64",
            "e650c9b427f9483c9ee4183216173d70",
            "edcabe943e2e4bfb88bb2a228e68c3b9",
            "31eb054b29a84dabbc50d3573d909b53",
            "8471538e9d3f4861a534fbd282fc6dc9",
            "87f5682730ce4fabb793cfe66ef866f7",
            "a2d5e0140dae4973b062673c106cdebf",
            "920298536855460ca69cb02286e00e5f",
            "a8d891e83f1344b6ab3ac92d5f17e36f",
            "832e5bce1f78448e95c0b114c9d16a9d",
            "926aaae5c99847a2b871089242ed9ece",
            "f88ea59ae59849a8bdfd0c21571e688c",
            "7989852fd1b745cda32d79edcaa4ff64",
            "5b31fb4c989c4419abab5998fd68f76b",
            "c7e00bf1664444cfb875d533f850f104",
            "7f491cb8b2e34a0187eee88d5e2b83bd",
            "23be9ef0c5894a8d8dac3b44bf137977",
            "1bfac6aa8ed34acebc5108f318f38cef",
            "804a12dc4bf549e18a9c79cb540b7ff0",
            "52be1a4a4cbd4896b3bf47b313753c64",
            "6a36a06a4e584747b0614636e26b3421",
            "6dcf0861dfc94d9da0c1eb5ac299f7f8",
            "bb8bea6c0ce94114a51eb4060cd5c5f8",
            "c959094ad1e84bd6b6e2734eb73f4200",
            "c7eb46db05b44ce7a3a193b9d99840d2",
            "6c54677fc34349a581acb4df22a8680f",
            "d9903441502b48b98e9abc534d63dfa3",
            "826cd94b8e844e1abd685ba4582a7c05"
          ]
        },
        "id": "wMjrvH8TusNk",
        "outputId": "bec399d6-507c-4465-fd07-eb1979e16db0"
      },
      "execution_count": 24,
      "outputs": [
        {
          "output_type": "display_data",
          "data": {
            "text/plain": [
              "VBox(children=(HTML(value='\\n<h2>Section A: Summarize with All Models</h2>\\n<p>Paste text and choose a summary\u2026"
            ],
            "application/vnd.jupyter.widget-view+json": {
              "version_major": 2,
              "version_minor": 0,
              "model_id": "e3fa35cc68944ac6b9dec7e714e8e77b"
            }
          },
          "metadata": {}
        },
        {
          "output_type": "display_data",
          "data": {
            "text/plain": [
              "<Figure size 1800x600 with 3 Axes>"
            ],
            "image/png": "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\n"
          },
          "metadata": {}
        }
      ]
    },
    {
      "cell_type": "markdown",
      "source": [
        "## Section B: Summarize with Specific Models (Checkbox UI)\n",
        "This UI gives you fine-grained control, allowing you to select exactly which models you want to run using checkboxes.\n",
        "\n"
      ],
      "metadata": {
        "id": "KMoJVzf2uxUW"
      }
    },
    {
      "cell_type": "code",
      "source": [
        "# --- SECTION B: SELECT SPECIFIC MODELS UI ---\n",
        "\n",
        "# --- State and Choices ---\n",
        "metrics_history_specific = []\n",
        "# (Choices are reused from Section A)\n",
        "\n",
        "# --- UI Widget Definitions ---\n",
        "header_specific = widgets.HTML(\"<h2>Section B: Summarize with Specific Models</h2><p>Paste text, choose a summary type, and check the specific models you want to run.</p>\")\n",
        "prompt_input_specific = widgets.Textarea(placeholder='Paste your text here to summarize...', layout={'height': '200px', 'width': '99%'})\n",
        "summary_type_specific = widgets.RadioButtons(options=['Abstractive', 'Extractive'], value='Abstractive', description='Summ. Type:')\n",
        "model_checkboxes_out = widgets.Output() # A container for our dynamic checkboxes\n",
        "checkboxes = {}\n",
        "generate_button_specific = widgets.Button(description='\ud83d\ude80 Generate Summaries', button_style='primary', icon='cogs')\n",
        "clear_button_specific = widgets.Button(description='\ud83e\uddf9 Clear Outputs', button_style='warning', icon='trash')\n",
        "\n",
        "# --- Output Widget Definitions ---\n",
        "summary_output_specific = widgets.Output(layout={'height': '400px', 'border': '1px solid #ccc', 'padding': '10px', 'overflow': 'scroll'})\n",
        "metrics_table_output_specific = widgets.Output()\n",
        "bar_plot_output_specific = widgets.Output()\n",
        "radar_plot_output_specific = widgets.Output()\n",
        "output_accordion_specific = widgets.Accordion(children=[metrics_table_output_specific, bar_plot_output_specific, radar_plot_output_specific])\n",
        "output_accordion_specific.set_title(0, '\ud83d\udcca Metrics Table'); output_accordion_specific.set_title(1, '\ud83d\udcc8 Bar Charts'); output_accordion_specific.set_title(2, '\u2728 Radar Plot')\n",
        "\n",
        "# --- Event Handlers ---\n",
        "def update_checkboxes(s_type):\n",
        "    global checkboxes; checkboxes = {}\n",
        "    choices = abstractive_model_choices if s_type == 'Abstractive' else extractive_model_choices\n",
        "    with model_checkboxes_out:\n",
        "        model_checkboxes_out.clear_output(wait=True)\n",
        "        for name, key in choices.items():\n",
        "            checkboxes[key] = widgets.Checkbox(value=True, description=name)\n",
        "        display(widgets.VBox(list(checkboxes.values())))\n",
        "\n",
        "def on_generate_button_clicked_specific(b):\n",
        "    generate_button_specific.disabled = True; generate_button_specific.description = \"Processing...\"\n",
        "    original_text, s_type = prompt_input_specific.value, summary_type_specific.value\n",
        "    s_keys = [key for key, cb in checkboxes.items() if cb.value]\n",
        "\n",
        "    if not original_text.strip() or not s_keys:\n",
        "        with summary_output_specific: print(\"\u26a0\ufe0f Please paste text and check at least one model.\")\n",
        "        generate_button_specific.disabled = False; generate_button_specific.description = \"\ud83d\ude80 Generate Summaries\"; return\n",
        "\n",
        "    with summary_output_specific: display(HTML(f\"<hr><h2>Processing Pasted Text ({s_type})</h2>\"))\n",
        "    for model_key in s_keys:\n",
        "        model_name = MODELS[model_key]['name']\n",
        "        with summary_output_specific: print(f\"\u23f3 Summarizing with {model_name}...\")\n",
        "        start_time = time.time()\n",
        "        summary = summarize_abstractive(original_text, model_key) if s_type == \"Abstractive\" else summarize_extractive(original_text, model_key)\n",
        "        proc_time = time.time() - start_time\n",
        "        with summary_output_specific: display(HTML(f\"<h3>Summary from {model_name}</h3><p>{summary}</p>\"))\n",
        "        metrics = calculate_metrics(summary, original_text, proc_time)\n",
        "        metrics.update({'Model': model_name, 'File': 'Pasted Text', 'Type': s_type})\n",
        "        metrics_history_specific.append(metrics)\n",
        "\n",
        "    df = pd.DataFrame(metrics_history_specific)\n",
        "    with metrics_table_output_specific: metrics_table_output_specific.clear_output(wait=True); display(df)\n",
        "    with bar_plot_output_specific: bar_plot_output_specific.clear_output(wait=True); display(create_bar_charts(df))\n",
        "    with radar_plot_output_specific: radar_plot_output_specific.clear_output(wait=True); display(create_radar_chart(df))\n",
        "    generate_button_specific.disabled = False; generate_button_specific.description = \"\ud83d\ude80 Generate Summaries\"\n",
        "\n",
        "def on_clear_button_clicked_specific(b):\n",
        "    global metrics_history_specific; metrics_history_specific = []\n",
        "    summary_output_specific.clear_output(); metrics_table_output_specific.clear_output()\n",
        "    bar_plot_output_specific.clear_output(); radar_plot_output_specific.clear_output()\n",
        "    prompt_input_specific.value = \"\"\n",
        "    with summary_output_specific: print(\"Outputs cleared.\")\n",
        "\n",
        "def on_summary_type_change_specific(change):\n",
        "    update_checkboxes(change.new)\n",
        "\n",
        "generate_button_specific.on_click(on_generate_button_clicked_specific)\n",
        "clear_button_specific.on_click(on_clear_button_clicked_specific)\n",
        "summary_type_specific.observe(on_summary_type_change_specific, names='value')\n",
        "\n",
        "# --- Assemble and Display UI with FIXED Layout ---\n",
        "input_controls_specific = widgets.VBox(\n",
        "    [prompt_input_specific, summary_type_specific, widgets.Label(\"Select Models:\"), model_checkboxes_out, widgets.HBox([generate_button_specific, clear_button_specific])],\n",
        "    layout=widgets.Layout(width='35%', padding='10px', border='1px solid lightgrey', border_radius='5px')\n",
        ")\n",
        "output_area_specific = widgets.VBox(\n",
        "    [summary_output_specific, output_accordion_specific],\n",
        "    layout=widgets.Layout(width='65%', padding='10px')\n",
        ")\n",
        "app_specific = widgets.VBox([header_specific, widgets.HBox([input_controls_specific, output_area_specific])])\n",
        "\n",
        "# Initial population of checkboxes\n",
        "update_checkboxes('Abstractive')\n",
        "\n",
        "display(app_specific)"
      ],
      "metadata": {
        "colab": {
          "base_uri": "https://localhost:8080/",
          "height": 1000,
          "referenced_widgets": [
            "eaba09bb45c84158b9d04dab9d2a4e6c",
            "599f021503fd4192b8e3bcc2eaae950e",
            "ecb3edecd1a04049bc42352b22b0580a",
            "2431b3fb1a7342d594fd7fc25920b945",
            "2d112a1e4830443a97ca4361b562a9ef",
            "43c0b0df597a4bdeae695e01a20e4d92",
            "955249aa728e45eaae96100c3e4dd530",
            "b989b742711e4af18b35490862946cf5",
            "88b385c36b2b4e2286dd42d0b8e2182f",
            "40154d6a096341fe8e5c88727eff74c2",
            "076c6abcb0b84375a04c3c98cc260bde",
            "bbc2b5bc0ca34facba556b333cfa3610",
            "605b0ef2b19f4ce894db869bf17b6b6b",
            "fdec899cc9334c4fa572c3cbec6f4119",
            "ef6d76c08f294d83858a80f3451f5b26",
            "47d844966c5f4a52ac4b9805f93029be",
            "a7598548833141e6a5b64339961420ad",
            "7b885c83fc3c45d88a21aaad4a97aaf9",
            "922e335a7f7647909a3625aa41826438",
            "b61df706242244d889167e486bd582fc",
            "dd476d065e9e428ab70159611f2bb516",
            "d4d5647e8ce4424da50a00a3c162e33a",
            "5e0c3826039748ff8778e34604d374e0",
            "638936ba88d0430fb0e4482c7d7f690b",
            "b56e16674fb54e51a05463634078face",
            "17fd06ff7933491ebddc35750c0093c8",
            "a19adf908d604f2387e7c2d1c4ea78b4",
            "ce1eda8a03414fad8f08df7487e7862c",
            "184f6fc57abc47aa92647dd3b24678fd",
            "d7110101cc164d959c0c67bdc176f7ed",
            "97de81e3ad184b93a2fa42d9d5948719",
            "2711ecc0a62f41fe9c654c1fe1978dbe",
            "484917feea9f47119c51cccfb2726a99",
            "31238ea1c0c14b80b562ed263aa176e5",
            "71fd808d99f1436e8978e9e87f97a436",
            "6ba979d4f2ce4184b4fb2b068e92d464",
            "88819831c98c49c8a28318c5c9d51169",
            "0233f9aded55494295af63b1009f2792",
            "f490fd74726f4905ad71eb2cd4968ce8",
            "94cd9169d727488a87ec2b310fe01e27",
            "f55653780f8f4ef18910ba24d7bf057b",
            "67aed39c675049c29b2fb4c8423716c7",
            "4e2eb978c7e0421288ff2478c57e3183",
            "0594be9dcff247a88339d15e9503d238",
            "a008141ccd4f47c9b7f54897faa43f30"
          ]
        },
        "id": "GW0rfBW8uyn0",
        "outputId": "a34fd59b-7723-434f-8f53-2522fcea9683"
      },
      "execution_count": 25,
      "outputs": [
        {
          "output_type": "display_data",
          "data": {
            "text/plain": [
              "VBox(children=(HTML(value='<h2>Section B: Summarize with Specific Models</h2><p>Paste text, choose a summary t\u2026"
            ],
            "application/vnd.jupyter.widget-view+json": {
              "version_major": 2,
              "version_minor": 0,
              "model_id": "eaba09bb45c84158b9d04dab9d2a4e6c"
            }
          },
          "metadata": {}
        },
        {
          "output_type": "display_data",
          "data": {
            "text/plain": [
              "<Figure size 1800x600 with 3 Axes>"
            ],
            "image/png": "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\n"
          },
          "metadata": {}
        }
      ]
    }
  ]
}
